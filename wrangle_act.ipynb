{
 "cells": [
  {
   "cell_type": "markdown",
   "metadata": {
    "extensions": {
     "jupyter_dashboards": {
      "version": 1,
      "views": {
       "grid_default": {
        "col": 0,
        "height": 4,
        "hidden": false,
        "row": 0,
        "width": 4
       },
       "report_default": {
        "hidden": false
       }
      }
     }
    }
   },
   "source": [
    "# Project: Wrangling and Analyze Data"
   ]
  },
  {
   "cell_type": "code",
   "execution_count": 552,
   "metadata": {
    "extensions": {
     "jupyter_dashboards": {
      "version": 1,
      "views": {
       "grid_default": {
        "hidden": true
       },
       "report_default": {
        "hidden": true
       }
      }
     }
    }
   },
   "outputs": [],
   "source": [
    "import pandas as pd\n",
    "import numpy as np\n",
    "import requests as rq\n",
    "import tweepy as tw\n",
    "import json\n",
    "import os\n",
    "from itables import show\n",
    "import matplotlib.pyplot as plt"
   ]
  },
  {
   "cell_type": "markdown",
   "metadata": {},
   "source": [
    "## Data Gathering\n",
    "\n",
    "1. Read the csv file shared by WeRateDogs tweeter account directly into a dataframe:"
   ]
  },
  {
   "cell_type": "code",
   "execution_count": 2,
   "metadata": {},
   "outputs": [],
   "source": [
    "df_twArch = pd.read_csv('./input_data/twitter-archive-enhanced.csv')\n"
   ]
  },
  {
   "cell_type": "markdown",
   "metadata": {},
   "source": [
    "2. Download the tweet image prediction (image_predictions.tsv) using the request library"
   ]
  },
  {
   "cell_type": "code",
   "execution_count": 3,
   "metadata": {},
   "outputs": [],
   "source": [
    "url = 'https://d17h27t6h515a5.cloudfront.net/topher/2017/August/599fd2ad_image-predictions/image-predictions.tsv'\n",
    "response = rq.get(url)\n",
    "with open('./input_data/image-predictions.tsv', 'wb') as file:\n",
    "    file.write(response.content)\n",
    "    "
   ]
  },
  {
   "cell_type": "code",
   "execution_count": 5,
   "metadata": {},
   "outputs": [],
   "source": [
    "# load the tsv file data into a dataframe\n",
    "\n",
    "df_imgpred = pd.read_csv('./input_data/image-predictions.tsv', sep='\\t' )"
   ]
  },
  {
   "cell_type": "markdown",
   "metadata": {},
   "source": [
    "3. Use the Tweepy library to query additional data via the Twitter API (tweet_json.txt)"
   ]
  },
  {
   "cell_type": "code",
   "execution_count": 6,
   "metadata": {},
   "outputs": [],
   "source": [
    "# Tweeter API can be queried using a code similar to this.\n",
    "# I was not able to get access to tweeter developer account, because of tweeter new policies, therefore I wont be able to run the code and check its  validity fully!\n",
    "\n",
    "auth = tw.OAuthHandler('xxx', 'xxx')\n",
    "auth.set_access_token('xx-xxxx', 'xxx')\n",
    "api = tw.API(auth, \n",
    "                 parser = tw.parsers.JSONParser(), \n",
    "                 wait_on_rate_limit = True) #, wait_on_rate_limit_notify = True) # works for new version of tweepy! my env don't have the required version.\n",
    "\n",
    "# Use tweepy methods to download each tweet metrics\n",
    "\n",
    "tweets_list = []\n",
    "# If tweets are not found, capture them for any needed further analysis.\n",
    "tweets_not_found = []\n",
    "\n",
    "for tweet_id in df_twArch['tweet_id']:   \n",
    "    try:\n",
    "        tweets_list.append(api.get_status(tweet_id))\n",
    "    except Exception as e:\n",
    "        tweets_not_found.append(tweet_id)\n",
    "    "
   ]
  },
  {
   "cell_type": "code",
   "execution_count": 7,
   "metadata": {},
   "outputs": [],
   "source": [
    "# convert the list of dictinaries to a dataframe\n",
    "df_twMetrics = pd.DataFrame(tweets_list, columns=['response'])\n",
    "\n",
    "# use pandas dataframe methods to save json into a txt file without brackets []. each object is on its own line.\n",
    "df_twMetrics.to_json('./input_data/tweet_json.txt', orient='records', lines=True)\n"
   ]
  },
  {
   "cell_type": "code",
   "execution_count": 9,
   "metadata": {},
   "outputs": [],
   "source": [
    "# Read json file, and capture key\n",
    "metrics_list = []\n",
    "with open('./input_data/tweet-json.txt', 'r', encoding='utf-8') as file:\n",
    "    for row in file:\n",
    "        line = json.loads(row)\n",
    "        tweet_id = line['id']\n",
    "        favorite_count = line['favorite_count']\n",
    "        retweet_count = line['retweet_count']\n",
    "        followers_count = line['user']['followers_count']\n",
    "        friends_count = line['user']['friends_count']\n",
    "        tweet_text = line['full_text']\n",
    "        text_url = tweet_text[tweet_text.find('https'):]\n",
    "        source = line['source']\n",
    "        source_text = source[source.find('rel=\"nofollow\">') + 15:-4]\n",
    "        retweeted_flag = line['retweeted']\n",
    "        retweeted_status = 'original' if line.get('retweeted_status', 'original') == 'original' else 'retweet'\n",
    "        metrics_list.append({'tweet_id': str(tweet_id),\n",
    "                             'favorite_count': int(favorite_count),\n",
    "                             'retweet_count': int(retweet_count),\n",
    "                             'followers_count': int(followers_count),\n",
    "                             'friends_count': int(friends_count),\n",
    "                             'url': text_url,\n",
    "                             'source': source_text,\n",
    "                             'retweeted_flag': retweeted_flag,\n",
    "                             'retweeted_status': retweeted_status,\n",
    "                            })\n",
    "\n",
    "df_twMetrics = pd.DataFrame(metrics_list, columns = ['tweet_id', 'favorite_count','retweet_count', \n",
    "                                                           'followers_count', 'friends_count','source', 'retweeted_flag',\n",
    "                                                           'retweeted_status', 'url'])"
   ]
  },
  {
   "cell_type": "code",
   "execution_count": 706,
   "metadata": {},
   "outputs": [
    {
     "data": {
      "text/plain": [
       "['twitter-archive-enhanced.csv',\n",
       " 'tweet-json.txt',\n",
       " '.ipynb_checkpoints',\n",
       " 'image-predictions.tsv']"
      ]
     },
     "execution_count": 706,
     "metadata": {},
     "output_type": "execute_result"
    }
   ],
   "source": [
    "# view files present in the data directory\n",
    "os.listdir('./input_data')\n"
   ]
  },
  {
   "cell_type": "markdown",
   "metadata": {
    "extensions": {
     "jupyter_dashboards": {
      "version": 1,
      "views": {
       "grid_default": {
        "col": 4,
        "height": 4,
        "hidden": false,
        "row": 28,
        "width": 4
       },
       "report_default": {
        "hidden": false
       }
      }
     }
    }
   },
   "source": [
    "## Assessing Data\n"
   ]
  },
  {
   "cell_type": "markdown",
   "metadata": {},
   "source": [
    "#### 1- Inspect df_twArch dataframe"
   ]
  },
  {
   "cell_type": "code",
   "execution_count": 8,
   "metadata": {},
   "outputs": [
    {
     "data": {
      "text/html": [
       "<div>\n",
       "<style scoped>\n",
       "    .dataframe tbody tr th:only-of-type {\n",
       "        vertical-align: middle;\n",
       "    }\n",
       "\n",
       "    .dataframe tbody tr th {\n",
       "        vertical-align: top;\n",
       "    }\n",
       "\n",
       "    .dataframe thead th {\n",
       "        text-align: right;\n",
       "    }\n",
       "</style>\n",
       "<table border=\"1\" class=\"dataframe\">\n",
       "  <thead>\n",
       "    <tr style=\"text-align: right;\">\n",
       "      <th></th>\n",
       "      <th>tweet_id</th>\n",
       "      <th>in_reply_to_status_id</th>\n",
       "      <th>in_reply_to_user_id</th>\n",
       "      <th>timestamp</th>\n",
       "      <th>source</th>\n",
       "      <th>text</th>\n",
       "      <th>retweeted_status_id</th>\n",
       "      <th>retweeted_status_user_id</th>\n",
       "      <th>retweeted_status_timestamp</th>\n",
       "      <th>expanded_urls</th>\n",
       "      <th>rating_numerator</th>\n",
       "      <th>rating_denominator</th>\n",
       "      <th>name</th>\n",
       "      <th>doggo</th>\n",
       "      <th>floofer</th>\n",
       "      <th>pupper</th>\n",
       "      <th>puppo</th>\n",
       "    </tr>\n",
       "  </thead>\n",
       "  <tbody>\n",
       "    <tr>\n",
       "      <th>0</th>\n",
       "      <td>892420643555336193</td>\n",
       "      <td>NaN</td>\n",
       "      <td>NaN</td>\n",
       "      <td>2017-08-01 16:23:56 +0000</td>\n",
       "      <td>&lt;a href=\"http://twitter.com/download/iphone\" r...</td>\n",
       "      <td>This is Phineas. He's a mystical boy. Only eve...</td>\n",
       "      <td>NaN</td>\n",
       "      <td>NaN</td>\n",
       "      <td>NaN</td>\n",
       "      <td>https://twitter.com/dog_rates/status/892420643...</td>\n",
       "      <td>13</td>\n",
       "      <td>10</td>\n",
       "      <td>Phineas</td>\n",
       "      <td>None</td>\n",
       "      <td>None</td>\n",
       "      <td>None</td>\n",
       "      <td>None</td>\n",
       "    </tr>\n",
       "    <tr>\n",
       "      <th>1</th>\n",
       "      <td>892177421306343426</td>\n",
       "      <td>NaN</td>\n",
       "      <td>NaN</td>\n",
       "      <td>2017-08-01 00:17:27 +0000</td>\n",
       "      <td>&lt;a href=\"http://twitter.com/download/iphone\" r...</td>\n",
       "      <td>This is Tilly. She's just checking pup on you....</td>\n",
       "      <td>NaN</td>\n",
       "      <td>NaN</td>\n",
       "      <td>NaN</td>\n",
       "      <td>https://twitter.com/dog_rates/status/892177421...</td>\n",
       "      <td>13</td>\n",
       "      <td>10</td>\n",
       "      <td>Tilly</td>\n",
       "      <td>None</td>\n",
       "      <td>None</td>\n",
       "      <td>None</td>\n",
       "      <td>None</td>\n",
       "    </tr>\n",
       "    <tr>\n",
       "      <th>2</th>\n",
       "      <td>891815181378084864</td>\n",
       "      <td>NaN</td>\n",
       "      <td>NaN</td>\n",
       "      <td>2017-07-31 00:18:03 +0000</td>\n",
       "      <td>&lt;a href=\"http://twitter.com/download/iphone\" r...</td>\n",
       "      <td>This is Archie. He is a rare Norwegian Pouncin...</td>\n",
       "      <td>NaN</td>\n",
       "      <td>NaN</td>\n",
       "      <td>NaN</td>\n",
       "      <td>https://twitter.com/dog_rates/status/891815181...</td>\n",
       "      <td>12</td>\n",
       "      <td>10</td>\n",
       "      <td>Archie</td>\n",
       "      <td>None</td>\n",
       "      <td>None</td>\n",
       "      <td>None</td>\n",
       "      <td>None</td>\n",
       "    </tr>\n",
       "    <tr>\n",
       "      <th>3</th>\n",
       "      <td>891689557279858688</td>\n",
       "      <td>NaN</td>\n",
       "      <td>NaN</td>\n",
       "      <td>2017-07-30 15:58:51 +0000</td>\n",
       "      <td>&lt;a href=\"http://twitter.com/download/iphone\" r...</td>\n",
       "      <td>This is Darla. She commenced a snooze mid meal...</td>\n",
       "      <td>NaN</td>\n",
       "      <td>NaN</td>\n",
       "      <td>NaN</td>\n",
       "      <td>https://twitter.com/dog_rates/status/891689557...</td>\n",
       "      <td>13</td>\n",
       "      <td>10</td>\n",
       "      <td>Darla</td>\n",
       "      <td>None</td>\n",
       "      <td>None</td>\n",
       "      <td>None</td>\n",
       "      <td>None</td>\n",
       "    </tr>\n",
       "    <tr>\n",
       "      <th>4</th>\n",
       "      <td>891327558926688256</td>\n",
       "      <td>NaN</td>\n",
       "      <td>NaN</td>\n",
       "      <td>2017-07-29 16:00:24 +0000</td>\n",
       "      <td>&lt;a href=\"http://twitter.com/download/iphone\" r...</td>\n",
       "      <td>This is Franklin. He would like you to stop ca...</td>\n",
       "      <td>NaN</td>\n",
       "      <td>NaN</td>\n",
       "      <td>NaN</td>\n",
       "      <td>https://twitter.com/dog_rates/status/891327558...</td>\n",
       "      <td>12</td>\n",
       "      <td>10</td>\n",
       "      <td>Franklin</td>\n",
       "      <td>None</td>\n",
       "      <td>None</td>\n",
       "      <td>None</td>\n",
       "      <td>None</td>\n",
       "    </tr>\n",
       "    <tr>\n",
       "      <th>5</th>\n",
       "      <td>891087950875897856</td>\n",
       "      <td>NaN</td>\n",
       "      <td>NaN</td>\n",
       "      <td>2017-07-29 00:08:17 +0000</td>\n",
       "      <td>&lt;a href=\"http://twitter.com/download/iphone\" r...</td>\n",
       "      <td>Here we have a majestic great white breaching ...</td>\n",
       "      <td>NaN</td>\n",
       "      <td>NaN</td>\n",
       "      <td>NaN</td>\n",
       "      <td>https://twitter.com/dog_rates/status/891087950...</td>\n",
       "      <td>13</td>\n",
       "      <td>10</td>\n",
       "      <td>None</td>\n",
       "      <td>None</td>\n",
       "      <td>None</td>\n",
       "      <td>None</td>\n",
       "      <td>None</td>\n",
       "    </tr>\n",
       "    <tr>\n",
       "      <th>6</th>\n",
       "      <td>890971913173991426</td>\n",
       "      <td>NaN</td>\n",
       "      <td>NaN</td>\n",
       "      <td>2017-07-28 16:27:12 +0000</td>\n",
       "      <td>&lt;a href=\"http://twitter.com/download/iphone\" r...</td>\n",
       "      <td>Meet Jax. He enjoys ice cream so much he gets ...</td>\n",
       "      <td>NaN</td>\n",
       "      <td>NaN</td>\n",
       "      <td>NaN</td>\n",
       "      <td>https://gofundme.com/ydvmve-surgery-for-jax,ht...</td>\n",
       "      <td>13</td>\n",
       "      <td>10</td>\n",
       "      <td>Jax</td>\n",
       "      <td>None</td>\n",
       "      <td>None</td>\n",
       "      <td>None</td>\n",
       "      <td>None</td>\n",
       "    </tr>\n",
       "    <tr>\n",
       "      <th>7</th>\n",
       "      <td>890729181411237888</td>\n",
       "      <td>NaN</td>\n",
       "      <td>NaN</td>\n",
       "      <td>2017-07-28 00:22:40 +0000</td>\n",
       "      <td>&lt;a href=\"http://twitter.com/download/iphone\" r...</td>\n",
       "      <td>When you watch your owner call another dog a g...</td>\n",
       "      <td>NaN</td>\n",
       "      <td>NaN</td>\n",
       "      <td>NaN</td>\n",
       "      <td>https://twitter.com/dog_rates/status/890729181...</td>\n",
       "      <td>13</td>\n",
       "      <td>10</td>\n",
       "      <td>None</td>\n",
       "      <td>None</td>\n",
       "      <td>None</td>\n",
       "      <td>None</td>\n",
       "      <td>None</td>\n",
       "    </tr>\n",
       "    <tr>\n",
       "      <th>8</th>\n",
       "      <td>890609185150312448</td>\n",
       "      <td>NaN</td>\n",
       "      <td>NaN</td>\n",
       "      <td>2017-07-27 16:25:51 +0000</td>\n",
       "      <td>&lt;a href=\"http://twitter.com/download/iphone\" r...</td>\n",
       "      <td>This is Zoey. She doesn't want to be one of th...</td>\n",
       "      <td>NaN</td>\n",
       "      <td>NaN</td>\n",
       "      <td>NaN</td>\n",
       "      <td>https://twitter.com/dog_rates/status/890609185...</td>\n",
       "      <td>13</td>\n",
       "      <td>10</td>\n",
       "      <td>Zoey</td>\n",
       "      <td>None</td>\n",
       "      <td>None</td>\n",
       "      <td>None</td>\n",
       "      <td>None</td>\n",
       "    </tr>\n",
       "    <tr>\n",
       "      <th>9</th>\n",
       "      <td>890240255349198849</td>\n",
       "      <td>NaN</td>\n",
       "      <td>NaN</td>\n",
       "      <td>2017-07-26 15:59:51 +0000</td>\n",
       "      <td>&lt;a href=\"http://twitter.com/download/iphone\" r...</td>\n",
       "      <td>This is Cassie. She is a college pup. Studying...</td>\n",
       "      <td>NaN</td>\n",
       "      <td>NaN</td>\n",
       "      <td>NaN</td>\n",
       "      <td>https://twitter.com/dog_rates/status/890240255...</td>\n",
       "      <td>14</td>\n",
       "      <td>10</td>\n",
       "      <td>Cassie</td>\n",
       "      <td>doggo</td>\n",
       "      <td>None</td>\n",
       "      <td>None</td>\n",
       "      <td>None</td>\n",
       "    </tr>\n",
       "  </tbody>\n",
       "</table>\n",
       "</div>"
      ],
      "text/plain": [
       "             tweet_id  in_reply_to_status_id  in_reply_to_user_id  \\\n",
       "0  892420643555336193                    NaN                  NaN   \n",
       "1  892177421306343426                    NaN                  NaN   \n",
       "2  891815181378084864                    NaN                  NaN   \n",
       "3  891689557279858688                    NaN                  NaN   \n",
       "4  891327558926688256                    NaN                  NaN   \n",
       "5  891087950875897856                    NaN                  NaN   \n",
       "6  890971913173991426                    NaN                  NaN   \n",
       "7  890729181411237888                    NaN                  NaN   \n",
       "8  890609185150312448                    NaN                  NaN   \n",
       "9  890240255349198849                    NaN                  NaN   \n",
       "\n",
       "                   timestamp  \\\n",
       "0  2017-08-01 16:23:56 +0000   \n",
       "1  2017-08-01 00:17:27 +0000   \n",
       "2  2017-07-31 00:18:03 +0000   \n",
       "3  2017-07-30 15:58:51 +0000   \n",
       "4  2017-07-29 16:00:24 +0000   \n",
       "5  2017-07-29 00:08:17 +0000   \n",
       "6  2017-07-28 16:27:12 +0000   \n",
       "7  2017-07-28 00:22:40 +0000   \n",
       "8  2017-07-27 16:25:51 +0000   \n",
       "9  2017-07-26 15:59:51 +0000   \n",
       "\n",
       "                                              source  \\\n",
       "0  <a href=\"http://twitter.com/download/iphone\" r...   \n",
       "1  <a href=\"http://twitter.com/download/iphone\" r...   \n",
       "2  <a href=\"http://twitter.com/download/iphone\" r...   \n",
       "3  <a href=\"http://twitter.com/download/iphone\" r...   \n",
       "4  <a href=\"http://twitter.com/download/iphone\" r...   \n",
       "5  <a href=\"http://twitter.com/download/iphone\" r...   \n",
       "6  <a href=\"http://twitter.com/download/iphone\" r...   \n",
       "7  <a href=\"http://twitter.com/download/iphone\" r...   \n",
       "8  <a href=\"http://twitter.com/download/iphone\" r...   \n",
       "9  <a href=\"http://twitter.com/download/iphone\" r...   \n",
       "\n",
       "                                                text  retweeted_status_id  \\\n",
       "0  This is Phineas. He's a mystical boy. Only eve...                  NaN   \n",
       "1  This is Tilly. She's just checking pup on you....                  NaN   \n",
       "2  This is Archie. He is a rare Norwegian Pouncin...                  NaN   \n",
       "3  This is Darla. She commenced a snooze mid meal...                  NaN   \n",
       "4  This is Franklin. He would like you to stop ca...                  NaN   \n",
       "5  Here we have a majestic great white breaching ...                  NaN   \n",
       "6  Meet Jax. He enjoys ice cream so much he gets ...                  NaN   \n",
       "7  When you watch your owner call another dog a g...                  NaN   \n",
       "8  This is Zoey. She doesn't want to be one of th...                  NaN   \n",
       "9  This is Cassie. She is a college pup. Studying...                  NaN   \n",
       "\n",
       "   retweeted_status_user_id retweeted_status_timestamp  \\\n",
       "0                       NaN                        NaN   \n",
       "1                       NaN                        NaN   \n",
       "2                       NaN                        NaN   \n",
       "3                       NaN                        NaN   \n",
       "4                       NaN                        NaN   \n",
       "5                       NaN                        NaN   \n",
       "6                       NaN                        NaN   \n",
       "7                       NaN                        NaN   \n",
       "8                       NaN                        NaN   \n",
       "9                       NaN                        NaN   \n",
       "\n",
       "                                       expanded_urls  rating_numerator  \\\n",
       "0  https://twitter.com/dog_rates/status/892420643...                13   \n",
       "1  https://twitter.com/dog_rates/status/892177421...                13   \n",
       "2  https://twitter.com/dog_rates/status/891815181...                12   \n",
       "3  https://twitter.com/dog_rates/status/891689557...                13   \n",
       "4  https://twitter.com/dog_rates/status/891327558...                12   \n",
       "5  https://twitter.com/dog_rates/status/891087950...                13   \n",
       "6  https://gofundme.com/ydvmve-surgery-for-jax,ht...                13   \n",
       "7  https://twitter.com/dog_rates/status/890729181...                13   \n",
       "8  https://twitter.com/dog_rates/status/890609185...                13   \n",
       "9  https://twitter.com/dog_rates/status/890240255...                14   \n",
       "\n",
       "   rating_denominator      name  doggo floofer pupper puppo  \n",
       "0                  10   Phineas   None    None   None  None  \n",
       "1                  10     Tilly   None    None   None  None  \n",
       "2                  10    Archie   None    None   None  None  \n",
       "3                  10     Darla   None    None   None  None  \n",
       "4                  10  Franklin   None    None   None  None  \n",
       "5                  10      None   None    None   None  None  \n",
       "6                  10       Jax   None    None   None  None  \n",
       "7                  10      None   None    None   None  None  \n",
       "8                  10      Zoey   None    None   None  None  \n",
       "9                  10    Cassie  doggo    None   None  None  "
      ]
     },
     "execution_count": 8,
     "metadata": {},
     "output_type": "execute_result"
    }
   ],
   "source": [
    "# top 10 rows from the twitter archive dataframe\n",
    "df_twArch.head(10)\n"
   ]
  },
  {
   "cell_type": "code",
   "execution_count": 28,
   "metadata": {},
   "outputs": [
    {
     "data": {
      "text/html": [
       "<div>\n",
       "<style scoped>\n",
       "    .dataframe tbody tr th:only-of-type {\n",
       "        vertical-align: middle;\n",
       "    }\n",
       "\n",
       "    .dataframe tbody tr th {\n",
       "        vertical-align: top;\n",
       "    }\n",
       "\n",
       "    .dataframe thead th {\n",
       "        text-align: right;\n",
       "    }\n",
       "</style>\n",
       "<table border=\"1\" class=\"dataframe\">\n",
       "  <thead>\n",
       "    <tr style=\"text-align: right;\">\n",
       "      <th></th>\n",
       "      <th>tweet_id</th>\n",
       "      <th>in_reply_to_status_id</th>\n",
       "      <th>in_reply_to_user_id</th>\n",
       "      <th>timestamp</th>\n",
       "      <th>source</th>\n",
       "      <th>text</th>\n",
       "      <th>retweeted_status_id</th>\n",
       "      <th>retweeted_status_user_id</th>\n",
       "      <th>retweeted_status_timestamp</th>\n",
       "      <th>expanded_urls</th>\n",
       "      <th>rating_numerator</th>\n",
       "      <th>rating_denominator</th>\n",
       "      <th>name</th>\n",
       "      <th>doggo</th>\n",
       "      <th>floofer</th>\n",
       "      <th>pupper</th>\n",
       "      <th>puppo</th>\n",
       "    </tr>\n",
       "  </thead>\n",
       "  <tbody>\n",
       "    <tr>\n",
       "      <th>2346</th>\n",
       "      <td>666058600524156928</td>\n",
       "      <td>NaN</td>\n",
       "      <td>NaN</td>\n",
       "      <td>2015-11-16 01:01:59 +0000</td>\n",
       "      <td>&lt;a href=\"http://twitter.com/download/iphone\" r...</td>\n",
       "      <td>Here is the Rand Paul of retrievers folks! He'...</td>\n",
       "      <td>NaN</td>\n",
       "      <td>NaN</td>\n",
       "      <td>NaN</td>\n",
       "      <td>https://twitter.com/dog_rates/status/666058600...</td>\n",
       "      <td>8</td>\n",
       "      <td>10</td>\n",
       "      <td>the</td>\n",
       "      <td>None</td>\n",
       "      <td>None</td>\n",
       "      <td>None</td>\n",
       "      <td>None</td>\n",
       "    </tr>\n",
       "    <tr>\n",
       "      <th>2347</th>\n",
       "      <td>666057090499244032</td>\n",
       "      <td>NaN</td>\n",
       "      <td>NaN</td>\n",
       "      <td>2015-11-16 00:55:59 +0000</td>\n",
       "      <td>&lt;a href=\"http://twitter.com/download/iphone\" r...</td>\n",
       "      <td>My oh my. This is a rare blond Canadian terrie...</td>\n",
       "      <td>NaN</td>\n",
       "      <td>NaN</td>\n",
       "      <td>NaN</td>\n",
       "      <td>https://twitter.com/dog_rates/status/666057090...</td>\n",
       "      <td>9</td>\n",
       "      <td>10</td>\n",
       "      <td>a</td>\n",
       "      <td>None</td>\n",
       "      <td>None</td>\n",
       "      <td>None</td>\n",
       "      <td>None</td>\n",
       "    </tr>\n",
       "    <tr>\n",
       "      <th>2348</th>\n",
       "      <td>666055525042405380</td>\n",
       "      <td>NaN</td>\n",
       "      <td>NaN</td>\n",
       "      <td>2015-11-16 00:49:46 +0000</td>\n",
       "      <td>&lt;a href=\"http://twitter.com/download/iphone\" r...</td>\n",
       "      <td>Here is a Siberian heavily armored polar bear ...</td>\n",
       "      <td>NaN</td>\n",
       "      <td>NaN</td>\n",
       "      <td>NaN</td>\n",
       "      <td>https://twitter.com/dog_rates/status/666055525...</td>\n",
       "      <td>10</td>\n",
       "      <td>10</td>\n",
       "      <td>a</td>\n",
       "      <td>None</td>\n",
       "      <td>None</td>\n",
       "      <td>None</td>\n",
       "      <td>None</td>\n",
       "    </tr>\n",
       "    <tr>\n",
       "      <th>2349</th>\n",
       "      <td>666051853826850816</td>\n",
       "      <td>NaN</td>\n",
       "      <td>NaN</td>\n",
       "      <td>2015-11-16 00:35:11 +0000</td>\n",
       "      <td>&lt;a href=\"http://twitter.com/download/iphone\" r...</td>\n",
       "      <td>This is an odd dog. Hard on the outside but lo...</td>\n",
       "      <td>NaN</td>\n",
       "      <td>NaN</td>\n",
       "      <td>NaN</td>\n",
       "      <td>https://twitter.com/dog_rates/status/666051853...</td>\n",
       "      <td>2</td>\n",
       "      <td>10</td>\n",
       "      <td>an</td>\n",
       "      <td>None</td>\n",
       "      <td>None</td>\n",
       "      <td>None</td>\n",
       "      <td>None</td>\n",
       "    </tr>\n",
       "    <tr>\n",
       "      <th>2350</th>\n",
       "      <td>666050758794694657</td>\n",
       "      <td>NaN</td>\n",
       "      <td>NaN</td>\n",
       "      <td>2015-11-16 00:30:50 +0000</td>\n",
       "      <td>&lt;a href=\"http://twitter.com/download/iphone\" r...</td>\n",
       "      <td>This is a truly beautiful English Wilson Staff...</td>\n",
       "      <td>NaN</td>\n",
       "      <td>NaN</td>\n",
       "      <td>NaN</td>\n",
       "      <td>https://twitter.com/dog_rates/status/666050758...</td>\n",
       "      <td>10</td>\n",
       "      <td>10</td>\n",
       "      <td>a</td>\n",
       "      <td>None</td>\n",
       "      <td>None</td>\n",
       "      <td>None</td>\n",
       "      <td>None</td>\n",
       "    </tr>\n",
       "    <tr>\n",
       "      <th>2351</th>\n",
       "      <td>666049248165822465</td>\n",
       "      <td>NaN</td>\n",
       "      <td>NaN</td>\n",
       "      <td>2015-11-16 00:24:50 +0000</td>\n",
       "      <td>&lt;a href=\"http://twitter.com/download/iphone\" r...</td>\n",
       "      <td>Here we have a 1949 1st generation vulpix. Enj...</td>\n",
       "      <td>NaN</td>\n",
       "      <td>NaN</td>\n",
       "      <td>NaN</td>\n",
       "      <td>https://twitter.com/dog_rates/status/666049248...</td>\n",
       "      <td>5</td>\n",
       "      <td>10</td>\n",
       "      <td>None</td>\n",
       "      <td>None</td>\n",
       "      <td>None</td>\n",
       "      <td>None</td>\n",
       "      <td>None</td>\n",
       "    </tr>\n",
       "    <tr>\n",
       "      <th>2352</th>\n",
       "      <td>666044226329800704</td>\n",
       "      <td>NaN</td>\n",
       "      <td>NaN</td>\n",
       "      <td>2015-11-16 00:04:52 +0000</td>\n",
       "      <td>&lt;a href=\"http://twitter.com/download/iphone\" r...</td>\n",
       "      <td>This is a purebred Piers Morgan. Loves to Netf...</td>\n",
       "      <td>NaN</td>\n",
       "      <td>NaN</td>\n",
       "      <td>NaN</td>\n",
       "      <td>https://twitter.com/dog_rates/status/666044226...</td>\n",
       "      <td>6</td>\n",
       "      <td>10</td>\n",
       "      <td>a</td>\n",
       "      <td>None</td>\n",
       "      <td>None</td>\n",
       "      <td>None</td>\n",
       "      <td>None</td>\n",
       "    </tr>\n",
       "    <tr>\n",
       "      <th>2353</th>\n",
       "      <td>666033412701032449</td>\n",
       "      <td>NaN</td>\n",
       "      <td>NaN</td>\n",
       "      <td>2015-11-15 23:21:54 +0000</td>\n",
       "      <td>&lt;a href=\"http://twitter.com/download/iphone\" r...</td>\n",
       "      <td>Here is a very happy pup. Big fan of well-main...</td>\n",
       "      <td>NaN</td>\n",
       "      <td>NaN</td>\n",
       "      <td>NaN</td>\n",
       "      <td>https://twitter.com/dog_rates/status/666033412...</td>\n",
       "      <td>9</td>\n",
       "      <td>10</td>\n",
       "      <td>a</td>\n",
       "      <td>None</td>\n",
       "      <td>None</td>\n",
       "      <td>None</td>\n",
       "      <td>None</td>\n",
       "    </tr>\n",
       "    <tr>\n",
       "      <th>2354</th>\n",
       "      <td>666029285002620928</td>\n",
       "      <td>NaN</td>\n",
       "      <td>NaN</td>\n",
       "      <td>2015-11-15 23:05:30 +0000</td>\n",
       "      <td>&lt;a href=\"http://twitter.com/download/iphone\" r...</td>\n",
       "      <td>This is a western brown Mitsubishi terrier. Up...</td>\n",
       "      <td>NaN</td>\n",
       "      <td>NaN</td>\n",
       "      <td>NaN</td>\n",
       "      <td>https://twitter.com/dog_rates/status/666029285...</td>\n",
       "      <td>7</td>\n",
       "      <td>10</td>\n",
       "      <td>a</td>\n",
       "      <td>None</td>\n",
       "      <td>None</td>\n",
       "      <td>None</td>\n",
       "      <td>None</td>\n",
       "    </tr>\n",
       "    <tr>\n",
       "      <th>2355</th>\n",
       "      <td>666020888022790149</td>\n",
       "      <td>NaN</td>\n",
       "      <td>NaN</td>\n",
       "      <td>2015-11-15 22:32:08 +0000</td>\n",
       "      <td>&lt;a href=\"http://twitter.com/download/iphone\" r...</td>\n",
       "      <td>Here we have a Japanese Irish Setter. Lost eye...</td>\n",
       "      <td>NaN</td>\n",
       "      <td>NaN</td>\n",
       "      <td>NaN</td>\n",
       "      <td>https://twitter.com/dog_rates/status/666020888...</td>\n",
       "      <td>8</td>\n",
       "      <td>10</td>\n",
       "      <td>None</td>\n",
       "      <td>None</td>\n",
       "      <td>None</td>\n",
       "      <td>None</td>\n",
       "      <td>None</td>\n",
       "    </tr>\n",
       "  </tbody>\n",
       "</table>\n",
       "</div>"
      ],
      "text/plain": [
       "                tweet_id  in_reply_to_status_id  in_reply_to_user_id  \\\n",
       "2346  666058600524156928                    NaN                  NaN   \n",
       "2347  666057090499244032                    NaN                  NaN   \n",
       "2348  666055525042405380                    NaN                  NaN   \n",
       "2349  666051853826850816                    NaN                  NaN   \n",
       "2350  666050758794694657                    NaN                  NaN   \n",
       "2351  666049248165822465                    NaN                  NaN   \n",
       "2352  666044226329800704                    NaN                  NaN   \n",
       "2353  666033412701032449                    NaN                  NaN   \n",
       "2354  666029285002620928                    NaN                  NaN   \n",
       "2355  666020888022790149                    NaN                  NaN   \n",
       "\n",
       "                      timestamp  \\\n",
       "2346  2015-11-16 01:01:59 +0000   \n",
       "2347  2015-11-16 00:55:59 +0000   \n",
       "2348  2015-11-16 00:49:46 +0000   \n",
       "2349  2015-11-16 00:35:11 +0000   \n",
       "2350  2015-11-16 00:30:50 +0000   \n",
       "2351  2015-11-16 00:24:50 +0000   \n",
       "2352  2015-11-16 00:04:52 +0000   \n",
       "2353  2015-11-15 23:21:54 +0000   \n",
       "2354  2015-11-15 23:05:30 +0000   \n",
       "2355  2015-11-15 22:32:08 +0000   \n",
       "\n",
       "                                                 source  \\\n",
       "2346  <a href=\"http://twitter.com/download/iphone\" r...   \n",
       "2347  <a href=\"http://twitter.com/download/iphone\" r...   \n",
       "2348  <a href=\"http://twitter.com/download/iphone\" r...   \n",
       "2349  <a href=\"http://twitter.com/download/iphone\" r...   \n",
       "2350  <a href=\"http://twitter.com/download/iphone\" r...   \n",
       "2351  <a href=\"http://twitter.com/download/iphone\" r...   \n",
       "2352  <a href=\"http://twitter.com/download/iphone\" r...   \n",
       "2353  <a href=\"http://twitter.com/download/iphone\" r...   \n",
       "2354  <a href=\"http://twitter.com/download/iphone\" r...   \n",
       "2355  <a href=\"http://twitter.com/download/iphone\" r...   \n",
       "\n",
       "                                                   text  retweeted_status_id  \\\n",
       "2346  Here is the Rand Paul of retrievers folks! He'...                  NaN   \n",
       "2347  My oh my. This is a rare blond Canadian terrie...                  NaN   \n",
       "2348  Here is a Siberian heavily armored polar bear ...                  NaN   \n",
       "2349  This is an odd dog. Hard on the outside but lo...                  NaN   \n",
       "2350  This is a truly beautiful English Wilson Staff...                  NaN   \n",
       "2351  Here we have a 1949 1st generation vulpix. Enj...                  NaN   \n",
       "2352  This is a purebred Piers Morgan. Loves to Netf...                  NaN   \n",
       "2353  Here is a very happy pup. Big fan of well-main...                  NaN   \n",
       "2354  This is a western brown Mitsubishi terrier. Up...                  NaN   \n",
       "2355  Here we have a Japanese Irish Setter. Lost eye...                  NaN   \n",
       "\n",
       "      retweeted_status_user_id retweeted_status_timestamp  \\\n",
       "2346                       NaN                        NaN   \n",
       "2347                       NaN                        NaN   \n",
       "2348                       NaN                        NaN   \n",
       "2349                       NaN                        NaN   \n",
       "2350                       NaN                        NaN   \n",
       "2351                       NaN                        NaN   \n",
       "2352                       NaN                        NaN   \n",
       "2353                       NaN                        NaN   \n",
       "2354                       NaN                        NaN   \n",
       "2355                       NaN                        NaN   \n",
       "\n",
       "                                          expanded_urls  rating_numerator  \\\n",
       "2346  https://twitter.com/dog_rates/status/666058600...                 8   \n",
       "2347  https://twitter.com/dog_rates/status/666057090...                 9   \n",
       "2348  https://twitter.com/dog_rates/status/666055525...                10   \n",
       "2349  https://twitter.com/dog_rates/status/666051853...                 2   \n",
       "2350  https://twitter.com/dog_rates/status/666050758...                10   \n",
       "2351  https://twitter.com/dog_rates/status/666049248...                 5   \n",
       "2352  https://twitter.com/dog_rates/status/666044226...                 6   \n",
       "2353  https://twitter.com/dog_rates/status/666033412...                 9   \n",
       "2354  https://twitter.com/dog_rates/status/666029285...                 7   \n",
       "2355  https://twitter.com/dog_rates/status/666020888...                 8   \n",
       "\n",
       "      rating_denominator  name doggo floofer pupper puppo  \n",
       "2346                  10   the  None    None   None  None  \n",
       "2347                  10     a  None    None   None  None  \n",
       "2348                  10     a  None    None   None  None  \n",
       "2349                  10    an  None    None   None  None  \n",
       "2350                  10     a  None    None   None  None  \n",
       "2351                  10  None  None    None   None  None  \n",
       "2352                  10     a  None    None   None  None  \n",
       "2353                  10     a  None    None   None  None  \n",
       "2354                  10     a  None    None   None  None  \n",
       "2355                  10  None  None    None   None  None  "
      ]
     },
     "execution_count": 28,
     "metadata": {},
     "output_type": "execute_result"
    }
   ],
   "source": [
    "# bottom 10 rows of the tweets archieve dataframe\n",
    "df_twArch.tail(10)\n"
   ]
  },
  {
   "cell_type": "code",
   "execution_count": 10,
   "metadata": {},
   "outputs": [
    {
     "name": "stdout",
     "output_type": "stream",
     "text": [
      "<class 'pandas.core.frame.DataFrame'>\n",
      "RangeIndex: 2356 entries, 0 to 2355\n",
      "Data columns (total 17 columns):\n",
      " #   Column                      Non-Null Count  Dtype  \n",
      "---  ------                      --------------  -----  \n",
      " 0   tweet_id                    2356 non-null   int64  \n",
      " 1   in_reply_to_status_id       78 non-null     float64\n",
      " 2   in_reply_to_user_id         78 non-null     float64\n",
      " 3   timestamp                   2356 non-null   object \n",
      " 4   source                      2356 non-null   object \n",
      " 5   text                        2356 non-null   object \n",
      " 6   retweeted_status_id         181 non-null    float64\n",
      " 7   retweeted_status_user_id    181 non-null    float64\n",
      " 8   retweeted_status_timestamp  181 non-null    object \n",
      " 9   expanded_urls               2297 non-null   object \n",
      " 10  rating_numerator            2356 non-null   int64  \n",
      " 11  rating_denominator          2356 non-null   int64  \n",
      " 12  name                        2356 non-null   object \n",
      " 13  doggo                       2356 non-null   object \n",
      " 14  floofer                     2356 non-null   object \n",
      " 15  pupper                      2356 non-null   object \n",
      " 16  puppo                       2356 non-null   object \n",
      "dtypes: float64(4), int64(3), object(10)\n",
      "memory usage: 313.0+ KB\n"
     ]
    }
   ],
   "source": [
    "# Use summary statistics to understand df_twArch dataframe\n",
    "df_twArch.info()\n"
   ]
  },
  {
   "cell_type": "code",
   "execution_count": 15,
   "metadata": {},
   "outputs": [
    {
     "data": {
      "text/plain": [
       "6.671522e+17    2\n",
       "8.562860e+17    1\n",
       "8.131273e+17    1\n",
       "6.754971e+17    1\n",
       "6.827884e+17    1\n",
       "               ..\n",
       "8.482121e+17    1\n",
       "6.715449e+17    1\n",
       "6.936422e+17    1\n",
       "6.849598e+17    1\n",
       "7.331095e+17    1\n",
       "Name: in_reply_to_status_id, Length: 77, dtype: int64"
      ]
     },
     "execution_count": 15,
     "metadata": {},
     "output_type": "execute_result"
    }
   ],
   "source": [
    "# Inspect values present in some columns\n",
    "df_twArch['in_reply_to_status_id'].value_counts()\n"
   ]
  },
  {
   "cell_type": "code",
   "execution_count": 16,
   "metadata": {},
   "outputs": [
    {
     "data": {
      "text/plain": [
       "4.196984e+09    47\n",
       "2.195506e+07     2\n",
       "7.305050e+17     1\n",
       "2.916630e+07     1\n",
       "3.105441e+09     1\n",
       "2.918590e+08     1\n",
       "2.792810e+08     1\n",
       "2.319108e+09     1\n",
       "1.806710e+08     1\n",
       "3.058208e+07     1\n",
       "2.625958e+07     1\n",
       "1.943518e+08     1\n",
       "3.589728e+08     1\n",
       "8.405479e+17     1\n",
       "2.894131e+09     1\n",
       "2.143566e+07     1\n",
       "2.281182e+09     1\n",
       "1.648776e+07     1\n",
       "4.717297e+09     1\n",
       "2.878549e+07     1\n",
       "1.582854e+09     1\n",
       "4.670367e+08     1\n",
       "4.738443e+07     1\n",
       "1.361572e+07     1\n",
       "1.584641e+07     1\n",
       "2.068372e+07     1\n",
       "1.637468e+07     1\n",
       "1.185634e+07     1\n",
       "1.198989e+09     1\n",
       "1.132119e+08     1\n",
       "7.759620e+07     1\n",
       "Name: in_reply_to_user_id, dtype: int64"
      ]
     },
     "execution_count": 16,
     "metadata": {},
     "output_type": "execute_result"
    }
   ],
   "source": [
    "df_twArch['in_reply_to_user_id'].value_counts()\n"
   ]
  },
  {
   "cell_type": "code",
   "execution_count": 17,
   "metadata": {},
   "outputs": [
    {
     "data": {
      "text/plain": [
       "7.757333e+17    1\n",
       "7.507196e+17    1\n",
       "6.742918e+17    1\n",
       "6.833919e+17    1\n",
       "8.269587e+17    1\n",
       "               ..\n",
       "7.848260e+17    1\n",
       "7.806013e+17    1\n",
       "8.305833e+17    1\n",
       "7.047611e+17    1\n",
       "7.331095e+17    1\n",
       "Name: retweeted_status_id, Length: 181, dtype: int64"
      ]
     },
     "execution_count": 17,
     "metadata": {},
     "output_type": "execute_result"
    }
   ],
   "source": [
    "df_twArch['retweeted_status_id'].value_counts()\n"
   ]
  },
  {
   "cell_type": "code",
   "execution_count": 18,
   "metadata": {},
   "outputs": [
    {
     "data": {
      "text/plain": [
       "<a href=\"http://twitter.com/download/iphone\" rel=\"nofollow\">Twitter for iPhone</a>     2221\n",
       "<a href=\"http://vine.co\" rel=\"nofollow\">Vine - Make a Scene</a>                          91\n",
       "<a href=\"http://twitter.com\" rel=\"nofollow\">Twitter Web Client</a>                       33\n",
       "<a href=\"https://about.twitter.com/products/tweetdeck\" rel=\"nofollow\">TweetDeck</a>      11\n",
       "Name: source, dtype: int64"
      ]
     },
     "execution_count": 18,
     "metadata": {},
     "output_type": "execute_result"
    }
   ],
   "source": [
    "df_twArch['source'].value_counts()\n"
   ]
  },
  {
   "cell_type": "code",
   "execution_count": 27,
   "metadata": {},
   "outputs": [
    {
     "data": {
      "text/plain": [
       "None         745\n",
       "a             55\n",
       "Charlie       12\n",
       "Lucy          11\n",
       "Oliver        11\n",
       "            ... \n",
       "Ronnie         1\n",
       "Bertson        1\n",
       "Thor           1\n",
       "Charleson      1\n",
       "Ferg           1\n",
       "Name: name, Length: 957, dtype: int64"
      ]
     },
     "execution_count": 27,
     "metadata": {},
     "output_type": "execute_result"
    }
   ],
   "source": [
    "# there are 745 dogs with 'None' assigned to name. Also there are 55 dogs with 'a' assigned to name!\n",
    "df_twArch['name'].value_counts()\n"
   ]
  },
  {
   "cell_type": "code",
   "execution_count": 22,
   "metadata": {},
   "outputs": [
    {
     "data": {
      "text/plain": [
       "None     2259\n",
       "doggo      97\n",
       "Name: doggo, dtype: int64"
      ]
     },
     "execution_count": 22,
     "metadata": {},
     "output_type": "execute_result"
    }
   ],
   "source": [
    "# there are 97 dogs with type doggo\n",
    "df_twArch['doggo'].value_counts()\n"
   ]
  },
  {
   "cell_type": "code",
   "execution_count": 23,
   "metadata": {},
   "outputs": [
    {
     "data": {
      "text/plain": [
       "None       2346\n",
       "floofer      10\n",
       "Name: floofer, dtype: int64"
      ]
     },
     "execution_count": 23,
     "metadata": {},
     "output_type": "execute_result"
    }
   ],
   "source": [
    "# there are 10 dogs with type floofer\n",
    "df_twArch['floofer'].value_counts()\n"
   ]
  },
  {
   "cell_type": "code",
   "execution_count": 24,
   "metadata": {},
   "outputs": [
    {
     "data": {
      "text/plain": [
       "None      2099\n",
       "pupper     257\n",
       "Name: pupper, dtype: int64"
      ]
     },
     "execution_count": 24,
     "metadata": {},
     "output_type": "execute_result"
    }
   ],
   "source": [
    "# there are 257 dogs with type pupper\n",
    "df_twArch['pupper'].value_counts()\n"
   ]
  },
  {
   "cell_type": "code",
   "execution_count": 25,
   "metadata": {},
   "outputs": [
    {
     "data": {
      "text/plain": [
       "None     2326\n",
       "puppo      30\n",
       "Name: puppo, dtype: int64"
      ]
     },
     "execution_count": 25,
     "metadata": {},
     "output_type": "execute_result"
    }
   ],
   "source": [
    "# there are 30 dogs with type puppo\n",
    "df_twArch['puppo'].value_counts()\n"
   ]
  },
  {
   "cell_type": "code",
   "execution_count": 61,
   "metadata": {},
   "outputs": [
    {
     "data": {
      "text/plain": [
       "(380, 4)"
      ]
     },
     "execution_count": 61,
     "metadata": {},
     "output_type": "execute_result"
    }
   ],
   "source": [
    "# from above there are 97 + 10 + 257 + 30 = 394 instances of type assigned\n",
    "# however there are 380 dogs with type assigned, this indicates that 14 dogs may have multiple dypes assigned at the same time!\n",
    "df_type = df_twArch.query('doggo != \"None\" | floofer != \"None\" | pupper != \"None\" | puppo != \"None\"').copy(deep=True) \n",
    "df_type[['doggo','floofer','pupper','puppo']].shape\n"
   ]
  },
  {
   "cell_type": "code",
   "execution_count": 65,
   "metadata": {},
   "outputs": [
    {
     "data": {
      "text/plain": [
       "(14, 18)"
      ]
     },
     "execution_count": 65,
     "metadata": {},
     "output_type": "execute_result"
    }
   ],
   "source": [
    "# there are 14 rows where a dog type hold multiple values.\n",
    "df_type['count'] = df_type[['doggo','floofer','pupper','puppo']].eq('None', axis=1).sum(axis=1)\n",
    "df_type.query('count < 3').shape\n"
   ]
  },
  {
   "cell_type": "code",
   "execution_count": 66,
   "metadata": {},
   "outputs": [
    {
     "data": {
      "text/html": [
       "<div>\n",
       "<style scoped>\n",
       "    .dataframe tbody tr th:only-of-type {\n",
       "        vertical-align: middle;\n",
       "    }\n",
       "\n",
       "    .dataframe tbody tr th {\n",
       "        vertical-align: top;\n",
       "    }\n",
       "\n",
       "    .dataframe thead th {\n",
       "        text-align: right;\n",
       "    }\n",
       "</style>\n",
       "<table border=\"1\" class=\"dataframe\">\n",
       "  <thead>\n",
       "    <tr style=\"text-align: right;\">\n",
       "      <th></th>\n",
       "      <th>tweet_id</th>\n",
       "      <th>in_reply_to_status_id</th>\n",
       "      <th>in_reply_to_user_id</th>\n",
       "      <th>timestamp</th>\n",
       "      <th>source</th>\n",
       "      <th>text</th>\n",
       "      <th>retweeted_status_id</th>\n",
       "      <th>retweeted_status_user_id</th>\n",
       "      <th>retweeted_status_timestamp</th>\n",
       "      <th>expanded_urls</th>\n",
       "      <th>rating_numerator</th>\n",
       "      <th>rating_denominator</th>\n",
       "      <th>name</th>\n",
       "      <th>doggo</th>\n",
       "      <th>floofer</th>\n",
       "      <th>pupper</th>\n",
       "      <th>puppo</th>\n",
       "      <th>count</th>\n",
       "    </tr>\n",
       "  </thead>\n",
       "  <tbody>\n",
       "    <tr>\n",
       "      <th>191</th>\n",
       "      <td>855851453814013952</td>\n",
       "      <td>NaN</td>\n",
       "      <td>NaN</td>\n",
       "      <td>2017-04-22 18:31:02 +0000</td>\n",
       "      <td>&lt;a href=\"http://twitter.com/download/iphone\" r...</td>\n",
       "      <td>Here's a puppo participating in the #ScienceMa...</td>\n",
       "      <td>NaN</td>\n",
       "      <td>NaN</td>\n",
       "      <td>NaN</td>\n",
       "      <td>https://twitter.com/dog_rates/status/855851453...</td>\n",
       "      <td>13</td>\n",
       "      <td>10</td>\n",
       "      <td>None</td>\n",
       "      <td>doggo</td>\n",
       "      <td>None</td>\n",
       "      <td>None</td>\n",
       "      <td>puppo</td>\n",
       "      <td>2</td>\n",
       "    </tr>\n",
       "    <tr>\n",
       "      <th>200</th>\n",
       "      <td>854010172552949760</td>\n",
       "      <td>NaN</td>\n",
       "      <td>NaN</td>\n",
       "      <td>2017-04-17 16:34:26 +0000</td>\n",
       "      <td>&lt;a href=\"http://twitter.com/download/iphone\" r...</td>\n",
       "      <td>At first I thought this was a shy doggo, but i...</td>\n",
       "      <td>NaN</td>\n",
       "      <td>NaN</td>\n",
       "      <td>NaN</td>\n",
       "      <td>https://twitter.com/dog_rates/status/854010172...</td>\n",
       "      <td>11</td>\n",
       "      <td>10</td>\n",
       "      <td>None</td>\n",
       "      <td>doggo</td>\n",
       "      <td>floofer</td>\n",
       "      <td>None</td>\n",
       "      <td>None</td>\n",
       "      <td>2</td>\n",
       "    </tr>\n",
       "    <tr>\n",
       "      <th>460</th>\n",
       "      <td>817777686764523521</td>\n",
       "      <td>NaN</td>\n",
       "      <td>NaN</td>\n",
       "      <td>2017-01-07 16:59:28 +0000</td>\n",
       "      <td>&lt;a href=\"http://twitter.com/download/iphone\" r...</td>\n",
       "      <td>This is Dido. She's playing the lead role in \"...</td>\n",
       "      <td>NaN</td>\n",
       "      <td>NaN</td>\n",
       "      <td>NaN</td>\n",
       "      <td>https://twitter.com/dog_rates/status/817777686...</td>\n",
       "      <td>13</td>\n",
       "      <td>10</td>\n",
       "      <td>Dido</td>\n",
       "      <td>doggo</td>\n",
       "      <td>None</td>\n",
       "      <td>pupper</td>\n",
       "      <td>None</td>\n",
       "      <td>2</td>\n",
       "    </tr>\n",
       "    <tr>\n",
       "      <th>531</th>\n",
       "      <td>808106460588765185</td>\n",
       "      <td>NaN</td>\n",
       "      <td>NaN</td>\n",
       "      <td>2016-12-12 00:29:28 +0000</td>\n",
       "      <td>&lt;a href=\"http://twitter.com/download/iphone\" r...</td>\n",
       "      <td>Here we have Burke (pupper) and Dexter (doggo)...</td>\n",
       "      <td>NaN</td>\n",
       "      <td>NaN</td>\n",
       "      <td>NaN</td>\n",
       "      <td>https://twitter.com/dog_rates/status/808106460...</td>\n",
       "      <td>12</td>\n",
       "      <td>10</td>\n",
       "      <td>None</td>\n",
       "      <td>doggo</td>\n",
       "      <td>None</td>\n",
       "      <td>pupper</td>\n",
       "      <td>None</td>\n",
       "      <td>2</td>\n",
       "    </tr>\n",
       "    <tr>\n",
       "      <th>565</th>\n",
       "      <td>802265048156610565</td>\n",
       "      <td>7.331095e+17</td>\n",
       "      <td>4.196984e+09</td>\n",
       "      <td>2016-11-25 21:37:47 +0000</td>\n",
       "      <td>&lt;a href=\"http://twitter.com/download/iphone\" r...</td>\n",
       "      <td>Like doggo, like pupper version 2. Both 11/10 ...</td>\n",
       "      <td>NaN</td>\n",
       "      <td>NaN</td>\n",
       "      <td>NaN</td>\n",
       "      <td>https://twitter.com/dog_rates/status/802265048...</td>\n",
       "      <td>11</td>\n",
       "      <td>10</td>\n",
       "      <td>None</td>\n",
       "      <td>doggo</td>\n",
       "      <td>None</td>\n",
       "      <td>pupper</td>\n",
       "      <td>None</td>\n",
       "      <td>2</td>\n",
       "    </tr>\n",
       "    <tr>\n",
       "      <th>575</th>\n",
       "      <td>801115127852503040</td>\n",
       "      <td>NaN</td>\n",
       "      <td>NaN</td>\n",
       "      <td>2016-11-22 17:28:25 +0000</td>\n",
       "      <td>&lt;a href=\"http://twitter.com/download/iphone\" r...</td>\n",
       "      <td>This is Bones. He's being haunted by another d...</td>\n",
       "      <td>NaN</td>\n",
       "      <td>NaN</td>\n",
       "      <td>NaN</td>\n",
       "      <td>https://twitter.com/dog_rates/status/801115127...</td>\n",
       "      <td>12</td>\n",
       "      <td>10</td>\n",
       "      <td>Bones</td>\n",
       "      <td>doggo</td>\n",
       "      <td>None</td>\n",
       "      <td>pupper</td>\n",
       "      <td>None</td>\n",
       "      <td>2</td>\n",
       "    </tr>\n",
       "    <tr>\n",
       "      <th>705</th>\n",
       "      <td>785639753186217984</td>\n",
       "      <td>NaN</td>\n",
       "      <td>NaN</td>\n",
       "      <td>2016-10-11 00:34:48 +0000</td>\n",
       "      <td>&lt;a href=\"http://twitter.com/download/iphone\" r...</td>\n",
       "      <td>This is Pinot. He's a sophisticated doggo. You...</td>\n",
       "      <td>NaN</td>\n",
       "      <td>NaN</td>\n",
       "      <td>NaN</td>\n",
       "      <td>https://twitter.com/dog_rates/status/785639753...</td>\n",
       "      <td>10</td>\n",
       "      <td>10</td>\n",
       "      <td>Pinot</td>\n",
       "      <td>doggo</td>\n",
       "      <td>None</td>\n",
       "      <td>pupper</td>\n",
       "      <td>None</td>\n",
       "      <td>2</td>\n",
       "    </tr>\n",
       "    <tr>\n",
       "      <th>733</th>\n",
       "      <td>781308096455073793</td>\n",
       "      <td>NaN</td>\n",
       "      <td>NaN</td>\n",
       "      <td>2016-09-29 01:42:20 +0000</td>\n",
       "      <td>&lt;a href=\"http://vine.co\" rel=\"nofollow\"&gt;Vine -...</td>\n",
       "      <td>Pupper butt 1, Doggo 0. Both 12/10 https://t.c...</td>\n",
       "      <td>NaN</td>\n",
       "      <td>NaN</td>\n",
       "      <td>NaN</td>\n",
       "      <td>https://vine.co/v/5rgu2Law2ut</td>\n",
       "      <td>12</td>\n",
       "      <td>10</td>\n",
       "      <td>None</td>\n",
       "      <td>doggo</td>\n",
       "      <td>None</td>\n",
       "      <td>pupper</td>\n",
       "      <td>None</td>\n",
       "      <td>2</td>\n",
       "    </tr>\n",
       "    <tr>\n",
       "      <th>778</th>\n",
       "      <td>775898661951791106</td>\n",
       "      <td>NaN</td>\n",
       "      <td>NaN</td>\n",
       "      <td>2016-09-14 03:27:11 +0000</td>\n",
       "      <td>&lt;a href=\"http://twitter.com/download/iphone\" r...</td>\n",
       "      <td>RT @dog_rates: Like father (doggo), like son (...</td>\n",
       "      <td>7.331095e+17</td>\n",
       "      <td>4.196984e+09</td>\n",
       "      <td>2016-05-19 01:38:16 +0000</td>\n",
       "      <td>https://twitter.com/dog_rates/status/733109485...</td>\n",
       "      <td>12</td>\n",
       "      <td>10</td>\n",
       "      <td>None</td>\n",
       "      <td>doggo</td>\n",
       "      <td>None</td>\n",
       "      <td>pupper</td>\n",
       "      <td>None</td>\n",
       "      <td>2</td>\n",
       "    </tr>\n",
       "    <tr>\n",
       "      <th>822</th>\n",
       "      <td>770093767776997377</td>\n",
       "      <td>NaN</td>\n",
       "      <td>NaN</td>\n",
       "      <td>2016-08-29 03:00:36 +0000</td>\n",
       "      <td>&lt;a href=\"http://twitter.com/download/iphone\" r...</td>\n",
       "      <td>RT @dog_rates: This is just downright precious...</td>\n",
       "      <td>7.410673e+17</td>\n",
       "      <td>4.196984e+09</td>\n",
       "      <td>2016-06-10 00:39:48 +0000</td>\n",
       "      <td>https://twitter.com/dog_rates/status/741067306...</td>\n",
       "      <td>12</td>\n",
       "      <td>10</td>\n",
       "      <td>just</td>\n",
       "      <td>doggo</td>\n",
       "      <td>None</td>\n",
       "      <td>pupper</td>\n",
       "      <td>None</td>\n",
       "      <td>2</td>\n",
       "    </tr>\n",
       "    <tr>\n",
       "      <th>889</th>\n",
       "      <td>759793422261743616</td>\n",
       "      <td>NaN</td>\n",
       "      <td>NaN</td>\n",
       "      <td>2016-07-31 16:50:42 +0000</td>\n",
       "      <td>&lt;a href=\"http://twitter.com/download/iphone\" r...</td>\n",
       "      <td>Meet Maggie &amp;amp; Lila. Maggie is the doggo, L...</td>\n",
       "      <td>NaN</td>\n",
       "      <td>NaN</td>\n",
       "      <td>NaN</td>\n",
       "      <td>https://twitter.com/dog_rates/status/759793422...</td>\n",
       "      <td>12</td>\n",
       "      <td>10</td>\n",
       "      <td>Maggie</td>\n",
       "      <td>doggo</td>\n",
       "      <td>None</td>\n",
       "      <td>pupper</td>\n",
       "      <td>None</td>\n",
       "      <td>2</td>\n",
       "    </tr>\n",
       "    <tr>\n",
       "      <th>956</th>\n",
       "      <td>751583847268179968</td>\n",
       "      <td>NaN</td>\n",
       "      <td>NaN</td>\n",
       "      <td>2016-07-09 01:08:47 +0000</td>\n",
       "      <td>&lt;a href=\"http://twitter.com/download/iphone\" r...</td>\n",
       "      <td>Please stop sending it pictures that don't eve...</td>\n",
       "      <td>NaN</td>\n",
       "      <td>NaN</td>\n",
       "      <td>NaN</td>\n",
       "      <td>https://twitter.com/dog_rates/status/751583847...</td>\n",
       "      <td>5</td>\n",
       "      <td>10</td>\n",
       "      <td>None</td>\n",
       "      <td>doggo</td>\n",
       "      <td>None</td>\n",
       "      <td>pupper</td>\n",
       "      <td>None</td>\n",
       "      <td>2</td>\n",
       "    </tr>\n",
       "    <tr>\n",
       "      <th>1063</th>\n",
       "      <td>741067306818797568</td>\n",
       "      <td>NaN</td>\n",
       "      <td>NaN</td>\n",
       "      <td>2016-06-10 00:39:48 +0000</td>\n",
       "      <td>&lt;a href=\"http://twitter.com/download/iphone\" r...</td>\n",
       "      <td>This is just downright precious af. 12/10 for ...</td>\n",
       "      <td>NaN</td>\n",
       "      <td>NaN</td>\n",
       "      <td>NaN</td>\n",
       "      <td>https://twitter.com/dog_rates/status/741067306...</td>\n",
       "      <td>12</td>\n",
       "      <td>10</td>\n",
       "      <td>just</td>\n",
       "      <td>doggo</td>\n",
       "      <td>None</td>\n",
       "      <td>pupper</td>\n",
       "      <td>None</td>\n",
       "      <td>2</td>\n",
       "    </tr>\n",
       "    <tr>\n",
       "      <th>1113</th>\n",
       "      <td>733109485275860992</td>\n",
       "      <td>NaN</td>\n",
       "      <td>NaN</td>\n",
       "      <td>2016-05-19 01:38:16 +0000</td>\n",
       "      <td>&lt;a href=\"http://twitter.com/download/iphone\" r...</td>\n",
       "      <td>Like father (doggo), like son (pupper). Both 1...</td>\n",
       "      <td>NaN</td>\n",
       "      <td>NaN</td>\n",
       "      <td>NaN</td>\n",
       "      <td>https://twitter.com/dog_rates/status/733109485...</td>\n",
       "      <td>12</td>\n",
       "      <td>10</td>\n",
       "      <td>None</td>\n",
       "      <td>doggo</td>\n",
       "      <td>None</td>\n",
       "      <td>pupper</td>\n",
       "      <td>None</td>\n",
       "      <td>2</td>\n",
       "    </tr>\n",
       "  </tbody>\n",
       "</table>\n",
       "</div>"
      ],
      "text/plain": [
       "                tweet_id  in_reply_to_status_id  in_reply_to_user_id  \\\n",
       "191   855851453814013952                    NaN                  NaN   \n",
       "200   854010172552949760                    NaN                  NaN   \n",
       "460   817777686764523521                    NaN                  NaN   \n",
       "531   808106460588765185                    NaN                  NaN   \n",
       "565   802265048156610565           7.331095e+17         4.196984e+09   \n",
       "575   801115127852503040                    NaN                  NaN   \n",
       "705   785639753186217984                    NaN                  NaN   \n",
       "733   781308096455073793                    NaN                  NaN   \n",
       "778   775898661951791106                    NaN                  NaN   \n",
       "822   770093767776997377                    NaN                  NaN   \n",
       "889   759793422261743616                    NaN                  NaN   \n",
       "956   751583847268179968                    NaN                  NaN   \n",
       "1063  741067306818797568                    NaN                  NaN   \n",
       "1113  733109485275860992                    NaN                  NaN   \n",
       "\n",
       "                      timestamp  \\\n",
       "191   2017-04-22 18:31:02 +0000   \n",
       "200   2017-04-17 16:34:26 +0000   \n",
       "460   2017-01-07 16:59:28 +0000   \n",
       "531   2016-12-12 00:29:28 +0000   \n",
       "565   2016-11-25 21:37:47 +0000   \n",
       "575   2016-11-22 17:28:25 +0000   \n",
       "705   2016-10-11 00:34:48 +0000   \n",
       "733   2016-09-29 01:42:20 +0000   \n",
       "778   2016-09-14 03:27:11 +0000   \n",
       "822   2016-08-29 03:00:36 +0000   \n",
       "889   2016-07-31 16:50:42 +0000   \n",
       "956   2016-07-09 01:08:47 +0000   \n",
       "1063  2016-06-10 00:39:48 +0000   \n",
       "1113  2016-05-19 01:38:16 +0000   \n",
       "\n",
       "                                                 source  \\\n",
       "191   <a href=\"http://twitter.com/download/iphone\" r...   \n",
       "200   <a href=\"http://twitter.com/download/iphone\" r...   \n",
       "460   <a href=\"http://twitter.com/download/iphone\" r...   \n",
       "531   <a href=\"http://twitter.com/download/iphone\" r...   \n",
       "565   <a href=\"http://twitter.com/download/iphone\" r...   \n",
       "575   <a href=\"http://twitter.com/download/iphone\" r...   \n",
       "705   <a href=\"http://twitter.com/download/iphone\" r...   \n",
       "733   <a href=\"http://vine.co\" rel=\"nofollow\">Vine -...   \n",
       "778   <a href=\"http://twitter.com/download/iphone\" r...   \n",
       "822   <a href=\"http://twitter.com/download/iphone\" r...   \n",
       "889   <a href=\"http://twitter.com/download/iphone\" r...   \n",
       "956   <a href=\"http://twitter.com/download/iphone\" r...   \n",
       "1063  <a href=\"http://twitter.com/download/iphone\" r...   \n",
       "1113  <a href=\"http://twitter.com/download/iphone\" r...   \n",
       "\n",
       "                                                   text  retweeted_status_id  \\\n",
       "191   Here's a puppo participating in the #ScienceMa...                  NaN   \n",
       "200   At first I thought this was a shy doggo, but i...                  NaN   \n",
       "460   This is Dido. She's playing the lead role in \"...                  NaN   \n",
       "531   Here we have Burke (pupper) and Dexter (doggo)...                  NaN   \n",
       "565   Like doggo, like pupper version 2. Both 11/10 ...                  NaN   \n",
       "575   This is Bones. He's being haunted by another d...                  NaN   \n",
       "705   This is Pinot. He's a sophisticated doggo. You...                  NaN   \n",
       "733   Pupper butt 1, Doggo 0. Both 12/10 https://t.c...                  NaN   \n",
       "778   RT @dog_rates: Like father (doggo), like son (...         7.331095e+17   \n",
       "822   RT @dog_rates: This is just downright precious...         7.410673e+17   \n",
       "889   Meet Maggie &amp; Lila. Maggie is the doggo, L...                  NaN   \n",
       "956   Please stop sending it pictures that don't eve...                  NaN   \n",
       "1063  This is just downright precious af. 12/10 for ...                  NaN   \n",
       "1113  Like father (doggo), like son (pupper). Both 1...                  NaN   \n",
       "\n",
       "      retweeted_status_user_id retweeted_status_timestamp  \\\n",
       "191                        NaN                        NaN   \n",
       "200                        NaN                        NaN   \n",
       "460                        NaN                        NaN   \n",
       "531                        NaN                        NaN   \n",
       "565                        NaN                        NaN   \n",
       "575                        NaN                        NaN   \n",
       "705                        NaN                        NaN   \n",
       "733                        NaN                        NaN   \n",
       "778               4.196984e+09  2016-05-19 01:38:16 +0000   \n",
       "822               4.196984e+09  2016-06-10 00:39:48 +0000   \n",
       "889                        NaN                        NaN   \n",
       "956                        NaN                        NaN   \n",
       "1063                       NaN                        NaN   \n",
       "1113                       NaN                        NaN   \n",
       "\n",
       "                                          expanded_urls  rating_numerator  \\\n",
       "191   https://twitter.com/dog_rates/status/855851453...                13   \n",
       "200   https://twitter.com/dog_rates/status/854010172...                11   \n",
       "460   https://twitter.com/dog_rates/status/817777686...                13   \n",
       "531   https://twitter.com/dog_rates/status/808106460...                12   \n",
       "565   https://twitter.com/dog_rates/status/802265048...                11   \n",
       "575   https://twitter.com/dog_rates/status/801115127...                12   \n",
       "705   https://twitter.com/dog_rates/status/785639753...                10   \n",
       "733                       https://vine.co/v/5rgu2Law2ut                12   \n",
       "778   https://twitter.com/dog_rates/status/733109485...                12   \n",
       "822   https://twitter.com/dog_rates/status/741067306...                12   \n",
       "889   https://twitter.com/dog_rates/status/759793422...                12   \n",
       "956   https://twitter.com/dog_rates/status/751583847...                 5   \n",
       "1063  https://twitter.com/dog_rates/status/741067306...                12   \n",
       "1113  https://twitter.com/dog_rates/status/733109485...                12   \n",
       "\n",
       "      rating_denominator    name  doggo  floofer  pupper  puppo  count  \n",
       "191                   10    None  doggo     None    None  puppo      2  \n",
       "200                   10    None  doggo  floofer    None   None      2  \n",
       "460                   10    Dido  doggo     None  pupper   None      2  \n",
       "531                   10    None  doggo     None  pupper   None      2  \n",
       "565                   10    None  doggo     None  pupper   None      2  \n",
       "575                   10   Bones  doggo     None  pupper   None      2  \n",
       "705                   10   Pinot  doggo     None  pupper   None      2  \n",
       "733                   10    None  doggo     None  pupper   None      2  \n",
       "778                   10    None  doggo     None  pupper   None      2  \n",
       "822                   10    just  doggo     None  pupper   None      2  \n",
       "889                   10  Maggie  doggo     None  pupper   None      2  \n",
       "956                   10    None  doggo     None  pupper   None      2  \n",
       "1063                  10    just  doggo     None  pupper   None      2  \n",
       "1113                  10    None  doggo     None  pupper   None      2  "
      ]
     },
     "execution_count": 66,
     "metadata": {},
     "output_type": "execute_result"
    }
   ],
   "source": [
    "# let's examine these records of multiple dog types\n",
    "df_type.query('count < 3')\n"
   ]
  },
  {
   "cell_type": "code",
   "execution_count": 80,
   "metadata": {},
   "outputs": [
    {
     "data": {
      "text/html": [
       "<div>\n",
       "<style scoped>\n",
       "    .dataframe tbody tr th:only-of-type {\n",
       "        vertical-align: middle;\n",
       "    }\n",
       "\n",
       "    .dataframe tbody tr th {\n",
       "        vertical-align: top;\n",
       "    }\n",
       "\n",
       "    .dataframe thead th {\n",
       "        text-align: right;\n",
       "    }\n",
       "</style>\n",
       "<table border=\"1\" class=\"dataframe\">\n",
       "  <thead>\n",
       "    <tr style=\"text-align: right;\">\n",
       "      <th></th>\n",
       "      <th>tweet_id</th>\n",
       "      <th>in_reply_to_status_id</th>\n",
       "      <th>in_reply_to_user_id</th>\n",
       "      <th>timestamp</th>\n",
       "      <th>source</th>\n",
       "      <th>text</th>\n",
       "      <th>retweeted_status_id</th>\n",
       "      <th>retweeted_status_user_id</th>\n",
       "      <th>retweeted_status_timestamp</th>\n",
       "      <th>expanded_urls</th>\n",
       "      <th>rating_numerator</th>\n",
       "      <th>rating_denominator</th>\n",
       "      <th>name</th>\n",
       "      <th>doggo</th>\n",
       "      <th>floofer</th>\n",
       "      <th>pupper</th>\n",
       "      <th>puppo</th>\n",
       "    </tr>\n",
       "  </thead>\n",
       "  <tbody>\n",
       "  </tbody>\n",
       "</table>\n",
       "</div>"
      ],
      "text/plain": [
       "Empty DataFrame\n",
       "Columns: [tweet_id, in_reply_to_status_id, in_reply_to_user_id, timestamp, source, text, retweeted_status_id, retweeted_status_user_id, retweeted_status_timestamp, expanded_urls, rating_numerator, rating_denominator, name, doggo, floofer, pupper, puppo]\n",
       "Index: []"
      ]
     },
     "execution_count": 80,
     "metadata": {},
     "output_type": "execute_result"
    }
   ],
   "source": [
    "# all timestamp values have one zone (midnight Greenwich time)\n",
    "df_twArch[~df_twArch['timestamp'].str.contains('\\+0000', na=False)]"
   ]
  },
  {
   "cell_type": "markdown",
   "metadata": {},
   "source": [
    "#### 2- Inspect df_imgpred dataframe"
   ]
  },
  {
   "cell_type": "code",
   "execution_count": 11,
   "metadata": {},
   "outputs": [
    {
     "data": {
      "text/html": [
       "<div>\n",
       "<style scoped>\n",
       "    .dataframe tbody tr th:only-of-type {\n",
       "        vertical-align: middle;\n",
       "    }\n",
       "\n",
       "    .dataframe tbody tr th {\n",
       "        vertical-align: top;\n",
       "    }\n",
       "\n",
       "    .dataframe thead th {\n",
       "        text-align: right;\n",
       "    }\n",
       "</style>\n",
       "<table border=\"1\" class=\"dataframe\">\n",
       "  <thead>\n",
       "    <tr style=\"text-align: right;\">\n",
       "      <th></th>\n",
       "      <th>tweet_id</th>\n",
       "      <th>jpg_url</th>\n",
       "      <th>img_num</th>\n",
       "      <th>p1</th>\n",
       "      <th>p1_conf</th>\n",
       "      <th>p1_dog</th>\n",
       "      <th>p2</th>\n",
       "      <th>p2_conf</th>\n",
       "      <th>p2_dog</th>\n",
       "      <th>p3</th>\n",
       "      <th>p3_conf</th>\n",
       "      <th>p3_dog</th>\n",
       "    </tr>\n",
       "  </thead>\n",
       "  <tbody>\n",
       "    <tr>\n",
       "      <th>0</th>\n",
       "      <td>666020888022790149</td>\n",
       "      <td>https://pbs.twimg.com/media/CT4udn0WwAA0aMy.jpg</td>\n",
       "      <td>1</td>\n",
       "      <td>Welsh_springer_spaniel</td>\n",
       "      <td>0.465074</td>\n",
       "      <td>True</td>\n",
       "      <td>collie</td>\n",
       "      <td>0.156665</td>\n",
       "      <td>True</td>\n",
       "      <td>Shetland_sheepdog</td>\n",
       "      <td>0.061428</td>\n",
       "      <td>True</td>\n",
       "    </tr>\n",
       "    <tr>\n",
       "      <th>1</th>\n",
       "      <td>666029285002620928</td>\n",
       "      <td>https://pbs.twimg.com/media/CT42GRgUYAA5iDo.jpg</td>\n",
       "      <td>1</td>\n",
       "      <td>redbone</td>\n",
       "      <td>0.506826</td>\n",
       "      <td>True</td>\n",
       "      <td>miniature_pinscher</td>\n",
       "      <td>0.074192</td>\n",
       "      <td>True</td>\n",
       "      <td>Rhodesian_ridgeback</td>\n",
       "      <td>0.072010</td>\n",
       "      <td>True</td>\n",
       "    </tr>\n",
       "    <tr>\n",
       "      <th>2</th>\n",
       "      <td>666033412701032449</td>\n",
       "      <td>https://pbs.twimg.com/media/CT4521TWwAEvMyu.jpg</td>\n",
       "      <td>1</td>\n",
       "      <td>German_shepherd</td>\n",
       "      <td>0.596461</td>\n",
       "      <td>True</td>\n",
       "      <td>malinois</td>\n",
       "      <td>0.138584</td>\n",
       "      <td>True</td>\n",
       "      <td>bloodhound</td>\n",
       "      <td>0.116197</td>\n",
       "      <td>True</td>\n",
       "    </tr>\n",
       "    <tr>\n",
       "      <th>3</th>\n",
       "      <td>666044226329800704</td>\n",
       "      <td>https://pbs.twimg.com/media/CT5Dr8HUEAA-lEu.jpg</td>\n",
       "      <td>1</td>\n",
       "      <td>Rhodesian_ridgeback</td>\n",
       "      <td>0.408143</td>\n",
       "      <td>True</td>\n",
       "      <td>redbone</td>\n",
       "      <td>0.360687</td>\n",
       "      <td>True</td>\n",
       "      <td>miniature_pinscher</td>\n",
       "      <td>0.222752</td>\n",
       "      <td>True</td>\n",
       "    </tr>\n",
       "    <tr>\n",
       "      <th>4</th>\n",
       "      <td>666049248165822465</td>\n",
       "      <td>https://pbs.twimg.com/media/CT5IQmsXIAAKY4A.jpg</td>\n",
       "      <td>1</td>\n",
       "      <td>miniature_pinscher</td>\n",
       "      <td>0.560311</td>\n",
       "      <td>True</td>\n",
       "      <td>Rottweiler</td>\n",
       "      <td>0.243682</td>\n",
       "      <td>True</td>\n",
       "      <td>Doberman</td>\n",
       "      <td>0.154629</td>\n",
       "      <td>True</td>\n",
       "    </tr>\n",
       "    <tr>\n",
       "      <th>5</th>\n",
       "      <td>666050758794694657</td>\n",
       "      <td>https://pbs.twimg.com/media/CT5Jof1WUAEuVxN.jpg</td>\n",
       "      <td>1</td>\n",
       "      <td>Bernese_mountain_dog</td>\n",
       "      <td>0.651137</td>\n",
       "      <td>True</td>\n",
       "      <td>English_springer</td>\n",
       "      <td>0.263788</td>\n",
       "      <td>True</td>\n",
       "      <td>Greater_Swiss_Mountain_dog</td>\n",
       "      <td>0.016199</td>\n",
       "      <td>True</td>\n",
       "    </tr>\n",
       "    <tr>\n",
       "      <th>6</th>\n",
       "      <td>666051853826850816</td>\n",
       "      <td>https://pbs.twimg.com/media/CT5KoJ1WoAAJash.jpg</td>\n",
       "      <td>1</td>\n",
       "      <td>box_turtle</td>\n",
       "      <td>0.933012</td>\n",
       "      <td>False</td>\n",
       "      <td>mud_turtle</td>\n",
       "      <td>0.045885</td>\n",
       "      <td>False</td>\n",
       "      <td>terrapin</td>\n",
       "      <td>0.017885</td>\n",
       "      <td>False</td>\n",
       "    </tr>\n",
       "    <tr>\n",
       "      <th>7</th>\n",
       "      <td>666055525042405380</td>\n",
       "      <td>https://pbs.twimg.com/media/CT5N9tpXIAAifs1.jpg</td>\n",
       "      <td>1</td>\n",
       "      <td>chow</td>\n",
       "      <td>0.692517</td>\n",
       "      <td>True</td>\n",
       "      <td>Tibetan_mastiff</td>\n",
       "      <td>0.058279</td>\n",
       "      <td>True</td>\n",
       "      <td>fur_coat</td>\n",
       "      <td>0.054449</td>\n",
       "      <td>False</td>\n",
       "    </tr>\n",
       "    <tr>\n",
       "      <th>8</th>\n",
       "      <td>666057090499244032</td>\n",
       "      <td>https://pbs.twimg.com/media/CT5PY90WoAAQGLo.jpg</td>\n",
       "      <td>1</td>\n",
       "      <td>shopping_cart</td>\n",
       "      <td>0.962465</td>\n",
       "      <td>False</td>\n",
       "      <td>shopping_basket</td>\n",
       "      <td>0.014594</td>\n",
       "      <td>False</td>\n",
       "      <td>golden_retriever</td>\n",
       "      <td>0.007959</td>\n",
       "      <td>True</td>\n",
       "    </tr>\n",
       "    <tr>\n",
       "      <th>9</th>\n",
       "      <td>666058600524156928</td>\n",
       "      <td>https://pbs.twimg.com/media/CT5Qw94XAAA_2dP.jpg</td>\n",
       "      <td>1</td>\n",
       "      <td>miniature_poodle</td>\n",
       "      <td>0.201493</td>\n",
       "      <td>True</td>\n",
       "      <td>komondor</td>\n",
       "      <td>0.192305</td>\n",
       "      <td>True</td>\n",
       "      <td>soft-coated_wheaten_terrier</td>\n",
       "      <td>0.082086</td>\n",
       "      <td>True</td>\n",
       "    </tr>\n",
       "  </tbody>\n",
       "</table>\n",
       "</div>"
      ],
      "text/plain": [
       "             tweet_id                                          jpg_url  \\\n",
       "0  666020888022790149  https://pbs.twimg.com/media/CT4udn0WwAA0aMy.jpg   \n",
       "1  666029285002620928  https://pbs.twimg.com/media/CT42GRgUYAA5iDo.jpg   \n",
       "2  666033412701032449  https://pbs.twimg.com/media/CT4521TWwAEvMyu.jpg   \n",
       "3  666044226329800704  https://pbs.twimg.com/media/CT5Dr8HUEAA-lEu.jpg   \n",
       "4  666049248165822465  https://pbs.twimg.com/media/CT5IQmsXIAAKY4A.jpg   \n",
       "5  666050758794694657  https://pbs.twimg.com/media/CT5Jof1WUAEuVxN.jpg   \n",
       "6  666051853826850816  https://pbs.twimg.com/media/CT5KoJ1WoAAJash.jpg   \n",
       "7  666055525042405380  https://pbs.twimg.com/media/CT5N9tpXIAAifs1.jpg   \n",
       "8  666057090499244032  https://pbs.twimg.com/media/CT5PY90WoAAQGLo.jpg   \n",
       "9  666058600524156928  https://pbs.twimg.com/media/CT5Qw94XAAA_2dP.jpg   \n",
       "\n",
       "   img_num                      p1   p1_conf  p1_dog                  p2  \\\n",
       "0        1  Welsh_springer_spaniel  0.465074    True              collie   \n",
       "1        1                 redbone  0.506826    True  miniature_pinscher   \n",
       "2        1         German_shepherd  0.596461    True            malinois   \n",
       "3        1     Rhodesian_ridgeback  0.408143    True             redbone   \n",
       "4        1      miniature_pinscher  0.560311    True          Rottweiler   \n",
       "5        1    Bernese_mountain_dog  0.651137    True    English_springer   \n",
       "6        1              box_turtle  0.933012   False          mud_turtle   \n",
       "7        1                    chow  0.692517    True     Tibetan_mastiff   \n",
       "8        1           shopping_cart  0.962465   False     shopping_basket   \n",
       "9        1        miniature_poodle  0.201493    True            komondor   \n",
       "\n",
       "    p2_conf  p2_dog                           p3   p3_conf  p3_dog  \n",
       "0  0.156665    True            Shetland_sheepdog  0.061428    True  \n",
       "1  0.074192    True          Rhodesian_ridgeback  0.072010    True  \n",
       "2  0.138584    True                   bloodhound  0.116197    True  \n",
       "3  0.360687    True           miniature_pinscher  0.222752    True  \n",
       "4  0.243682    True                     Doberman  0.154629    True  \n",
       "5  0.263788    True   Greater_Swiss_Mountain_dog  0.016199    True  \n",
       "6  0.045885   False                     terrapin  0.017885   False  \n",
       "7  0.058279    True                     fur_coat  0.054449   False  \n",
       "8  0.014594   False             golden_retriever  0.007959    True  \n",
       "9  0.192305    True  soft-coated_wheaten_terrier  0.082086    True  "
      ]
     },
     "execution_count": 11,
     "metadata": {},
     "output_type": "execute_result"
    }
   ],
   "source": [
    "# top 10 rows from the image prediciton dataframe\n",
    "df_imgpred.head(10)\n"
   ]
  },
  {
   "cell_type": "code",
   "execution_count": 12,
   "metadata": {},
   "outputs": [
    {
     "data": {
      "text/html": [
       "<div>\n",
       "<style scoped>\n",
       "    .dataframe tbody tr th:only-of-type {\n",
       "        vertical-align: middle;\n",
       "    }\n",
       "\n",
       "    .dataframe tbody tr th {\n",
       "        vertical-align: top;\n",
       "    }\n",
       "\n",
       "    .dataframe thead th {\n",
       "        text-align: right;\n",
       "    }\n",
       "</style>\n",
       "<table border=\"1\" class=\"dataframe\">\n",
       "  <thead>\n",
       "    <tr style=\"text-align: right;\">\n",
       "      <th></th>\n",
       "      <th>tweet_id</th>\n",
       "      <th>jpg_url</th>\n",
       "      <th>img_num</th>\n",
       "      <th>p1</th>\n",
       "      <th>p1_conf</th>\n",
       "      <th>p1_dog</th>\n",
       "      <th>p2</th>\n",
       "      <th>p2_conf</th>\n",
       "      <th>p2_dog</th>\n",
       "      <th>p3</th>\n",
       "      <th>p3_conf</th>\n",
       "      <th>p3_dog</th>\n",
       "    </tr>\n",
       "  </thead>\n",
       "  <tbody>\n",
       "    <tr>\n",
       "      <th>2065</th>\n",
       "      <td>890240255349198849</td>\n",
       "      <td>https://pbs.twimg.com/media/DFrEyVuW0AAO3t9.jpg</td>\n",
       "      <td>1</td>\n",
       "      <td>Pembroke</td>\n",
       "      <td>0.511319</td>\n",
       "      <td>True</td>\n",
       "      <td>Cardigan</td>\n",
       "      <td>0.451038</td>\n",
       "      <td>True</td>\n",
       "      <td>Chihuahua</td>\n",
       "      <td>0.029248</td>\n",
       "      <td>True</td>\n",
       "    </tr>\n",
       "    <tr>\n",
       "      <th>2066</th>\n",
       "      <td>890609185150312448</td>\n",
       "      <td>https://pbs.twimg.com/media/DFwUU__XcAEpyXI.jpg</td>\n",
       "      <td>1</td>\n",
       "      <td>Irish_terrier</td>\n",
       "      <td>0.487574</td>\n",
       "      <td>True</td>\n",
       "      <td>Irish_setter</td>\n",
       "      <td>0.193054</td>\n",
       "      <td>True</td>\n",
       "      <td>Chesapeake_Bay_retriever</td>\n",
       "      <td>0.118184</td>\n",
       "      <td>True</td>\n",
       "    </tr>\n",
       "    <tr>\n",
       "      <th>2067</th>\n",
       "      <td>890729181411237888</td>\n",
       "      <td>https://pbs.twimg.com/media/DFyBahAVwAAhUTd.jpg</td>\n",
       "      <td>2</td>\n",
       "      <td>Pomeranian</td>\n",
       "      <td>0.566142</td>\n",
       "      <td>True</td>\n",
       "      <td>Eskimo_dog</td>\n",
       "      <td>0.178406</td>\n",
       "      <td>True</td>\n",
       "      <td>Pembroke</td>\n",
       "      <td>0.076507</td>\n",
       "      <td>True</td>\n",
       "    </tr>\n",
       "    <tr>\n",
       "      <th>2068</th>\n",
       "      <td>890971913173991426</td>\n",
       "      <td>https://pbs.twimg.com/media/DF1eOmZXUAALUcq.jpg</td>\n",
       "      <td>1</td>\n",
       "      <td>Appenzeller</td>\n",
       "      <td>0.341703</td>\n",
       "      <td>True</td>\n",
       "      <td>Border_collie</td>\n",
       "      <td>0.199287</td>\n",
       "      <td>True</td>\n",
       "      <td>ice_lolly</td>\n",
       "      <td>0.193548</td>\n",
       "      <td>False</td>\n",
       "    </tr>\n",
       "    <tr>\n",
       "      <th>2069</th>\n",
       "      <td>891087950875897856</td>\n",
       "      <td>https://pbs.twimg.com/media/DF3HwyEWsAABqE6.jpg</td>\n",
       "      <td>1</td>\n",
       "      <td>Chesapeake_Bay_retriever</td>\n",
       "      <td>0.425595</td>\n",
       "      <td>True</td>\n",
       "      <td>Irish_terrier</td>\n",
       "      <td>0.116317</td>\n",
       "      <td>True</td>\n",
       "      <td>Indian_elephant</td>\n",
       "      <td>0.076902</td>\n",
       "      <td>False</td>\n",
       "    </tr>\n",
       "    <tr>\n",
       "      <th>2070</th>\n",
       "      <td>891327558926688256</td>\n",
       "      <td>https://pbs.twimg.com/media/DF6hr6BUMAAzZgT.jpg</td>\n",
       "      <td>2</td>\n",
       "      <td>basset</td>\n",
       "      <td>0.555712</td>\n",
       "      <td>True</td>\n",
       "      <td>English_springer</td>\n",
       "      <td>0.225770</td>\n",
       "      <td>True</td>\n",
       "      <td>German_short-haired_pointer</td>\n",
       "      <td>0.175219</td>\n",
       "      <td>True</td>\n",
       "    </tr>\n",
       "    <tr>\n",
       "      <th>2071</th>\n",
       "      <td>891689557279858688</td>\n",
       "      <td>https://pbs.twimg.com/media/DF_q7IAWsAEuuN8.jpg</td>\n",
       "      <td>1</td>\n",
       "      <td>paper_towel</td>\n",
       "      <td>0.170278</td>\n",
       "      <td>False</td>\n",
       "      <td>Labrador_retriever</td>\n",
       "      <td>0.168086</td>\n",
       "      <td>True</td>\n",
       "      <td>spatula</td>\n",
       "      <td>0.040836</td>\n",
       "      <td>False</td>\n",
       "    </tr>\n",
       "    <tr>\n",
       "      <th>2072</th>\n",
       "      <td>891815181378084864</td>\n",
       "      <td>https://pbs.twimg.com/media/DGBdLU1WsAANxJ9.jpg</td>\n",
       "      <td>1</td>\n",
       "      <td>Chihuahua</td>\n",
       "      <td>0.716012</td>\n",
       "      <td>True</td>\n",
       "      <td>malamute</td>\n",
       "      <td>0.078253</td>\n",
       "      <td>True</td>\n",
       "      <td>kelpie</td>\n",
       "      <td>0.031379</td>\n",
       "      <td>True</td>\n",
       "    </tr>\n",
       "    <tr>\n",
       "      <th>2073</th>\n",
       "      <td>892177421306343426</td>\n",
       "      <td>https://pbs.twimg.com/media/DGGmoV4XsAAUL6n.jpg</td>\n",
       "      <td>1</td>\n",
       "      <td>Chihuahua</td>\n",
       "      <td>0.323581</td>\n",
       "      <td>True</td>\n",
       "      <td>Pekinese</td>\n",
       "      <td>0.090647</td>\n",
       "      <td>True</td>\n",
       "      <td>papillon</td>\n",
       "      <td>0.068957</td>\n",
       "      <td>True</td>\n",
       "    </tr>\n",
       "    <tr>\n",
       "      <th>2074</th>\n",
       "      <td>892420643555336193</td>\n",
       "      <td>https://pbs.twimg.com/media/DGKD1-bXoAAIAUK.jpg</td>\n",
       "      <td>1</td>\n",
       "      <td>orange</td>\n",
       "      <td>0.097049</td>\n",
       "      <td>False</td>\n",
       "      <td>bagel</td>\n",
       "      <td>0.085851</td>\n",
       "      <td>False</td>\n",
       "      <td>banana</td>\n",
       "      <td>0.076110</td>\n",
       "      <td>False</td>\n",
       "    </tr>\n",
       "  </tbody>\n",
       "</table>\n",
       "</div>"
      ],
      "text/plain": [
       "                tweet_id                                          jpg_url  \\\n",
       "2065  890240255349198849  https://pbs.twimg.com/media/DFrEyVuW0AAO3t9.jpg   \n",
       "2066  890609185150312448  https://pbs.twimg.com/media/DFwUU__XcAEpyXI.jpg   \n",
       "2067  890729181411237888  https://pbs.twimg.com/media/DFyBahAVwAAhUTd.jpg   \n",
       "2068  890971913173991426  https://pbs.twimg.com/media/DF1eOmZXUAALUcq.jpg   \n",
       "2069  891087950875897856  https://pbs.twimg.com/media/DF3HwyEWsAABqE6.jpg   \n",
       "2070  891327558926688256  https://pbs.twimg.com/media/DF6hr6BUMAAzZgT.jpg   \n",
       "2071  891689557279858688  https://pbs.twimg.com/media/DF_q7IAWsAEuuN8.jpg   \n",
       "2072  891815181378084864  https://pbs.twimg.com/media/DGBdLU1WsAANxJ9.jpg   \n",
       "2073  892177421306343426  https://pbs.twimg.com/media/DGGmoV4XsAAUL6n.jpg   \n",
       "2074  892420643555336193  https://pbs.twimg.com/media/DGKD1-bXoAAIAUK.jpg   \n",
       "\n",
       "      img_num                        p1   p1_conf  p1_dog                  p2  \\\n",
       "2065        1                  Pembroke  0.511319    True            Cardigan   \n",
       "2066        1             Irish_terrier  0.487574    True        Irish_setter   \n",
       "2067        2                Pomeranian  0.566142    True          Eskimo_dog   \n",
       "2068        1               Appenzeller  0.341703    True       Border_collie   \n",
       "2069        1  Chesapeake_Bay_retriever  0.425595    True       Irish_terrier   \n",
       "2070        2                    basset  0.555712    True    English_springer   \n",
       "2071        1               paper_towel  0.170278   False  Labrador_retriever   \n",
       "2072        1                 Chihuahua  0.716012    True            malamute   \n",
       "2073        1                 Chihuahua  0.323581    True            Pekinese   \n",
       "2074        1                    orange  0.097049   False               bagel   \n",
       "\n",
       "       p2_conf  p2_dog                           p3   p3_conf  p3_dog  \n",
       "2065  0.451038    True                    Chihuahua  0.029248    True  \n",
       "2066  0.193054    True     Chesapeake_Bay_retriever  0.118184    True  \n",
       "2067  0.178406    True                     Pembroke  0.076507    True  \n",
       "2068  0.199287    True                    ice_lolly  0.193548   False  \n",
       "2069  0.116317    True              Indian_elephant  0.076902   False  \n",
       "2070  0.225770    True  German_short-haired_pointer  0.175219    True  \n",
       "2071  0.168086    True                      spatula  0.040836   False  \n",
       "2072  0.078253    True                       kelpie  0.031379    True  \n",
       "2073  0.090647    True                     papillon  0.068957    True  \n",
       "2074  0.085851   False                       banana  0.076110   False  "
      ]
     },
     "execution_count": 12,
     "metadata": {},
     "output_type": "execute_result"
    }
   ],
   "source": [
    "# bottom 10 rows from the image prediction dataframe\n",
    "df_imgpred.tail(10)\n"
   ]
  },
  {
   "cell_type": "code",
   "execution_count": 26,
   "metadata": {},
   "outputs": [
    {
     "name": "stdout",
     "output_type": "stream",
     "text": [
      "<class 'pandas.core.frame.DataFrame'>\n",
      "RangeIndex: 2075 entries, 0 to 2074\n",
      "Data columns (total 12 columns):\n",
      " #   Column    Non-Null Count  Dtype  \n",
      "---  ------    --------------  -----  \n",
      " 0   tweet_id  2075 non-null   int64  \n",
      " 1   jpg_url   2075 non-null   object \n",
      " 2   img_num   2075 non-null   int64  \n",
      " 3   p1        2075 non-null   object \n",
      " 4   p1_conf   2075 non-null   float64\n",
      " 5   p1_dog    2075 non-null   bool   \n",
      " 6   p2        2075 non-null   object \n",
      " 7   p2_conf   2075 non-null   float64\n",
      " 8   p2_dog    2075 non-null   bool   \n",
      " 9   p3        2075 non-null   object \n",
      " 10  p3_conf   2075 non-null   float64\n",
      " 11  p3_dog    2075 non-null   bool   \n",
      "dtypes: bool(3), float64(3), int64(2), object(4)\n",
      "memory usage: 152.1+ KB\n"
     ]
    }
   ],
   "source": [
    "# Use summary statistics to understand df_imgpred dataframe\n",
    "df_imgpred.info()\n"
   ]
  },
  {
   "cell_type": "markdown",
   "metadata": {},
   "source": [
    "#### 3- Inspect df_twMetrics dataframe"
   ]
  },
  {
   "cell_type": "code",
   "execution_count": 6,
   "metadata": {},
   "outputs": [
    {
     "data": {
      "text/html": [
       "<div>\n",
       "<style scoped>\n",
       "    .dataframe tbody tr th:only-of-type {\n",
       "        vertical-align: middle;\n",
       "    }\n",
       "\n",
       "    .dataframe tbody tr th {\n",
       "        vertical-align: top;\n",
       "    }\n",
       "\n",
       "    .dataframe thead th {\n",
       "        text-align: right;\n",
       "    }\n",
       "</style>\n",
       "<table border=\"1\" class=\"dataframe\">\n",
       "  <thead>\n",
       "    <tr style=\"text-align: right;\">\n",
       "      <th></th>\n",
       "      <th>tweet_id</th>\n",
       "      <th>favorite_count</th>\n",
       "      <th>retweet_count</th>\n",
       "    </tr>\n",
       "  </thead>\n",
       "  <tbody>\n",
       "    <tr>\n",
       "      <th>0</th>\n",
       "      <td>892420643555336193</td>\n",
       "      <td>39467</td>\n",
       "      <td>8853</td>\n",
       "    </tr>\n",
       "    <tr>\n",
       "      <th>1</th>\n",
       "      <td>892177421306343426</td>\n",
       "      <td>33819</td>\n",
       "      <td>6514</td>\n",
       "    </tr>\n",
       "    <tr>\n",
       "      <th>2</th>\n",
       "      <td>891815181378084864</td>\n",
       "      <td>25461</td>\n",
       "      <td>4328</td>\n",
       "    </tr>\n",
       "    <tr>\n",
       "      <th>3</th>\n",
       "      <td>891689557279858688</td>\n",
       "      <td>42908</td>\n",
       "      <td>8964</td>\n",
       "    </tr>\n",
       "    <tr>\n",
       "      <th>4</th>\n",
       "      <td>891327558926688256</td>\n",
       "      <td>41048</td>\n",
       "      <td>9774</td>\n",
       "    </tr>\n",
       "    <tr>\n",
       "      <th>5</th>\n",
       "      <td>891087950875897856</td>\n",
       "      <td>20562</td>\n",
       "      <td>3261</td>\n",
       "    </tr>\n",
       "    <tr>\n",
       "      <th>6</th>\n",
       "      <td>890971913173991426</td>\n",
       "      <td>12041</td>\n",
       "      <td>2158</td>\n",
       "    </tr>\n",
       "    <tr>\n",
       "      <th>7</th>\n",
       "      <td>890729181411237888</td>\n",
       "      <td>56848</td>\n",
       "      <td>16716</td>\n",
       "    </tr>\n",
       "    <tr>\n",
       "      <th>8</th>\n",
       "      <td>890609185150312448</td>\n",
       "      <td>28226</td>\n",
       "      <td>4429</td>\n",
       "    </tr>\n",
       "    <tr>\n",
       "      <th>9</th>\n",
       "      <td>890240255349198849</td>\n",
       "      <td>32467</td>\n",
       "      <td>7711</td>\n",
       "    </tr>\n",
       "  </tbody>\n",
       "</table>\n",
       "</div>"
      ],
      "text/plain": [
       "             tweet_id  favorite_count  retweet_count\n",
       "0  892420643555336193           39467           8853\n",
       "1  892177421306343426           33819           6514\n",
       "2  891815181378084864           25461           4328\n",
       "3  891689557279858688           42908           8964\n",
       "4  891327558926688256           41048           9774\n",
       "5  891087950875897856           20562           3261\n",
       "6  890971913173991426           12041           2158\n",
       "7  890729181411237888           56848          16716\n",
       "8  890609185150312448           28226           4429\n",
       "9  890240255349198849           32467           7711"
      ]
     },
     "execution_count": 6,
     "metadata": {},
     "output_type": "execute_result"
    }
   ],
   "source": [
    "# top 10 rows from the tweets metrics dataframe\n",
    "df_twMetrics.head(10)\n"
   ]
  },
  {
   "cell_type": "code",
   "execution_count": 13,
   "metadata": {},
   "outputs": [
    {
     "data": {
      "text/html": [
       "<div>\n",
       "<style scoped>\n",
       "    .dataframe tbody tr th:only-of-type {\n",
       "        vertical-align: middle;\n",
       "    }\n",
       "\n",
       "    .dataframe tbody tr th {\n",
       "        vertical-align: top;\n",
       "    }\n",
       "\n",
       "    .dataframe thead th {\n",
       "        text-align: right;\n",
       "    }\n",
       "</style>\n",
       "<table border=\"1\" class=\"dataframe\">\n",
       "  <thead>\n",
       "    <tr style=\"text-align: right;\">\n",
       "      <th></th>\n",
       "      <th>tweet_id</th>\n",
       "      <th>favorite_count</th>\n",
       "      <th>retweet_count</th>\n",
       "    </tr>\n",
       "  </thead>\n",
       "  <tbody>\n",
       "    <tr>\n",
       "      <th>2344</th>\n",
       "      <td>666058600524156928</td>\n",
       "      <td>115</td>\n",
       "      <td>61</td>\n",
       "    </tr>\n",
       "    <tr>\n",
       "      <th>2345</th>\n",
       "      <td>666057090499244032</td>\n",
       "      <td>304</td>\n",
       "      <td>146</td>\n",
       "    </tr>\n",
       "    <tr>\n",
       "      <th>2346</th>\n",
       "      <td>666055525042405380</td>\n",
       "      <td>448</td>\n",
       "      <td>261</td>\n",
       "    </tr>\n",
       "    <tr>\n",
       "      <th>2347</th>\n",
       "      <td>666051853826850816</td>\n",
       "      <td>1253</td>\n",
       "      <td>879</td>\n",
       "    </tr>\n",
       "    <tr>\n",
       "      <th>2348</th>\n",
       "      <td>666050758794694657</td>\n",
       "      <td>136</td>\n",
       "      <td>60</td>\n",
       "    </tr>\n",
       "    <tr>\n",
       "      <th>2349</th>\n",
       "      <td>666049248165822465</td>\n",
       "      <td>111</td>\n",
       "      <td>41</td>\n",
       "    </tr>\n",
       "    <tr>\n",
       "      <th>2350</th>\n",
       "      <td>666044226329800704</td>\n",
       "      <td>311</td>\n",
       "      <td>147</td>\n",
       "    </tr>\n",
       "    <tr>\n",
       "      <th>2351</th>\n",
       "      <td>666033412701032449</td>\n",
       "      <td>128</td>\n",
       "      <td>47</td>\n",
       "    </tr>\n",
       "    <tr>\n",
       "      <th>2352</th>\n",
       "      <td>666029285002620928</td>\n",
       "      <td>132</td>\n",
       "      <td>48</td>\n",
       "    </tr>\n",
       "    <tr>\n",
       "      <th>2353</th>\n",
       "      <td>666020888022790149</td>\n",
       "      <td>2535</td>\n",
       "      <td>532</td>\n",
       "    </tr>\n",
       "  </tbody>\n",
       "</table>\n",
       "</div>"
      ],
      "text/plain": [
       "                tweet_id  favorite_count  retweet_count\n",
       "2344  666058600524156928             115             61\n",
       "2345  666057090499244032             304            146\n",
       "2346  666055525042405380             448            261\n",
       "2347  666051853826850816            1253            879\n",
       "2348  666050758794694657             136             60\n",
       "2349  666049248165822465             111             41\n",
       "2350  666044226329800704             311            147\n",
       "2351  666033412701032449             128             47\n",
       "2352  666029285002620928             132             48\n",
       "2353  666020888022790149            2535            532"
      ]
     },
     "execution_count": 13,
     "metadata": {},
     "output_type": "execute_result"
    }
   ],
   "source": [
    "# bottom 10 rows from the tweets metrics dataframe\n",
    "df_twMetrics.tail(10)\n"
   ]
  },
  {
   "cell_type": "code",
   "execution_count": 20,
   "metadata": {},
   "outputs": [
    {
     "name": "stdout",
     "output_type": "stream",
     "text": [
      "<class 'pandas.core.frame.DataFrame'>\n",
      "RangeIndex: 2354 entries, 0 to 2353\n",
      "Data columns (total 9 columns):\n",
      " #   Column            Non-Null Count  Dtype \n",
      "---  ------            --------------  ----- \n",
      " 0   tweet_id          2354 non-null   object\n",
      " 1   favorite_count    2354 non-null   int64 \n",
      " 2   retweet_count     2354 non-null   int64 \n",
      " 3   followers_count   2354 non-null   int64 \n",
      " 4   friends_count     2354 non-null   int64 \n",
      " 5   source            2354 non-null   object\n",
      " 6   retweeted_flag    2354 non-null   bool  \n",
      " 7   retweeted_status  2354 non-null   object\n",
      " 8   url               2354 non-null   object\n",
      "dtypes: bool(1), int64(4), object(4)\n",
      "memory usage: 149.5+ KB\n"
     ]
    }
   ],
   "source": [
    "# Use summary statistics to understand df_twMetrics dataframe\n",
    "df_twMetrics.info()\n"
   ]
  },
  {
   "cell_type": "code",
   "execution_count": null,
   "metadata": {},
   "outputs": [],
   "source": []
  },
  {
   "cell_type": "markdown",
   "metadata": {},
   "source": [
    "### Quality issues\n",
    "\n",
    "1. Timestamp needs splitting to date and time\n",
    "\n",
    "2. Clean 'None' from doggo, floofer, pupper, puppo columns and join to a new column name dog_type.\n",
    "\n",
    "3. Clean HTML code and extract hyperlink text in the source column\n",
    "\n",
    "4. Resolve erronous string values such as 'None' and 'a' from Dog names column\n",
    "\n",
    "5. Remove non-dog images based on p1, and remove 2nd and 3rd prediction columns as they are not required\n",
    "\n",
    "6. Convert confidance to % with 2 decimal precision points\n",
    "\n",
    "7. Extract file name from jpg_url\n",
    "\n",
    "8. Remove underscores _ and convert breed name into proper capitalised English names and rename column to breed. "
   ]
  },
  {
   "cell_type": "markdown",
   "metadata": {
    "extensions": {
     "jupyter_dashboards": {
      "version": 1,
      "views": {
       "grid_default": {
        "col": 0,
        "height": 7,
        "hidden": false,
        "row": 40,
        "width": 12
       },
       "report_default": {
        "hidden": false
       }
      }
     }
    }
   },
   "source": [
    "### Tidiness issues\n",
    "\n",
    "9. Remove retweets from observations (rows of data) and also remove retweets related columns\n",
    "\n",
    "10. The data is split into 3 different dataframes, which need to be merged to produce a master dataframe for analysis "
   ]
  },
  {
   "cell_type": "markdown",
   "metadata": {
    "extensions": {
     "jupyter_dashboards": {
      "version": 1,
      "views": {
       "grid_default": {
        "col": 4,
        "height": 4,
        "hidden": false,
        "row": 32,
        "width": 4
       },
       "report_default": {
        "hidden": false
       }
      }
     }
    }
   },
   "source": [
    "## Cleaning Data\n",
    "In this section, clean **all** of the issues you documented while assessing. \n",
    "\n",
    "**Note:** Make a copy of the original data before cleaning. Cleaning includes merging individual pieces of data according to the rules of [tidy data](https://cran.r-project.org/web/packages/tidyr/vignettes/tidy-data.html). The result should be a high-quality and tidy master pandas DataFrame (or DataFrames, if appropriate)."
   ]
  },
  {
   "cell_type": "code",
   "execution_count": 628,
   "metadata": {},
   "outputs": [],
   "source": [
    "# Make copies of original data frames\n",
    "dfa_copy = df_twArch.copy(deep=True)\n",
    "dfp_copy = df_imgpred.copy(deep=True)\n",
    "dfm_copy = df_twMetrics.copy(deep=True)\n"
   ]
  },
  {
   "cell_type": "markdown",
   "metadata": {},
   "source": [
    "### Issue #1: Timestamp needs splitting to date and time"
   ]
  },
  {
   "cell_type": "markdown",
   "metadata": {},
   "source": [
    "#### Define:\n",
    "\n",
    "The timestamp is currently in this format: 2015-11-16 01:01:59 +0000, which encapulates the date, the time, and the timezone offset. timezone is always +0000, which is midnight Greenwich time.\n",
    "\n",
    "We need to be able to separate those three fields, which allows us to analyse those pieces separately with ease. Therefore, we will create two columns one for date and one for time."
   ]
  },
  {
   "cell_type": "markdown",
   "metadata": {},
   "source": [
    "#### Code"
   ]
  },
  {
   "cell_type": "code",
   "execution_count": 629,
   "metadata": {},
   "outputs": [
    {
     "data": {
      "text/plain": [
       "str"
      ]
     },
     "execution_count": 629,
     "metadata": {},
     "output_type": "execute_result"
    }
   ],
   "source": [
    "# timestamp is a string type\n",
    "type(dfa_copy['timestamp'][0])"
   ]
  },
  {
   "cell_type": "code",
   "execution_count": 630,
   "metadata": {},
   "outputs": [],
   "source": [
    "# convert timestamp string to datetime object to work with.\n",
    "dfa_copy['timestamp'] = pd.to_datetime(dfa_copy['timestamp'], format='%Y-%m-%d %H:%M:%S %z')\n",
    "# Extract date and time from timestamp\n",
    "dfa_copy['date'] = pd.to_datetime(dfa_copy['timestamp']).dt.date\n",
    "dfa_copy['year'] = pd.to_datetime(dfa_copy['timestamp']).dt.year\n",
    "dfa_copy['month'] = pd.to_datetime(dfa_copy['timestamp']).dt.month\n",
    "dfa_copy['day'] = pd.to_datetime(dfa_copy['timestamp']).dt.day\n",
    "dfa_copy['weekday_name'] = pd.to_datetime(dfa_copy['timestamp']).dt.day_name()\n",
    "dfa_copy['time'] = pd.to_datetime(dfa_copy['timestamp']).dt.time\n",
    "dfa_copy['hour'] = pd.to_datetime(dfa_copy['timestamp']).dt.hour\n",
    "dfa_copy['minute'] = pd.to_datetime(dfa_copy['timestamp']).dt.minute\n",
    "dfa_copy['second'] = pd.to_datetime(dfa_copy['timestamp']).dt.second\n"
   ]
  },
  {
   "cell_type": "markdown",
   "metadata": {},
   "source": [
    "#### Test"
   ]
  },
  {
   "cell_type": "code",
   "execution_count": 631,
   "metadata": {},
   "outputs": [
    {
     "data": {
      "text/plain": [
       "0"
      ]
     },
     "execution_count": 631,
     "metadata": {},
     "output_type": "execute_result"
    }
   ],
   "source": [
    "# Check if errors produced during conversion\n",
    "dfa_copy['timestamp'].isna().sum()"
   ]
  },
  {
   "cell_type": "code",
   "execution_count": 632,
   "metadata": {},
   "outputs": [
    {
     "data": {
      "text/plain": [
       "0   2017-08-01 16:23:56+00:00\n",
       "1   2017-08-01 00:17:27+00:00\n",
       "2   2017-07-31 00:18:03+00:00\n",
       "3   2017-07-30 15:58:51+00:00\n",
       "4   2017-07-29 16:00:24+00:00\n",
       "Name: timestamp, dtype: datetime64[ns, UTC]"
      ]
     },
     "execution_count": 632,
     "metadata": {},
     "output_type": "execute_result"
    }
   ],
   "source": [
    "# Check conversion values\n",
    "dfa_copy['timestamp'].head(5)"
   ]
  },
  {
   "cell_type": "code",
   "execution_count": 633,
   "metadata": {},
   "outputs": [
    {
     "data": {
      "text/plain": [
       "(0, 0)"
      ]
     },
     "execution_count": 633,
     "metadata": {},
     "output_type": "execute_result"
    }
   ],
   "source": [
    "# Check if any errors were produced during conversion\n",
    "dfa_copy['date'].isna().sum(), dfa_copy['time'].isna().sum()"
   ]
  },
  {
   "cell_type": "code",
   "execution_count": 634,
   "metadata": {},
   "outputs": [
    {
     "data": {
      "text/html": [
       "<div>\n",
       "<style scoped>\n",
       "    .dataframe tbody tr th:only-of-type {\n",
       "        vertical-align: middle;\n",
       "    }\n",
       "\n",
       "    .dataframe tbody tr th {\n",
       "        vertical-align: top;\n",
       "    }\n",
       "\n",
       "    .dataframe thead th {\n",
       "        text-align: right;\n",
       "    }\n",
       "</style>\n",
       "<table border=\"1\" class=\"dataframe\">\n",
       "  <thead>\n",
       "    <tr style=\"text-align: right;\">\n",
       "      <th></th>\n",
       "      <th>date</th>\n",
       "      <th>year</th>\n",
       "      <th>month</th>\n",
       "      <th>day</th>\n",
       "      <th>weekday_name</th>\n",
       "      <th>time</th>\n",
       "      <th>hour</th>\n",
       "      <th>minute</th>\n",
       "      <th>second</th>\n",
       "    </tr>\n",
       "  </thead>\n",
       "  <tbody>\n",
       "    <tr>\n",
       "      <th>0</th>\n",
       "      <td>2017-08-01</td>\n",
       "      <td>2017</td>\n",
       "      <td>8</td>\n",
       "      <td>1</td>\n",
       "      <td>Tuesday</td>\n",
       "      <td>16:23:56</td>\n",
       "      <td>16</td>\n",
       "      <td>23</td>\n",
       "      <td>56</td>\n",
       "    </tr>\n",
       "    <tr>\n",
       "      <th>1</th>\n",
       "      <td>2017-08-01</td>\n",
       "      <td>2017</td>\n",
       "      <td>8</td>\n",
       "      <td>1</td>\n",
       "      <td>Tuesday</td>\n",
       "      <td>00:17:27</td>\n",
       "      <td>0</td>\n",
       "      <td>17</td>\n",
       "      <td>27</td>\n",
       "    </tr>\n",
       "    <tr>\n",
       "      <th>2</th>\n",
       "      <td>2017-07-31</td>\n",
       "      <td>2017</td>\n",
       "      <td>7</td>\n",
       "      <td>31</td>\n",
       "      <td>Monday</td>\n",
       "      <td>00:18:03</td>\n",
       "      <td>0</td>\n",
       "      <td>18</td>\n",
       "      <td>3</td>\n",
       "    </tr>\n",
       "    <tr>\n",
       "      <th>3</th>\n",
       "      <td>2017-07-30</td>\n",
       "      <td>2017</td>\n",
       "      <td>7</td>\n",
       "      <td>30</td>\n",
       "      <td>Sunday</td>\n",
       "      <td>15:58:51</td>\n",
       "      <td>15</td>\n",
       "      <td>58</td>\n",
       "      <td>51</td>\n",
       "    </tr>\n",
       "    <tr>\n",
       "      <th>4</th>\n",
       "      <td>2017-07-29</td>\n",
       "      <td>2017</td>\n",
       "      <td>7</td>\n",
       "      <td>29</td>\n",
       "      <td>Saturday</td>\n",
       "      <td>16:00:24</td>\n",
       "      <td>16</td>\n",
       "      <td>0</td>\n",
       "      <td>24</td>\n",
       "    </tr>\n",
       "  </tbody>\n",
       "</table>\n",
       "</div>"
      ],
      "text/plain": [
       "         date  year  month  day weekday_name      time  hour  minute  second\n",
       "0  2017-08-01  2017      8    1      Tuesday  16:23:56    16      23      56\n",
       "1  2017-08-01  2017      8    1      Tuesday  00:17:27     0      17      27\n",
       "2  2017-07-31  2017      7   31       Monday  00:18:03     0      18       3\n",
       "3  2017-07-30  2017      7   30       Sunday  15:58:51    15      58      51\n",
       "4  2017-07-29  2017      7   29     Saturday  16:00:24    16       0      24"
      ]
     },
     "execution_count": 634,
     "metadata": {},
     "output_type": "execute_result"
    }
   ],
   "source": [
    "# inspect conversion worked on top 5 records\n",
    "dfa_copy[['date','year','month','day','weekday_name','time','hour','minute', 'second']].head(5)"
   ]
  },
  {
   "cell_type": "code",
   "execution_count": 635,
   "metadata": {},
   "outputs": [],
   "source": [
    "# Finally we could drop the no longer required columns. But I prefer to keep the original timestamp for any downstream \n",
    "# systems that require a ready to use timestamp! depends on whether you want to use this clean data for other systems!\n",
    "# dfa_copy.drop(['timestamp'], axis=1, inplace=True)"
   ]
  },
  {
   "cell_type": "markdown",
   "metadata": {},
   "source": [
    "### Issue #2: Remove 'None', and 'a' values and combine dog type"
   ]
  },
  {
   "cell_type": "markdown",
   "metadata": {
    "extensions": {
     "jupyter_dashboards": {
      "version": 1,
      "views": {
       "grid_default": {
        "hidden": true
       },
       "report_default": {
        "hidden": true
       }
      }
     }
    }
   },
   "source": [
    "#### Define\n",
    "'None' was used when no values are present. This is not ideal as it can be treated as valid value when carring out analysis on those columns. Also, the name 'a' for Dogs was used 51 times which is wrong and likely to present a none present value.\n",
    "\n",
    "Also doggo, floofer, pupper, puppo columns represent dog types, which is unefficient and uneasy to analyse. It is best to combine the columns into one dog type column that can be used for further analysis such as filtering, and segmentation."
   ]
  },
  {
   "cell_type": "markdown",
   "metadata": {},
   "source": [
    "#### Code"
   ]
  },
  {
   "cell_type": "code",
   "execution_count": 636,
   "metadata": {},
   "outputs": [
    {
     "data": {
      "text/plain": [
       "('None', str)"
      ]
     },
     "execution_count": 636,
     "metadata": {},
     "output_type": "execute_result"
    }
   ],
   "source": [
    "# None is a string and not python type None.\n",
    "dfa_copy['doggo'][0], type(dfa_copy['doggo'][0])\n"
   ]
  },
  {
   "cell_type": "code",
   "execution_count": 637,
   "metadata": {},
   "outputs": [],
   "source": [
    "# replace 'None' strings with proper None type value\n",
    "dfa_copy.replace({'None': None}, inplace=True)\n"
   ]
  },
  {
   "cell_type": "code",
   "execution_count": 638,
   "metadata": {},
   "outputs": [],
   "source": [
    "# Combine type columns into one column\n",
    "dfa_copy[['type']] = dfa_copy[['doggo','floofer','pupper','puppo']].apply(lambda x: '|'.join(filter(None,list(x))) , axis=1)\n",
    "# filter(None,list(x))\n",
    "# '|'.join([str(i) for i in x if i is not None]"
   ]
  },
  {
   "cell_type": "code",
   "execution_count": 639,
   "metadata": {},
   "outputs": [],
   "source": [
    "# convert empty string values into NaN so that out of the box python packages can handle properly for filtering\n",
    "dfa_copy['type'].replace({'':np.nan}, inplace=True)"
   ]
  },
  {
   "cell_type": "markdown",
   "metadata": {},
   "source": [
    "#### Test"
   ]
  },
  {
   "cell_type": "code",
   "execution_count": 640,
   "metadata": {},
   "outputs": [
    {
     "data": {
      "text/html": [
       "<div>\n",
       "<style scoped>\n",
       "    .dataframe tbody tr th:only-of-type {\n",
       "        vertical-align: middle;\n",
       "    }\n",
       "\n",
       "    .dataframe tbody tr th {\n",
       "        vertical-align: top;\n",
       "    }\n",
       "\n",
       "    .dataframe thead th {\n",
       "        text-align: right;\n",
       "    }\n",
       "</style>\n",
       "<table border=\"1\" class=\"dataframe\">\n",
       "  <thead>\n",
       "    <tr style=\"text-align: right;\">\n",
       "      <th></th>\n",
       "      <th>tweet_id</th>\n",
       "      <th>in_reply_to_status_id</th>\n",
       "      <th>in_reply_to_user_id</th>\n",
       "      <th>timestamp</th>\n",
       "      <th>source</th>\n",
       "      <th>text</th>\n",
       "      <th>retweeted_status_id</th>\n",
       "      <th>retweeted_status_user_id</th>\n",
       "      <th>retweeted_status_timestamp</th>\n",
       "      <th>expanded_urls</th>\n",
       "      <th>...</th>\n",
       "      <th>date</th>\n",
       "      <th>year</th>\n",
       "      <th>month</th>\n",
       "      <th>day</th>\n",
       "      <th>weekday_name</th>\n",
       "      <th>time</th>\n",
       "      <th>hour</th>\n",
       "      <th>minute</th>\n",
       "      <th>second</th>\n",
       "      <th>type</th>\n",
       "    </tr>\n",
       "  </thead>\n",
       "  <tbody>\n",
       "  </tbody>\n",
       "</table>\n",
       "<p>0 rows × 27 columns</p>\n",
       "</div>"
      ],
      "text/plain": [
       "Empty DataFrame\n",
       "Columns: [tweet_id, in_reply_to_status_id, in_reply_to_user_id, timestamp, source, text, retweeted_status_id, retweeted_status_user_id, retweeted_status_timestamp, expanded_urls, rating_numerator, rating_denominator, name, doggo, floofer, pupper, puppo, date, year, month, day, weekday_name, time, hour, minute, second, type]\n",
       "Index: []\n",
       "\n",
       "[0 rows x 27 columns]"
      ]
     },
     "execution_count": 640,
     "metadata": {},
     "output_type": "execute_result"
    }
   ],
   "source": [
    "# Check empty strings are not present in the column values\n",
    "dfa_copy.query('type == \"\"').head(5)"
   ]
  },
  {
   "cell_type": "code",
   "execution_count": 641,
   "metadata": {},
   "outputs": [
    {
     "data": {
      "text/html": [
       "<div>\n",
       "<style scoped>\n",
       "    .dataframe tbody tr th:only-of-type {\n",
       "        vertical-align: middle;\n",
       "    }\n",
       "\n",
       "    .dataframe tbody tr th {\n",
       "        vertical-align: top;\n",
       "    }\n",
       "\n",
       "    .dataframe thead th {\n",
       "        text-align: right;\n",
       "    }\n",
       "</style>\n",
       "<table border=\"1\" class=\"dataframe\">\n",
       "  <thead>\n",
       "    <tr style=\"text-align: right;\">\n",
       "      <th></th>\n",
       "      <th>tweet_id</th>\n",
       "      <th>in_reply_to_status_id</th>\n",
       "      <th>in_reply_to_user_id</th>\n",
       "      <th>timestamp</th>\n",
       "      <th>source</th>\n",
       "      <th>text</th>\n",
       "      <th>retweeted_status_id</th>\n",
       "      <th>retweeted_status_user_id</th>\n",
       "      <th>retweeted_status_timestamp</th>\n",
       "      <th>expanded_urls</th>\n",
       "      <th>...</th>\n",
       "      <th>date</th>\n",
       "      <th>year</th>\n",
       "      <th>month</th>\n",
       "      <th>day</th>\n",
       "      <th>weekday_name</th>\n",
       "      <th>time</th>\n",
       "      <th>hour</th>\n",
       "      <th>minute</th>\n",
       "      <th>second</th>\n",
       "      <th>type</th>\n",
       "    </tr>\n",
       "  </thead>\n",
       "  <tbody>\n",
       "    <tr>\n",
       "      <th>9</th>\n",
       "      <td>890240255349198849</td>\n",
       "      <td>NaN</td>\n",
       "      <td>NaN</td>\n",
       "      <td>2017-07-26 15:59:51+00:00</td>\n",
       "      <td>&lt;a href=\"http://twitter.com/download/iphone\" r...</td>\n",
       "      <td>This is Cassie. She is a college pup. Studying...</td>\n",
       "      <td>NaN</td>\n",
       "      <td>NaN</td>\n",
       "      <td>NaN</td>\n",
       "      <td>https://twitter.com/dog_rates/status/890240255...</td>\n",
       "      <td>...</td>\n",
       "      <td>2017-07-26</td>\n",
       "      <td>2017</td>\n",
       "      <td>7</td>\n",
       "      <td>26</td>\n",
       "      <td>Wednesday</td>\n",
       "      <td>15:59:51</td>\n",
       "      <td>15</td>\n",
       "      <td>59</td>\n",
       "      <td>51</td>\n",
       "      <td>doggo</td>\n",
       "    </tr>\n",
       "    <tr>\n",
       "      <th>12</th>\n",
       "      <td>889665388333682689</td>\n",
       "      <td>NaN</td>\n",
       "      <td>NaN</td>\n",
       "      <td>2017-07-25 01:55:32+00:00</td>\n",
       "      <td>&lt;a href=\"http://twitter.com/download/iphone\" r...</td>\n",
       "      <td>Here's a puppo that seems to be on the fence a...</td>\n",
       "      <td>NaN</td>\n",
       "      <td>NaN</td>\n",
       "      <td>NaN</td>\n",
       "      <td>https://twitter.com/dog_rates/status/889665388...</td>\n",
       "      <td>...</td>\n",
       "      <td>2017-07-25</td>\n",
       "      <td>2017</td>\n",
       "      <td>7</td>\n",
       "      <td>25</td>\n",
       "      <td>Tuesday</td>\n",
       "      <td>01:55:32</td>\n",
       "      <td>1</td>\n",
       "      <td>55</td>\n",
       "      <td>32</td>\n",
       "      <td>puppo</td>\n",
       "    </tr>\n",
       "    <tr>\n",
       "      <th>14</th>\n",
       "      <td>889531135344209921</td>\n",
       "      <td>NaN</td>\n",
       "      <td>NaN</td>\n",
       "      <td>2017-07-24 17:02:04+00:00</td>\n",
       "      <td>&lt;a href=\"http://twitter.com/download/iphone\" r...</td>\n",
       "      <td>This is Stuart. He's sporting his favorite fan...</td>\n",
       "      <td>NaN</td>\n",
       "      <td>NaN</td>\n",
       "      <td>NaN</td>\n",
       "      <td>https://twitter.com/dog_rates/status/889531135...</td>\n",
       "      <td>...</td>\n",
       "      <td>2017-07-24</td>\n",
       "      <td>2017</td>\n",
       "      <td>7</td>\n",
       "      <td>24</td>\n",
       "      <td>Monday</td>\n",
       "      <td>17:02:04</td>\n",
       "      <td>17</td>\n",
       "      <td>2</td>\n",
       "      <td>4</td>\n",
       "      <td>puppo</td>\n",
       "    </tr>\n",
       "    <tr>\n",
       "      <th>29</th>\n",
       "      <td>886366144734445568</td>\n",
       "      <td>NaN</td>\n",
       "      <td>NaN</td>\n",
       "      <td>2017-07-15 23:25:31+00:00</td>\n",
       "      <td>&lt;a href=\"http://twitter.com/download/iphone\" r...</td>\n",
       "      <td>This is Roscoe. Another pupper fallen victim t...</td>\n",
       "      <td>NaN</td>\n",
       "      <td>NaN</td>\n",
       "      <td>NaN</td>\n",
       "      <td>https://twitter.com/dog_rates/status/886366144...</td>\n",
       "      <td>...</td>\n",
       "      <td>2017-07-15</td>\n",
       "      <td>2017</td>\n",
       "      <td>7</td>\n",
       "      <td>15</td>\n",
       "      <td>Saturday</td>\n",
       "      <td>23:25:31</td>\n",
       "      <td>23</td>\n",
       "      <td>25</td>\n",
       "      <td>31</td>\n",
       "      <td>pupper</td>\n",
       "    </tr>\n",
       "    <tr>\n",
       "      <th>43</th>\n",
       "      <td>884162670584377345</td>\n",
       "      <td>NaN</td>\n",
       "      <td>NaN</td>\n",
       "      <td>2017-07-09 21:29:42+00:00</td>\n",
       "      <td>&lt;a href=\"http://twitter.com/download/iphone\" r...</td>\n",
       "      <td>Meet Yogi. He doesn't have any important dog m...</td>\n",
       "      <td>NaN</td>\n",
       "      <td>NaN</td>\n",
       "      <td>NaN</td>\n",
       "      <td>https://twitter.com/dog_rates/status/884162670...</td>\n",
       "      <td>...</td>\n",
       "      <td>2017-07-09</td>\n",
       "      <td>2017</td>\n",
       "      <td>7</td>\n",
       "      <td>9</td>\n",
       "      <td>Sunday</td>\n",
       "      <td>21:29:42</td>\n",
       "      <td>21</td>\n",
       "      <td>29</td>\n",
       "      <td>42</td>\n",
       "      <td>doggo</td>\n",
       "    </tr>\n",
       "  </tbody>\n",
       "</table>\n",
       "<p>5 rows × 27 columns</p>\n",
       "</div>"
      ],
      "text/plain": [
       "              tweet_id  in_reply_to_status_id  in_reply_to_user_id  \\\n",
       "9   890240255349198849                    NaN                  NaN   \n",
       "12  889665388333682689                    NaN                  NaN   \n",
       "14  889531135344209921                    NaN                  NaN   \n",
       "29  886366144734445568                    NaN                  NaN   \n",
       "43  884162670584377345                    NaN                  NaN   \n",
       "\n",
       "                   timestamp  \\\n",
       "9  2017-07-26 15:59:51+00:00   \n",
       "12 2017-07-25 01:55:32+00:00   \n",
       "14 2017-07-24 17:02:04+00:00   \n",
       "29 2017-07-15 23:25:31+00:00   \n",
       "43 2017-07-09 21:29:42+00:00   \n",
       "\n",
       "                                               source  \\\n",
       "9   <a href=\"http://twitter.com/download/iphone\" r...   \n",
       "12  <a href=\"http://twitter.com/download/iphone\" r...   \n",
       "14  <a href=\"http://twitter.com/download/iphone\" r...   \n",
       "29  <a href=\"http://twitter.com/download/iphone\" r...   \n",
       "43  <a href=\"http://twitter.com/download/iphone\" r...   \n",
       "\n",
       "                                                 text  retweeted_status_id  \\\n",
       "9   This is Cassie. She is a college pup. Studying...                  NaN   \n",
       "12  Here's a puppo that seems to be on the fence a...                  NaN   \n",
       "14  This is Stuart. He's sporting his favorite fan...                  NaN   \n",
       "29  This is Roscoe. Another pupper fallen victim t...                  NaN   \n",
       "43  Meet Yogi. He doesn't have any important dog m...                  NaN   \n",
       "\n",
       "    retweeted_status_user_id retweeted_status_timestamp  \\\n",
       "9                        NaN                        NaN   \n",
       "12                       NaN                        NaN   \n",
       "14                       NaN                        NaN   \n",
       "29                       NaN                        NaN   \n",
       "43                       NaN                        NaN   \n",
       "\n",
       "                                        expanded_urls  ...        date  year  \\\n",
       "9   https://twitter.com/dog_rates/status/890240255...  ...  2017-07-26  2017   \n",
       "12  https://twitter.com/dog_rates/status/889665388...  ...  2017-07-25  2017   \n",
       "14  https://twitter.com/dog_rates/status/889531135...  ...  2017-07-24  2017   \n",
       "29  https://twitter.com/dog_rates/status/886366144...  ...  2017-07-15  2017   \n",
       "43  https://twitter.com/dog_rates/status/884162670...  ...  2017-07-09  2017   \n",
       "\n",
       "   month day weekday_name      time hour minute  second    type  \n",
       "9      7  26    Wednesday  15:59:51   15     59      51   doggo  \n",
       "12     7  25      Tuesday  01:55:32    1     55      32   puppo  \n",
       "14     7  24       Monday  17:02:04   17      2       4   puppo  \n",
       "29     7  15     Saturday  23:25:31   23     25      31  pupper  \n",
       "43     7   9       Sunday  21:29:42   21     29      42   doggo  \n",
       "\n",
       "[5 rows x 27 columns]"
      ]
     },
     "execution_count": 641,
     "metadata": {},
     "output_type": "execute_result"
    }
   ],
   "source": [
    "# Check type values from conversion produced correctly\n",
    "dfa_copy.query('~type.isnull()').head(5)"
   ]
  },
  {
   "cell_type": "code",
   "execution_count": 642,
   "metadata": {},
   "outputs": [
    {
     "data": {
      "text/html": [
       "<div>\n",
       "<style scoped>\n",
       "    .dataframe tbody tr th:only-of-type {\n",
       "        vertical-align: middle;\n",
       "    }\n",
       "\n",
       "    .dataframe tbody tr th {\n",
       "        vertical-align: top;\n",
       "    }\n",
       "\n",
       "    .dataframe thead th {\n",
       "        text-align: right;\n",
       "    }\n",
       "</style>\n",
       "<table border=\"1\" class=\"dataframe\">\n",
       "  <thead>\n",
       "    <tr style=\"text-align: right;\">\n",
       "      <th></th>\n",
       "      <th>tweet_id</th>\n",
       "      <th>in_reply_to_status_id</th>\n",
       "      <th>in_reply_to_user_id</th>\n",
       "      <th>timestamp</th>\n",
       "      <th>source</th>\n",
       "      <th>text</th>\n",
       "      <th>retweeted_status_id</th>\n",
       "      <th>retweeted_status_user_id</th>\n",
       "      <th>retweeted_status_timestamp</th>\n",
       "      <th>expanded_urls</th>\n",
       "      <th>...</th>\n",
       "      <th>date</th>\n",
       "      <th>year</th>\n",
       "      <th>month</th>\n",
       "      <th>day</th>\n",
       "      <th>weekday_name</th>\n",
       "      <th>time</th>\n",
       "      <th>hour</th>\n",
       "      <th>minute</th>\n",
       "      <th>second</th>\n",
       "      <th>type</th>\n",
       "    </tr>\n",
       "  </thead>\n",
       "  <tbody>\n",
       "    <tr>\n",
       "      <th>0</th>\n",
       "      <td>892420643555336193</td>\n",
       "      <td>NaN</td>\n",
       "      <td>NaN</td>\n",
       "      <td>2017-08-01 16:23:56+00:00</td>\n",
       "      <td>&lt;a href=\"http://twitter.com/download/iphone\" r...</td>\n",
       "      <td>This is Phineas. He's a mystical boy. Only eve...</td>\n",
       "      <td>NaN</td>\n",
       "      <td>NaN</td>\n",
       "      <td>NaN</td>\n",
       "      <td>https://twitter.com/dog_rates/status/892420643...</td>\n",
       "      <td>...</td>\n",
       "      <td>2017-08-01</td>\n",
       "      <td>2017</td>\n",
       "      <td>8</td>\n",
       "      <td>1</td>\n",
       "      <td>Tuesday</td>\n",
       "      <td>16:23:56</td>\n",
       "      <td>16</td>\n",
       "      <td>23</td>\n",
       "      <td>56</td>\n",
       "      <td>NaN</td>\n",
       "    </tr>\n",
       "    <tr>\n",
       "      <th>1</th>\n",
       "      <td>892177421306343426</td>\n",
       "      <td>NaN</td>\n",
       "      <td>NaN</td>\n",
       "      <td>2017-08-01 00:17:27+00:00</td>\n",
       "      <td>&lt;a href=\"http://twitter.com/download/iphone\" r...</td>\n",
       "      <td>This is Tilly. She's just checking pup on you....</td>\n",
       "      <td>NaN</td>\n",
       "      <td>NaN</td>\n",
       "      <td>NaN</td>\n",
       "      <td>https://twitter.com/dog_rates/status/892177421...</td>\n",
       "      <td>...</td>\n",
       "      <td>2017-08-01</td>\n",
       "      <td>2017</td>\n",
       "      <td>8</td>\n",
       "      <td>1</td>\n",
       "      <td>Tuesday</td>\n",
       "      <td>00:17:27</td>\n",
       "      <td>0</td>\n",
       "      <td>17</td>\n",
       "      <td>27</td>\n",
       "      <td>NaN</td>\n",
       "    </tr>\n",
       "    <tr>\n",
       "      <th>2</th>\n",
       "      <td>891815181378084864</td>\n",
       "      <td>NaN</td>\n",
       "      <td>NaN</td>\n",
       "      <td>2017-07-31 00:18:03+00:00</td>\n",
       "      <td>&lt;a href=\"http://twitter.com/download/iphone\" r...</td>\n",
       "      <td>This is Archie. He is a rare Norwegian Pouncin...</td>\n",
       "      <td>NaN</td>\n",
       "      <td>NaN</td>\n",
       "      <td>NaN</td>\n",
       "      <td>https://twitter.com/dog_rates/status/891815181...</td>\n",
       "      <td>...</td>\n",
       "      <td>2017-07-31</td>\n",
       "      <td>2017</td>\n",
       "      <td>7</td>\n",
       "      <td>31</td>\n",
       "      <td>Monday</td>\n",
       "      <td>00:18:03</td>\n",
       "      <td>0</td>\n",
       "      <td>18</td>\n",
       "      <td>3</td>\n",
       "      <td>NaN</td>\n",
       "    </tr>\n",
       "    <tr>\n",
       "      <th>3</th>\n",
       "      <td>891689557279858688</td>\n",
       "      <td>NaN</td>\n",
       "      <td>NaN</td>\n",
       "      <td>2017-07-30 15:58:51+00:00</td>\n",
       "      <td>&lt;a href=\"http://twitter.com/download/iphone\" r...</td>\n",
       "      <td>This is Darla. She commenced a snooze mid meal...</td>\n",
       "      <td>NaN</td>\n",
       "      <td>NaN</td>\n",
       "      <td>NaN</td>\n",
       "      <td>https://twitter.com/dog_rates/status/891689557...</td>\n",
       "      <td>...</td>\n",
       "      <td>2017-07-30</td>\n",
       "      <td>2017</td>\n",
       "      <td>7</td>\n",
       "      <td>30</td>\n",
       "      <td>Sunday</td>\n",
       "      <td>15:58:51</td>\n",
       "      <td>15</td>\n",
       "      <td>58</td>\n",
       "      <td>51</td>\n",
       "      <td>NaN</td>\n",
       "    </tr>\n",
       "    <tr>\n",
       "      <th>4</th>\n",
       "      <td>891327558926688256</td>\n",
       "      <td>NaN</td>\n",
       "      <td>NaN</td>\n",
       "      <td>2017-07-29 16:00:24+00:00</td>\n",
       "      <td>&lt;a href=\"http://twitter.com/download/iphone\" r...</td>\n",
       "      <td>This is Franklin. He would like you to stop ca...</td>\n",
       "      <td>NaN</td>\n",
       "      <td>NaN</td>\n",
       "      <td>NaN</td>\n",
       "      <td>https://twitter.com/dog_rates/status/891327558...</td>\n",
       "      <td>...</td>\n",
       "      <td>2017-07-29</td>\n",
       "      <td>2017</td>\n",
       "      <td>7</td>\n",
       "      <td>29</td>\n",
       "      <td>Saturday</td>\n",
       "      <td>16:00:24</td>\n",
       "      <td>16</td>\n",
       "      <td>0</td>\n",
       "      <td>24</td>\n",
       "      <td>NaN</td>\n",
       "    </tr>\n",
       "  </tbody>\n",
       "</table>\n",
       "<p>5 rows × 27 columns</p>\n",
       "</div>"
      ],
      "text/plain": [
       "             tweet_id  in_reply_to_status_id  in_reply_to_user_id  \\\n",
       "0  892420643555336193                    NaN                  NaN   \n",
       "1  892177421306343426                    NaN                  NaN   \n",
       "2  891815181378084864                    NaN                  NaN   \n",
       "3  891689557279858688                    NaN                  NaN   \n",
       "4  891327558926688256                    NaN                  NaN   \n",
       "\n",
       "                  timestamp  \\\n",
       "0 2017-08-01 16:23:56+00:00   \n",
       "1 2017-08-01 00:17:27+00:00   \n",
       "2 2017-07-31 00:18:03+00:00   \n",
       "3 2017-07-30 15:58:51+00:00   \n",
       "4 2017-07-29 16:00:24+00:00   \n",
       "\n",
       "                                              source  \\\n",
       "0  <a href=\"http://twitter.com/download/iphone\" r...   \n",
       "1  <a href=\"http://twitter.com/download/iphone\" r...   \n",
       "2  <a href=\"http://twitter.com/download/iphone\" r...   \n",
       "3  <a href=\"http://twitter.com/download/iphone\" r...   \n",
       "4  <a href=\"http://twitter.com/download/iphone\" r...   \n",
       "\n",
       "                                                text  retweeted_status_id  \\\n",
       "0  This is Phineas. He's a mystical boy. Only eve...                  NaN   \n",
       "1  This is Tilly. She's just checking pup on you....                  NaN   \n",
       "2  This is Archie. He is a rare Norwegian Pouncin...                  NaN   \n",
       "3  This is Darla. She commenced a snooze mid meal...                  NaN   \n",
       "4  This is Franklin. He would like you to stop ca...                  NaN   \n",
       "\n",
       "   retweeted_status_user_id retweeted_status_timestamp  \\\n",
       "0                       NaN                        NaN   \n",
       "1                       NaN                        NaN   \n",
       "2                       NaN                        NaN   \n",
       "3                       NaN                        NaN   \n",
       "4                       NaN                        NaN   \n",
       "\n",
       "                                       expanded_urls  ...        date  year  \\\n",
       "0  https://twitter.com/dog_rates/status/892420643...  ...  2017-08-01  2017   \n",
       "1  https://twitter.com/dog_rates/status/892177421...  ...  2017-08-01  2017   \n",
       "2  https://twitter.com/dog_rates/status/891815181...  ...  2017-07-31  2017   \n",
       "3  https://twitter.com/dog_rates/status/891689557...  ...  2017-07-30  2017   \n",
       "4  https://twitter.com/dog_rates/status/891327558...  ...  2017-07-29  2017   \n",
       "\n",
       "  month day weekday_name      time hour minute  second  type  \n",
       "0     8   1      Tuesday  16:23:56   16     23      56   NaN  \n",
       "1     8   1      Tuesday  00:17:27    0     17      27   NaN  \n",
       "2     7  31       Monday  00:18:03    0     18       3   NaN  \n",
       "3     7  30       Sunday  15:58:51   15     58      51   NaN  \n",
       "4     7  29     Saturday  16:00:24   16      0      24   NaN  \n",
       "\n",
       "[5 rows x 27 columns]"
      ]
     },
     "execution_count": 642,
     "metadata": {},
     "output_type": "execute_result"
    }
   ],
   "source": [
    "# check NaN conversion for empty strings worked well\n",
    "dfa_copy[dfa_copy['type'].isna()].head(5)"
   ]
  },
  {
   "cell_type": "code",
   "execution_count": 643,
   "metadata": {},
   "outputs": [
    {
     "data": {
      "text/html": [
       "<div>\n",
       "<style scoped>\n",
       "    .dataframe tbody tr th:only-of-type {\n",
       "        vertical-align: middle;\n",
       "    }\n",
       "\n",
       "    .dataframe tbody tr th {\n",
       "        vertical-align: top;\n",
       "    }\n",
       "\n",
       "    .dataframe thead th {\n",
       "        text-align: right;\n",
       "    }\n",
       "</style>\n",
       "<table border=\"1\" class=\"dataframe\">\n",
       "  <thead>\n",
       "    <tr style=\"text-align: right;\">\n",
       "      <th></th>\n",
       "      <th>tweet_id</th>\n",
       "      <th>in_reply_to_status_id</th>\n",
       "      <th>in_reply_to_user_id</th>\n",
       "      <th>timestamp</th>\n",
       "      <th>source</th>\n",
       "      <th>text</th>\n",
       "      <th>retweeted_status_id</th>\n",
       "      <th>retweeted_status_user_id</th>\n",
       "      <th>retweeted_status_timestamp</th>\n",
       "      <th>expanded_urls</th>\n",
       "      <th>...</th>\n",
       "      <th>date</th>\n",
       "      <th>year</th>\n",
       "      <th>month</th>\n",
       "      <th>day</th>\n",
       "      <th>weekday_name</th>\n",
       "      <th>time</th>\n",
       "      <th>hour</th>\n",
       "      <th>minute</th>\n",
       "      <th>second</th>\n",
       "      <th>type</th>\n",
       "    </tr>\n",
       "  </thead>\n",
       "  <tbody>\n",
       "    <tr>\n",
       "      <th>191</th>\n",
       "      <td>855851453814013952</td>\n",
       "      <td>NaN</td>\n",
       "      <td>NaN</td>\n",
       "      <td>2017-04-22 18:31:02+00:00</td>\n",
       "      <td>&lt;a href=\"http://twitter.com/download/iphone\" r...</td>\n",
       "      <td>Here's a puppo participating in the #ScienceMa...</td>\n",
       "      <td>NaN</td>\n",
       "      <td>NaN</td>\n",
       "      <td>NaN</td>\n",
       "      <td>https://twitter.com/dog_rates/status/855851453...</td>\n",
       "      <td>...</td>\n",
       "      <td>2017-04-22</td>\n",
       "      <td>2017</td>\n",
       "      <td>4</td>\n",
       "      <td>22</td>\n",
       "      <td>Saturday</td>\n",
       "      <td>18:31:02</td>\n",
       "      <td>18</td>\n",
       "      <td>31</td>\n",
       "      <td>2</td>\n",
       "      <td>doggo|puppo</td>\n",
       "    </tr>\n",
       "    <tr>\n",
       "      <th>200</th>\n",
       "      <td>854010172552949760</td>\n",
       "      <td>NaN</td>\n",
       "      <td>NaN</td>\n",
       "      <td>2017-04-17 16:34:26+00:00</td>\n",
       "      <td>&lt;a href=\"http://twitter.com/download/iphone\" r...</td>\n",
       "      <td>At first I thought this was a shy doggo, but i...</td>\n",
       "      <td>NaN</td>\n",
       "      <td>NaN</td>\n",
       "      <td>NaN</td>\n",
       "      <td>https://twitter.com/dog_rates/status/854010172...</td>\n",
       "      <td>...</td>\n",
       "      <td>2017-04-17</td>\n",
       "      <td>2017</td>\n",
       "      <td>4</td>\n",
       "      <td>17</td>\n",
       "      <td>Monday</td>\n",
       "      <td>16:34:26</td>\n",
       "      <td>16</td>\n",
       "      <td>34</td>\n",
       "      <td>26</td>\n",
       "      <td>doggo|floofer</td>\n",
       "    </tr>\n",
       "    <tr>\n",
       "      <th>460</th>\n",
       "      <td>817777686764523521</td>\n",
       "      <td>NaN</td>\n",
       "      <td>NaN</td>\n",
       "      <td>2017-01-07 16:59:28+00:00</td>\n",
       "      <td>&lt;a href=\"http://twitter.com/download/iphone\" r...</td>\n",
       "      <td>This is Dido. She's playing the lead role in \"...</td>\n",
       "      <td>NaN</td>\n",
       "      <td>NaN</td>\n",
       "      <td>NaN</td>\n",
       "      <td>https://twitter.com/dog_rates/status/817777686...</td>\n",
       "      <td>...</td>\n",
       "      <td>2017-01-07</td>\n",
       "      <td>2017</td>\n",
       "      <td>1</td>\n",
       "      <td>7</td>\n",
       "      <td>Saturday</td>\n",
       "      <td>16:59:28</td>\n",
       "      <td>16</td>\n",
       "      <td>59</td>\n",
       "      <td>28</td>\n",
       "      <td>doggo|pupper</td>\n",
       "    </tr>\n",
       "    <tr>\n",
       "      <th>531</th>\n",
       "      <td>808106460588765185</td>\n",
       "      <td>NaN</td>\n",
       "      <td>NaN</td>\n",
       "      <td>2016-12-12 00:29:28+00:00</td>\n",
       "      <td>&lt;a href=\"http://twitter.com/download/iphone\" r...</td>\n",
       "      <td>Here we have Burke (pupper) and Dexter (doggo)...</td>\n",
       "      <td>NaN</td>\n",
       "      <td>NaN</td>\n",
       "      <td>NaN</td>\n",
       "      <td>https://twitter.com/dog_rates/status/808106460...</td>\n",
       "      <td>...</td>\n",
       "      <td>2016-12-12</td>\n",
       "      <td>2016</td>\n",
       "      <td>12</td>\n",
       "      <td>12</td>\n",
       "      <td>Monday</td>\n",
       "      <td>00:29:28</td>\n",
       "      <td>0</td>\n",
       "      <td>29</td>\n",
       "      <td>28</td>\n",
       "      <td>doggo|pupper</td>\n",
       "    </tr>\n",
       "    <tr>\n",
       "      <th>565</th>\n",
       "      <td>802265048156610565</td>\n",
       "      <td>7.331095e+17</td>\n",
       "      <td>4.196984e+09</td>\n",
       "      <td>2016-11-25 21:37:47+00:00</td>\n",
       "      <td>&lt;a href=\"http://twitter.com/download/iphone\" r...</td>\n",
       "      <td>Like doggo, like pupper version 2. Both 11/10 ...</td>\n",
       "      <td>NaN</td>\n",
       "      <td>NaN</td>\n",
       "      <td>NaN</td>\n",
       "      <td>https://twitter.com/dog_rates/status/802265048...</td>\n",
       "      <td>...</td>\n",
       "      <td>2016-11-25</td>\n",
       "      <td>2016</td>\n",
       "      <td>11</td>\n",
       "      <td>25</td>\n",
       "      <td>Friday</td>\n",
       "      <td>21:37:47</td>\n",
       "      <td>21</td>\n",
       "      <td>37</td>\n",
       "      <td>47</td>\n",
       "      <td>doggo|pupper</td>\n",
       "    </tr>\n",
       "  </tbody>\n",
       "</table>\n",
       "<p>5 rows × 27 columns</p>\n",
       "</div>"
      ],
      "text/plain": [
       "               tweet_id  in_reply_to_status_id  in_reply_to_user_id  \\\n",
       "191  855851453814013952                    NaN                  NaN   \n",
       "200  854010172552949760                    NaN                  NaN   \n",
       "460  817777686764523521                    NaN                  NaN   \n",
       "531  808106460588765185                    NaN                  NaN   \n",
       "565  802265048156610565           7.331095e+17         4.196984e+09   \n",
       "\n",
       "                    timestamp  \\\n",
       "191 2017-04-22 18:31:02+00:00   \n",
       "200 2017-04-17 16:34:26+00:00   \n",
       "460 2017-01-07 16:59:28+00:00   \n",
       "531 2016-12-12 00:29:28+00:00   \n",
       "565 2016-11-25 21:37:47+00:00   \n",
       "\n",
       "                                                source  \\\n",
       "191  <a href=\"http://twitter.com/download/iphone\" r...   \n",
       "200  <a href=\"http://twitter.com/download/iphone\" r...   \n",
       "460  <a href=\"http://twitter.com/download/iphone\" r...   \n",
       "531  <a href=\"http://twitter.com/download/iphone\" r...   \n",
       "565  <a href=\"http://twitter.com/download/iphone\" r...   \n",
       "\n",
       "                                                  text  retweeted_status_id  \\\n",
       "191  Here's a puppo participating in the #ScienceMa...                  NaN   \n",
       "200  At first I thought this was a shy doggo, but i...                  NaN   \n",
       "460  This is Dido. She's playing the lead role in \"...                  NaN   \n",
       "531  Here we have Burke (pupper) and Dexter (doggo)...                  NaN   \n",
       "565  Like doggo, like pupper version 2. Both 11/10 ...                  NaN   \n",
       "\n",
       "     retweeted_status_user_id retweeted_status_timestamp  \\\n",
       "191                       NaN                        NaN   \n",
       "200                       NaN                        NaN   \n",
       "460                       NaN                        NaN   \n",
       "531                       NaN                        NaN   \n",
       "565                       NaN                        NaN   \n",
       "\n",
       "                                         expanded_urls  ...        date  year  \\\n",
       "191  https://twitter.com/dog_rates/status/855851453...  ...  2017-04-22  2017   \n",
       "200  https://twitter.com/dog_rates/status/854010172...  ...  2017-04-17  2017   \n",
       "460  https://twitter.com/dog_rates/status/817777686...  ...  2017-01-07  2017   \n",
       "531  https://twitter.com/dog_rates/status/808106460...  ...  2016-12-12  2016   \n",
       "565  https://twitter.com/dog_rates/status/802265048...  ...  2016-11-25  2016   \n",
       "\n",
       "    month day weekday_name      time hour minute  second           type  \n",
       "191     4  22     Saturday  18:31:02   18     31       2    doggo|puppo  \n",
       "200     4  17       Monday  16:34:26   16     34      26  doggo|floofer  \n",
       "460     1   7     Saturday  16:59:28   16     59      28   doggo|pupper  \n",
       "531    12  12       Monday  00:29:28    0     29      28   doggo|pupper  \n",
       "565    11  25       Friday  21:37:47   21     37      47   doggo|pupper  \n",
       "\n",
       "[5 rows x 27 columns]"
      ]
     },
     "execution_count": 643,
     "metadata": {},
     "output_type": "execute_result"
    }
   ],
   "source": [
    "# inspect values where there are multiple types assigned identified by the joining character |\n",
    "dfa_copy.query('~type.isnull()').query('type.str.contains(\"\\|\")').head(5)"
   ]
  },
  {
   "cell_type": "code",
   "execution_count": 644,
   "metadata": {},
   "outputs": [
    {
     "data": {
      "text/plain": [
       "14"
      ]
     },
     "execution_count": 644,
     "metadata": {},
     "output_type": "execute_result"
    }
   ],
   "source": [
    "# the 14 records where dogs are assigned multiple types identified by the joining character |\n",
    "dfa_copy.query('~type.isnull()').query('type.str.contains(\"\\|\")')['type'].count()"
   ]
  },
  {
   "cell_type": "code",
   "execution_count": 645,
   "metadata": {},
   "outputs": [],
   "source": [
    "# Finally drop the no longer required columns\n",
    "dfa_copy.drop(['doggo','floofer','pupper','puppo'], axis=1, inplace=True)"
   ]
  },
  {
   "cell_type": "markdown",
   "metadata": {},
   "source": [
    "### Issue #3: Clean HTML code and extract hyperlink text in the source column"
   ]
  },
  {
   "cell_type": "markdown",
   "metadata": {
    "extensions": {
     "jupyter_dashboards": {
      "version": 1,
      "views": {
       "grid_default": {
        "hidden": true
       },
       "report_default": {
        "hidden": true
       }
      }
     }
    }
   },
   "source": [
    "#### Define\n",
    "The source column includes the entire html code of the url. These code fragments are not required and instead we just need the source captured in the hyperlink text."
   ]
  },
  {
   "cell_type": "markdown",
   "metadata": {},
   "source": [
    "#### Code"
   ]
  },
  {
   "cell_type": "code",
   "execution_count": 646,
   "metadata": {},
   "outputs": [
    {
     "data": {
      "text/plain": [
       "'<a href=\"http://twitter.com/download/iphone\" rel=\"nofollow\">Twitter for iPhone</a>'"
      ]
     },
     "execution_count": 646,
     "metadata": {},
     "output_type": "execute_result"
    }
   ],
   "source": [
    "# inspect first value format\n",
    "dfa_copy['source'][0]"
   ]
  },
  {
   "cell_type": "code",
   "execution_count": 647,
   "metadata": {},
   "outputs": [],
   "source": [
    "# replace 'None' strings with proper None type value\n",
    "def strip_text(x):\n",
    "    start_index = x.find(\">\")\n",
    "    end_index = x.find(\"</\", start_index)\n",
    "    return x[start_index+1:end_index]\n",
    "    \n",
    "dfa_copy['source_text'] = dfa_copy['source'].apply(lambda x: strip_text(x))"
   ]
  },
  {
   "cell_type": "code",
   "execution_count": 648,
   "metadata": {},
   "outputs": [
    {
     "data": {
      "text/plain": [
       "'Twitter for iPhone'"
      ]
     },
     "execution_count": 648,
     "metadata": {},
     "output_type": "execute_result"
    }
   ],
   "source": [
    "# Combine type columns into one column\n",
    "x = dfa_copy['source'][0]\n",
    "start_index = x.find(\">\")\n",
    "end_index = x.find(\"</\", start_index)\n",
    "x[start_index+1:end_index]"
   ]
  },
  {
   "cell_type": "markdown",
   "metadata": {},
   "source": [
    "#### Test"
   ]
  },
  {
   "cell_type": "code",
   "execution_count": 649,
   "metadata": {},
   "outputs": [
    {
     "data": {
      "text/plain": [
       "0"
      ]
     },
     "execution_count": 649,
     "metadata": {},
     "output_type": "execute_result"
    }
   ],
   "source": [
    "# Check if NA is produced in the conversion process\n",
    "dfa_copy['source_text'].isna().sum()"
   ]
  },
  {
   "cell_type": "code",
   "execution_count": 650,
   "metadata": {},
   "outputs": [
    {
     "data": {
      "text/plain": [
       "source                                                                               source_text        \n",
       "<a href=\"http://twitter.com/download/iphone\" rel=\"nofollow\">Twitter for iPhone</a>   Twitter for iPhone     2221\n",
       "<a href=\"http://vine.co\" rel=\"nofollow\">Vine - Make a Scene</a>                      Vine - Make a Scene      91\n",
       "<a href=\"http://twitter.com\" rel=\"nofollow\">Twitter Web Client</a>                   Twitter Web Client       33\n",
       "<a href=\"https://about.twitter.com/products/tweetdeck\" rel=\"nofollow\">TweetDeck</a>  TweetDeck                11\n",
       "dtype: int64"
      ]
     },
     "execution_count": 650,
     "metadata": {},
     "output_type": "execute_result"
    }
   ],
   "source": [
    "# Check values correctness\n",
    "dfa_copy[['source','source_text']].value_counts()"
   ]
  },
  {
   "cell_type": "code",
   "execution_count": 651,
   "metadata": {},
   "outputs": [],
   "source": [
    "# Finally drop the no longer required columns\n",
    "dfa_copy.drop(['source'], axis=1, inplace=True)"
   ]
  },
  {
   "cell_type": "code",
   "execution_count": 652,
   "metadata": {},
   "outputs": [],
   "source": [
    "# Remove the reminder of url columns, given that we don't have time to clean them now, and also they don't seem to hold \n",
    "# lots of valuable data anyway.\n",
    "dfa_copy.drop(['expanded_urls'], axis=1, inplace=True)"
   ]
  },
  {
   "cell_type": "code",
   "execution_count": 653,
   "metadata": {},
   "outputs": [],
   "source": [
    "# Remove the reminder of url columns, given that we don't have time to clean them now, and also they don't seem to hold \n",
    "# lots of valuable data anyway.\n",
    "dfm_copy.drop(['url'], axis=1, inplace=True)"
   ]
  },
  {
   "cell_type": "markdown",
   "metadata": {},
   "source": [
    "### Issue #4: Resolve erronous string values such as 'None' and 'a' from Dog names column"
   ]
  },
  {
   "cell_type": "markdown",
   "metadata": {
    "extensions": {
     "jupyter_dashboards": {
      "version": 1,
      "views": {
       "grid_default": {
        "hidden": true
       },
       "report_default": {
        "hidden": true
       }
      }
     }
    }
   },
   "source": [
    "#### Define\n",
    "The name column contains the string value 'None' which needs to be converted to python NAN so that it is filtered or kept using the built-in methods in python data analysis and visulisations packages.\n",
    "Also, the name column contains the string value 'a' which also seems to be a quick input added when no name is present. This value also needs to be converted to python NAN so that it is filtered using the built-in methods in python data analysis and visulisations packages."
   ]
  },
  {
   "cell_type": "markdown",
   "metadata": {},
   "source": [
    "#### Code"
   ]
  },
  {
   "cell_type": "code",
   "execution_count": 654,
   "metadata": {},
   "outputs": [],
   "source": [
    "# Replace 'None' and 'a' with python NAN\n",
    "dfa_copy['name'].replace({'None': np.nan,'a':np.nan}, inplace=True)"
   ]
  },
  {
   "cell_type": "markdown",
   "metadata": {},
   "source": [
    "#### Test"
   ]
  },
  {
   "cell_type": "code",
   "execution_count": 655,
   "metadata": {},
   "outputs": [
    {
     "data": {
      "text/plain": [
       "Charlie    12\n",
       "Cooper     11\n",
       "Lucy       11\n",
       "Oliver     11\n",
       "Tucker     10\n",
       "           ..\n",
       "Harvey      1\n",
       "Brat        1\n",
       "Grady       1\n",
       "Mojo        1\n",
       "Ferg        1\n",
       "Name: name, Length: 955, dtype: int64"
      ]
     },
     "execution_count": 655,
     "metadata": {},
     "output_type": "execute_result"
    }
   ],
   "source": [
    "# Check column value with count\n",
    "dfa_copy['name'].value_counts()"
   ]
  },
  {
   "cell_type": "code",
   "execution_count": 656,
   "metadata": {},
   "outputs": [
    {
     "data": {
      "text/plain": [
       "800"
      ]
     },
     "execution_count": 656,
     "metadata": {},
     "output_type": "execute_result"
    }
   ],
   "source": [
    "# Check NAN value are present\n",
    "dfa_copy['name'].isna().sum()"
   ]
  },
  {
   "cell_type": "code",
   "execution_count": 657,
   "metadata": {},
   "outputs": [
    {
     "data": {
      "text/plain": [
       "0"
      ]
     },
     "execution_count": 657,
     "metadata": {},
     "output_type": "execute_result"
    }
   ],
   "source": [
    "# Check that no 'None' or 'a' string values are present anymore in the column\n",
    "dfa_copy.query('(name == \"None\") | (name == \"a\")')['name'].count()"
   ]
  },
  {
   "cell_type": "markdown",
   "metadata": {},
   "source": [
    "### Issue #5: Remove non-dog images based on p1, and remove 2nd and 3rd prediction columns as they are not required"
   ]
  },
  {
   "cell_type": "markdown",
   "metadata": {
    "extensions": {
     "jupyter_dashboards": {
      "version": 1,
      "views": {
       "grid_default": {
        "hidden": true
       },
       "report_default": {
        "hidden": true
       }
      }
     }
    }
   },
   "source": [
    "#### Define\n",
    "There are three predictions supplied for each image, which can be useful for prediction model validation. However, for our purposes we would need to filter out non-dog values based  on the first prediciton and also remove the other two predictions from the dataframe."
   ]
  },
  {
   "cell_type": "markdown",
   "metadata": {},
   "source": [
    "#### Code"
   ]
  },
  {
   "cell_type": "code",
   "execution_count": 658,
   "metadata": {},
   "outputs": [],
   "source": [
    "# Filter out non-dog tweets base don p1_dog value\n",
    "dfp_copy = dfp_copy[dfp_copy.p1_dog]"
   ]
  },
  {
   "cell_type": "markdown",
   "metadata": {},
   "source": [
    "#### Test"
   ]
  },
  {
   "cell_type": "code",
   "execution_count": 659,
   "metadata": {},
   "outputs": [
    {
     "data": {
      "text/html": [
       "<div>\n",
       "<style scoped>\n",
       "    .dataframe tbody tr th:only-of-type {\n",
       "        vertical-align: middle;\n",
       "    }\n",
       "\n",
       "    .dataframe tbody tr th {\n",
       "        vertical-align: top;\n",
       "    }\n",
       "\n",
       "    .dataframe thead th {\n",
       "        text-align: right;\n",
       "    }\n",
       "</style>\n",
       "<table border=\"1\" class=\"dataframe\">\n",
       "  <thead>\n",
       "    <tr style=\"text-align: right;\">\n",
       "      <th></th>\n",
       "      <th>tweet_id</th>\n",
       "      <th>jpg_url</th>\n",
       "      <th>img_num</th>\n",
       "      <th>p1</th>\n",
       "      <th>p1_conf</th>\n",
       "      <th>p1_dog</th>\n",
       "      <th>p2</th>\n",
       "      <th>p2_conf</th>\n",
       "      <th>p2_dog</th>\n",
       "      <th>p3</th>\n",
       "      <th>p3_conf</th>\n",
       "      <th>p3_dog</th>\n",
       "    </tr>\n",
       "  </thead>\n",
       "  <tbody>\n",
       "    <tr>\n",
       "      <th>0</th>\n",
       "      <td>666020888022790149</td>\n",
       "      <td>https://pbs.twimg.com/media/CT4udn0WwAA0aMy.jpg</td>\n",
       "      <td>1</td>\n",
       "      <td>Welsh_springer_spaniel</td>\n",
       "      <td>0.465074</td>\n",
       "      <td>True</td>\n",
       "      <td>collie</td>\n",
       "      <td>0.156665</td>\n",
       "      <td>True</td>\n",
       "      <td>Shetland_sheepdog</td>\n",
       "      <td>0.061428</td>\n",
       "      <td>True</td>\n",
       "    </tr>\n",
       "    <tr>\n",
       "      <th>1</th>\n",
       "      <td>666029285002620928</td>\n",
       "      <td>https://pbs.twimg.com/media/CT42GRgUYAA5iDo.jpg</td>\n",
       "      <td>1</td>\n",
       "      <td>redbone</td>\n",
       "      <td>0.506826</td>\n",
       "      <td>True</td>\n",
       "      <td>miniature_pinscher</td>\n",
       "      <td>0.074192</td>\n",
       "      <td>True</td>\n",
       "      <td>Rhodesian_ridgeback</td>\n",
       "      <td>0.072010</td>\n",
       "      <td>True</td>\n",
       "    </tr>\n",
       "    <tr>\n",
       "      <th>2</th>\n",
       "      <td>666033412701032449</td>\n",
       "      <td>https://pbs.twimg.com/media/CT4521TWwAEvMyu.jpg</td>\n",
       "      <td>1</td>\n",
       "      <td>German_shepherd</td>\n",
       "      <td>0.596461</td>\n",
       "      <td>True</td>\n",
       "      <td>malinois</td>\n",
       "      <td>0.138584</td>\n",
       "      <td>True</td>\n",
       "      <td>bloodhound</td>\n",
       "      <td>0.116197</td>\n",
       "      <td>True</td>\n",
       "    </tr>\n",
       "    <tr>\n",
       "      <th>3</th>\n",
       "      <td>666044226329800704</td>\n",
       "      <td>https://pbs.twimg.com/media/CT5Dr8HUEAA-lEu.jpg</td>\n",
       "      <td>1</td>\n",
       "      <td>Rhodesian_ridgeback</td>\n",
       "      <td>0.408143</td>\n",
       "      <td>True</td>\n",
       "      <td>redbone</td>\n",
       "      <td>0.360687</td>\n",
       "      <td>True</td>\n",
       "      <td>miniature_pinscher</td>\n",
       "      <td>0.222752</td>\n",
       "      <td>True</td>\n",
       "    </tr>\n",
       "    <tr>\n",
       "      <th>4</th>\n",
       "      <td>666049248165822465</td>\n",
       "      <td>https://pbs.twimg.com/media/CT5IQmsXIAAKY4A.jpg</td>\n",
       "      <td>1</td>\n",
       "      <td>miniature_pinscher</td>\n",
       "      <td>0.560311</td>\n",
       "      <td>True</td>\n",
       "      <td>Rottweiler</td>\n",
       "      <td>0.243682</td>\n",
       "      <td>True</td>\n",
       "      <td>Doberman</td>\n",
       "      <td>0.154629</td>\n",
       "      <td>True</td>\n",
       "    </tr>\n",
       "    <tr>\n",
       "      <th>...</th>\n",
       "      <td>...</td>\n",
       "      <td>...</td>\n",
       "      <td>...</td>\n",
       "      <td>...</td>\n",
       "      <td>...</td>\n",
       "      <td>...</td>\n",
       "      <td>...</td>\n",
       "      <td>...</td>\n",
       "      <td>...</td>\n",
       "      <td>...</td>\n",
       "      <td>...</td>\n",
       "      <td>...</td>\n",
       "    </tr>\n",
       "    <tr>\n",
       "      <th>2068</th>\n",
       "      <td>890971913173991426</td>\n",
       "      <td>https://pbs.twimg.com/media/DF1eOmZXUAALUcq.jpg</td>\n",
       "      <td>1</td>\n",
       "      <td>Appenzeller</td>\n",
       "      <td>0.341703</td>\n",
       "      <td>True</td>\n",
       "      <td>Border_collie</td>\n",
       "      <td>0.199287</td>\n",
       "      <td>True</td>\n",
       "      <td>ice_lolly</td>\n",
       "      <td>0.193548</td>\n",
       "      <td>False</td>\n",
       "    </tr>\n",
       "    <tr>\n",
       "      <th>2069</th>\n",
       "      <td>891087950875897856</td>\n",
       "      <td>https://pbs.twimg.com/media/DF3HwyEWsAABqE6.jpg</td>\n",
       "      <td>1</td>\n",
       "      <td>Chesapeake_Bay_retriever</td>\n",
       "      <td>0.425595</td>\n",
       "      <td>True</td>\n",
       "      <td>Irish_terrier</td>\n",
       "      <td>0.116317</td>\n",
       "      <td>True</td>\n",
       "      <td>Indian_elephant</td>\n",
       "      <td>0.076902</td>\n",
       "      <td>False</td>\n",
       "    </tr>\n",
       "    <tr>\n",
       "      <th>2070</th>\n",
       "      <td>891327558926688256</td>\n",
       "      <td>https://pbs.twimg.com/media/DF6hr6BUMAAzZgT.jpg</td>\n",
       "      <td>2</td>\n",
       "      <td>basset</td>\n",
       "      <td>0.555712</td>\n",
       "      <td>True</td>\n",
       "      <td>English_springer</td>\n",
       "      <td>0.225770</td>\n",
       "      <td>True</td>\n",
       "      <td>German_short-haired_pointer</td>\n",
       "      <td>0.175219</td>\n",
       "      <td>True</td>\n",
       "    </tr>\n",
       "    <tr>\n",
       "      <th>2072</th>\n",
       "      <td>891815181378084864</td>\n",
       "      <td>https://pbs.twimg.com/media/DGBdLU1WsAANxJ9.jpg</td>\n",
       "      <td>1</td>\n",
       "      <td>Chihuahua</td>\n",
       "      <td>0.716012</td>\n",
       "      <td>True</td>\n",
       "      <td>malamute</td>\n",
       "      <td>0.078253</td>\n",
       "      <td>True</td>\n",
       "      <td>kelpie</td>\n",
       "      <td>0.031379</td>\n",
       "      <td>True</td>\n",
       "    </tr>\n",
       "    <tr>\n",
       "      <th>2073</th>\n",
       "      <td>892177421306343426</td>\n",
       "      <td>https://pbs.twimg.com/media/DGGmoV4XsAAUL6n.jpg</td>\n",
       "      <td>1</td>\n",
       "      <td>Chihuahua</td>\n",
       "      <td>0.323581</td>\n",
       "      <td>True</td>\n",
       "      <td>Pekinese</td>\n",
       "      <td>0.090647</td>\n",
       "      <td>True</td>\n",
       "      <td>papillon</td>\n",
       "      <td>0.068957</td>\n",
       "      <td>True</td>\n",
       "    </tr>\n",
       "  </tbody>\n",
       "</table>\n",
       "<p>1532 rows × 12 columns</p>\n",
       "</div>"
      ],
      "text/plain": [
       "                tweet_id                                          jpg_url  \\\n",
       "0     666020888022790149  https://pbs.twimg.com/media/CT4udn0WwAA0aMy.jpg   \n",
       "1     666029285002620928  https://pbs.twimg.com/media/CT42GRgUYAA5iDo.jpg   \n",
       "2     666033412701032449  https://pbs.twimg.com/media/CT4521TWwAEvMyu.jpg   \n",
       "3     666044226329800704  https://pbs.twimg.com/media/CT5Dr8HUEAA-lEu.jpg   \n",
       "4     666049248165822465  https://pbs.twimg.com/media/CT5IQmsXIAAKY4A.jpg   \n",
       "...                  ...                                              ...   \n",
       "2068  890971913173991426  https://pbs.twimg.com/media/DF1eOmZXUAALUcq.jpg   \n",
       "2069  891087950875897856  https://pbs.twimg.com/media/DF3HwyEWsAABqE6.jpg   \n",
       "2070  891327558926688256  https://pbs.twimg.com/media/DF6hr6BUMAAzZgT.jpg   \n",
       "2072  891815181378084864  https://pbs.twimg.com/media/DGBdLU1WsAANxJ9.jpg   \n",
       "2073  892177421306343426  https://pbs.twimg.com/media/DGGmoV4XsAAUL6n.jpg   \n",
       "\n",
       "      img_num                        p1   p1_conf  p1_dog                  p2  \\\n",
       "0           1    Welsh_springer_spaniel  0.465074    True              collie   \n",
       "1           1                   redbone  0.506826    True  miniature_pinscher   \n",
       "2           1           German_shepherd  0.596461    True            malinois   \n",
       "3           1       Rhodesian_ridgeback  0.408143    True             redbone   \n",
       "4           1        miniature_pinscher  0.560311    True          Rottweiler   \n",
       "...       ...                       ...       ...     ...                 ...   \n",
       "2068        1               Appenzeller  0.341703    True       Border_collie   \n",
       "2069        1  Chesapeake_Bay_retriever  0.425595    True       Irish_terrier   \n",
       "2070        2                    basset  0.555712    True    English_springer   \n",
       "2072        1                 Chihuahua  0.716012    True            malamute   \n",
       "2073        1                 Chihuahua  0.323581    True            Pekinese   \n",
       "\n",
       "       p2_conf  p2_dog                           p3   p3_conf  p3_dog  \n",
       "0     0.156665    True            Shetland_sheepdog  0.061428    True  \n",
       "1     0.074192    True          Rhodesian_ridgeback  0.072010    True  \n",
       "2     0.138584    True                   bloodhound  0.116197    True  \n",
       "3     0.360687    True           miniature_pinscher  0.222752    True  \n",
       "4     0.243682    True                     Doberman  0.154629    True  \n",
       "...        ...     ...                          ...       ...     ...  \n",
       "2068  0.199287    True                    ice_lolly  0.193548   False  \n",
       "2069  0.116317    True              Indian_elephant  0.076902   False  \n",
       "2070  0.225770    True  German_short-haired_pointer  0.175219    True  \n",
       "2072  0.078253    True                       kelpie  0.031379    True  \n",
       "2073  0.090647    True                     papillon  0.068957    True  \n",
       "\n",
       "[1532 rows x 12 columns]"
      ]
     },
     "execution_count": 659,
     "metadata": {},
     "output_type": "execute_result"
    }
   ],
   "source": [
    "# print dataframe to check values\n",
    "dfp_copy"
   ]
  },
  {
   "cell_type": "code",
   "execution_count": 660,
   "metadata": {},
   "outputs": [
    {
     "data": {
      "text/plain": [
       "0"
      ]
     },
     "execution_count": 660,
     "metadata": {},
     "output_type": "execute_result"
    }
   ],
   "source": [
    "# There are no values that are predicted to be not a dog\n",
    "dfp_copy.query('p1_dog == False')['p1_dog'].count()"
   ]
  },
  {
   "cell_type": "code",
   "execution_count": 661,
   "metadata": {},
   "outputs": [],
   "source": [
    "# Finally drop the no longer required columns\n",
    "dfp_copy.drop(['p1_dog','p2','p2_conf','p2_dog','p3','p3_conf','p3_dog'], axis=1, inplace=True)"
   ]
  },
  {
   "cell_type": "markdown",
   "metadata": {},
   "source": [
    "### Issue #6:  Convert confidence to % with 2 decimal precision points"
   ]
  },
  {
   "cell_type": "markdown",
   "metadata": {
    "extensions": {
     "jupyter_dashboards": {
      "version": 1,
      "views": {
       "grid_default": {
        "hidden": true
       },
       "report_default": {
        "hidden": true
       }
      }
     }
    }
   },
   "source": [
    "#### Define\n",
    "Confidence values are in 6 decimal precision values. They are bit hard to read and interpret. It would be easier to conver those to a percentage formated values with 2 precision digits"
   ]
  },
  {
   "cell_type": "markdown",
   "metadata": {},
   "source": [
    "#### Code"
   ]
  },
  {
   "cell_type": "code",
   "execution_count": 662,
   "metadata": {},
   "outputs": [],
   "source": [
    "# None is a string and not python type None.\n",
    "dfp_copy['p1_conf'] = dfp_copy['p1_conf'].apply(lambda x: \"{0:.2f}%\".format(round(x*100,2)))"
   ]
  },
  {
   "cell_type": "markdown",
   "metadata": {},
   "source": [
    "#### Test"
   ]
  },
  {
   "cell_type": "code",
   "execution_count": 663,
   "metadata": {},
   "outputs": [
    {
     "data": {
      "text/plain": [
       "0       46.51%\n",
       "1       50.68%\n",
       "2       59.65%\n",
       "3       40.81%\n",
       "4       56.03%\n",
       "         ...  \n",
       "2068    34.17%\n",
       "2069    42.56%\n",
       "2070    55.57%\n",
       "2072    71.60%\n",
       "2073    32.36%\n",
       "Name: p1_conf, Length: 1532, dtype: object"
      ]
     },
     "execution_count": 663,
     "metadata": {},
     "output_type": "execute_result"
    }
   ],
   "source": [
    "# print column values\n",
    "dfp_copy['p1_conf']"
   ]
  },
  {
   "cell_type": "code",
   "execution_count": 664,
   "metadata": {},
   "outputs": [
    {
     "data": {
      "text/plain": [
       "0"
      ]
     },
     "execution_count": 664,
     "metadata": {},
     "output_type": "execute_result"
    }
   ],
   "source": [
    "# Check no conversion errors were produced\n",
    "dfp_copy['p1_conf'].isna().sum()"
   ]
  },
  {
   "cell_type": "code",
   "execution_count": 665,
   "metadata": {},
   "outputs": [],
   "source": [
    "# rename column\n",
    "dfp_copy.rename(columns={'p1_conf': 'confidence'}, inplace=True)"
   ]
  },
  {
   "cell_type": "markdown",
   "metadata": {},
   "source": [
    "### Issue #7: Extract file name from jpg_url"
   ]
  },
  {
   "cell_type": "markdown",
   "metadata": {
    "extensions": {
     "jupyter_dashboards": {
      "version": 1,
      "views": {
       "grid_default": {
        "hidden": true
       },
       "report_default": {
        "hidden": true
       }
      }
     }
    }
   },
   "source": [
    "#### Define\n",
    "The source column includes the entire html code of the url. These code fragments are not required and instead we just need the source captured in the hyperlink text."
   ]
  },
  {
   "cell_type": "markdown",
   "metadata": {},
   "source": [
    "#### Code"
   ]
  },
  {
   "cell_type": "code",
   "execution_count": 666,
   "metadata": {},
   "outputs": [],
   "source": [
    "# None is a string and not python type None.\n",
    "dfp_copy['jpg_name'] = dfp_copy.jpg_url.str.split(\"/\").str.get(-1)"
   ]
  },
  {
   "cell_type": "markdown",
   "metadata": {},
   "source": [
    "#### Test"
   ]
  },
  {
   "cell_type": "code",
   "execution_count": 667,
   "metadata": {},
   "outputs": [
    {
     "data": {
      "text/plain": [
       "0       CT4udn0WwAA0aMy.jpg\n",
       "1       CT42GRgUYAA5iDo.jpg\n",
       "2       CT4521TWwAEvMyu.jpg\n",
       "3       CT5Dr8HUEAA-lEu.jpg\n",
       "4       CT5IQmsXIAAKY4A.jpg\n",
       "               ...         \n",
       "2068    DF1eOmZXUAALUcq.jpg\n",
       "2069    DF3HwyEWsAABqE6.jpg\n",
       "2070    DF6hr6BUMAAzZgT.jpg\n",
       "2072    DGBdLU1WsAANxJ9.jpg\n",
       "2073    DGGmoV4XsAAUL6n.jpg\n",
       "Name: jpg_name, Length: 1532, dtype: object"
      ]
     },
     "execution_count": 667,
     "metadata": {},
     "output_type": "execute_result"
    }
   ],
   "source": [
    "# print top type values\n",
    "dfp_copy['jpg_name']"
   ]
  },
  {
   "cell_type": "code",
   "execution_count": 668,
   "metadata": {},
   "outputs": [
    {
     "data": {
      "text/plain": [
       "0"
      ]
     },
     "execution_count": 668,
     "metadata": {},
     "output_type": "execute_result"
    }
   ],
   "source": [
    "# Check there are no errors produced durig conversion\n",
    "dfp_copy['jpg_name'].isna().sum()"
   ]
  },
  {
   "cell_type": "code",
   "execution_count": 669,
   "metadata": {},
   "outputs": [],
   "source": [
    "# Finally drop the no longer required columns\n",
    "dfp_copy.drop(['jpg_url'], axis=1, inplace=True)"
   ]
  },
  {
   "cell_type": "markdown",
   "metadata": {},
   "source": [
    "### Issue #8: Remove underscores _ and convert breed name into proper capitalised English names and rename column to breed."
   ]
  },
  {
   "cell_type": "markdown",
   "metadata": {
    "extensions": {
     "jupyter_dashboards": {
      "version": 1,
      "views": {
       "grid_default": {
        "hidden": true
       },
       "report_default": {
        "hidden": true
       }
      }
     }
    }
   },
   "source": [
    "#### Define\n",
    "The dog breed names needs to have the _ removed from text and namea are Camel case capitalised so it reads well in English."
   ]
  },
  {
   "cell_type": "markdown",
   "metadata": {},
   "source": [
    "#### Code"
   ]
  },
  {
   "cell_type": "code",
   "execution_count": 670,
   "metadata": {},
   "outputs": [],
   "source": [
    "# None is a string and not python type None.\n",
    "dfp_copy['breed'] = dfp_copy['p1'].apply(lambda x: x.replace(\"_\", \" \").title())"
   ]
  },
  {
   "cell_type": "markdown",
   "metadata": {},
   "source": [
    "#### Test"
   ]
  },
  {
   "cell_type": "code",
   "execution_count": 671,
   "metadata": {},
   "outputs": [
    {
     "data": {
      "text/plain": [
       "Golden Retriever      150\n",
       "Labrador Retriever    100\n",
       "Pembroke               89\n",
       "Chihuahua              83\n",
       "Pug                    57\n",
       "                     ... \n",
       "Entlebucher             1\n",
       "Clumber                 1\n",
       "Scotch Terrier          1\n",
       "Standard Schnauzer      1\n",
       "Japanese Spaniel        1\n",
       "Name: breed, Length: 111, dtype: int64"
      ]
     },
     "execution_count": 671,
     "metadata": {},
     "output_type": "execute_result"
    }
   ],
   "source": [
    "# print top type values\n",
    "dfp_copy['breed'].value_counts()"
   ]
  },
  {
   "cell_type": "code",
   "execution_count": 672,
   "metadata": {},
   "outputs": [
    {
     "data": {
      "text/plain": [
       "0"
      ]
     },
     "execution_count": 672,
     "metadata": {},
     "output_type": "execute_result"
    }
   ],
   "source": [
    "# Check there are no errors produced durig conversion\n",
    "dfp_copy['breed'].isna().sum()"
   ]
  },
  {
   "cell_type": "code",
   "execution_count": 673,
   "metadata": {},
   "outputs": [],
   "source": [
    "# Finally drop the no longer required columns\n",
    "dfp_copy.drop(['p1'], axis=1, inplace=True)"
   ]
  },
  {
   "cell_type": "markdown",
   "metadata": {},
   "source": [
    "### Issue #9: Remove retweets from observations (rows of data) and also remove retweet related columns"
   ]
  },
  {
   "cell_type": "markdown",
   "metadata": {
    "extensions": {
     "jupyter_dashboards": {
      "version": 1,
      "views": {
       "grid_default": {
        "hidden": true
       },
       "report_default": {
        "hidden": true
       }
      }
     }
    }
   },
   "source": [
    "#### Define\n",
    "We are only interested in original tweets and scores from those tweets. Retweets could inflate the statistical measures. Therefore, we want to remove retweets related rows and also remove columns related to retweets."
   ]
  },
  {
   "cell_type": "markdown",
   "metadata": {},
   "source": [
    "#### Code"
   ]
  },
  {
   "cell_type": "code",
   "execution_count": 674,
   "metadata": {},
   "outputs": [
    {
     "data": {
      "text/plain": [
       "True"
      ]
     },
     "execution_count": 674,
     "metadata": {},
     "output_type": "execute_result"
    }
   ],
   "source": [
    "# Check NaN values are ture NaN type values \n",
    "np.isnan(dfa_copy['retweeted_status_id'][1])"
   ]
  },
  {
   "cell_type": "code",
   "execution_count": 675,
   "metadata": {},
   "outputs": [],
   "source": [
    "# Select rows where ertweeted_status_id is NaN and does not hold a retweet status id. These should be original tweets.\n",
    "dfa_copy = dfa_copy[dfa_copy['retweeted_status_id'].isna()]"
   ]
  },
  {
   "cell_type": "markdown",
   "metadata": {},
   "source": [
    "#### Test"
   ]
  },
  {
   "cell_type": "code",
   "execution_count": 676,
   "metadata": {},
   "outputs": [
    {
     "data": {
      "text/plain": [
       "(2175, 17)"
      ]
     },
     "execution_count": 676,
     "metadata": {},
     "output_type": "execute_result"
    }
   ],
   "source": [
    "# Check the number retweets from original dataframe\n",
    "df_twArch[df_twArch['retweeted_status_id'].isna()].shape"
   ]
  },
  {
   "cell_type": "code",
   "execution_count": 677,
   "metadata": {},
   "outputs": [
    {
     "data": {
      "text/plain": [
       "(181, 17)"
      ]
     },
     "execution_count": 677,
     "metadata": {},
     "output_type": "execute_result"
    }
   ],
   "source": [
    "# Check the number of original tweets from original dataframe\n",
    "df_twArch[df_twArch['retweeted_status_id'].notna()].shape"
   ]
  },
  {
   "cell_type": "code",
   "execution_count": 678,
   "metadata": {},
   "outputs": [
    {
     "data": {
      "text/plain": [
       "(2356,)"
      ]
     },
     "execution_count": 678,
     "metadata": {},
     "output_type": "execute_result"
    }
   ],
   "source": [
    "# Check total number of rows from original dataframe\n",
    "df_twArch['retweeted_status_id'].shape"
   ]
  },
  {
   "cell_type": "code",
   "execution_count": 679,
   "metadata": {},
   "outputs": [
    {
     "data": {
      "text/plain": [
       "0"
      ]
     },
     "execution_count": 679,
     "metadata": {},
     "output_type": "execute_result"
    }
   ],
   "source": [
    "# Verify dropping retweets (retweeted_status_id is not NaN) actually worked\n",
    "dfa_copy['retweeted_status_id'].notna().sum()"
   ]
  },
  {
   "cell_type": "code",
   "execution_count": 680,
   "metadata": {},
   "outputs": [
    {
     "data": {
      "text/plain": [
       "2175"
      ]
     },
     "execution_count": 680,
     "metadata": {},
     "output_type": "execute_result"
    }
   ],
   "source": [
    "# Verify number of remaining rows matches the tweets number from orginal \n",
    "dfa_copy['retweeted_status_id'].isna().sum()"
   ]
  },
  {
   "cell_type": "code",
   "execution_count": 681,
   "metadata": {},
   "outputs": [
    {
     "data": {
      "text/plain": [
       "Series([], Name: retweeted_status_id, dtype: int64)"
      ]
     },
     "execution_count": 681,
     "metadata": {},
     "output_type": "execute_result"
    }
   ],
   "source": [
    "# empty values as all are NaN.\n",
    "dfa_copy['retweeted_status_id'].value_counts()"
   ]
  },
  {
   "cell_type": "code",
   "execution_count": 682,
   "metadata": {},
   "outputs": [],
   "source": [
    "# Finally drop the no longer required columns\n",
    "dfa_copy.drop(['retweeted_status_id','retweeted_status_user_id','retweeted_status_timestamp'], axis=1, inplace=True)"
   ]
  },
  {
   "cell_type": "markdown",
   "metadata": {},
   "source": [
    "### Issue #10: combine the 3 dataframes into one for ease of analysis, "
   ]
  },
  {
   "cell_type": "markdown",
   "metadata": {
    "extensions": {
     "jupyter_dashboards": {
      "version": 1,
      "views": {
       "grid_default": {
        "hidden": true
       },
       "report_default": {
        "hidden": true
       }
      }
     }
    }
   },
   "source": [
    "#### Define\n",
    "Each of the 3 dataframe holds different set of data. It would very useful to combine the 3 dataframe to a master dataframe where all metrics are and dimensions are available for analysis.\n",
    "\n",
    "Create a dataframe from the shared tweets ids and drop any unmatched tweets ids across the dataframes. Otherwise you end up with a dataframe that has lots of rows with incomplete variables."
   ]
  },
  {
   "cell_type": "markdown",
   "metadata": {},
   "source": [
    "#### Code"
   ]
  },
  {
   "cell_type": "code",
   "execution_count": 683,
   "metadata": {},
   "outputs": [
    {
     "data": {
      "text/plain": [
       "((2175, 19), (1532, 5), (2354, 8))"
      ]
     },
     "execution_count": 683,
     "metadata": {},
     "output_type": "execute_result"
    }
   ],
   "source": [
    "# Check NaN values are ture NaN type values \n",
    "dfa_copy.shape,dfp_copy.shape,dfm_copy.shape"
   ]
  },
  {
   "cell_type": "code",
   "execution_count": 684,
   "metadata": {},
   "outputs": [
    {
     "data": {
      "text/plain": [
       "False    2175\n",
       "Name: tweet_id, dtype: int64"
      ]
     },
     "execution_count": 684,
     "metadata": {},
     "output_type": "execute_result"
    }
   ],
   "source": [
    "# Check there are no duplicate tweet_id keys in dataframes, so that merge can be done cleanly\n",
    "dfa_copy['tweet_id'].duplicated().value_counts()"
   ]
  },
  {
   "cell_type": "code",
   "execution_count": 685,
   "metadata": {},
   "outputs": [
    {
     "data": {
      "text/plain": [
       "False    1532\n",
       "Name: tweet_id, dtype: int64"
      ]
     },
     "execution_count": 685,
     "metadata": {},
     "output_type": "execute_result"
    }
   ],
   "source": [
    "# Check there are no duplicate tweet_id keys in dataframes, so that merge can be done cleanly\n",
    "dfp_copy['tweet_id'].duplicated().value_counts()"
   ]
  },
  {
   "cell_type": "code",
   "execution_count": 686,
   "metadata": {},
   "outputs": [
    {
     "data": {
      "text/plain": [
       "False    2354\n",
       "Name: tweet_id, dtype: int64"
      ]
     },
     "execution_count": 686,
     "metadata": {},
     "output_type": "execute_result"
    }
   ],
   "source": [
    "# Check there are no duplicate tweet_id keys in dataframes, so that merge can be done cleanly\n",
    "dfm_copy['tweet_id'].duplicated().value_counts()"
   ]
  },
  {
   "cell_type": "code",
   "execution_count": 687,
   "metadata": {},
   "outputs": [
    {
     "data": {
      "text/plain": [
       "numpy.int64"
      ]
     },
     "execution_count": 687,
     "metadata": {},
     "output_type": "execute_result"
    }
   ],
   "source": [
    "# Check tweet_id is in the dame type across dataframe so that merge can be done easily\n",
    "type(dfa_copy['tweet_id'][0])"
   ]
  },
  {
   "cell_type": "code",
   "execution_count": 688,
   "metadata": {},
   "outputs": [
    {
     "data": {
      "text/plain": [
       "numpy.int64"
      ]
     },
     "execution_count": 688,
     "metadata": {},
     "output_type": "execute_result"
    }
   ],
   "source": [
    "# Check tweet_id is in the dame type across dataframe so that merge can be done easily\n",
    "type(dfp_copy['tweet_id'][0])"
   ]
  },
  {
   "cell_type": "code",
   "execution_count": 689,
   "metadata": {},
   "outputs": [
    {
     "data": {
      "text/plain": [
       "str"
      ]
     },
     "execution_count": 689,
     "metadata": {},
     "output_type": "execute_result"
    }
   ],
   "source": [
    "# Check tweet_id is in the dame type across dataframe so that merge can be done easily\n",
    "type(dfm_copy['tweet_id'][0])"
   ]
  },
  {
   "cell_type": "code",
   "execution_count": 690,
   "metadata": {},
   "outputs": [],
   "source": [
    "# convert tweets_ids to strings to join on easily with dfm_copy. String format is preferred as it stop tweet_is treated\n",
    "# as numbers and converted or altered in any future operations.\n",
    "dfa_copy['tweet_id']= dfa_copy['tweet_id'].astype(str)\n",
    "dfp_copy['tweet_id']= dfp_copy['tweet_id'].astype(str)"
   ]
  },
  {
   "cell_type": "code",
   "execution_count": 691,
   "metadata": {},
   "outputs": [],
   "source": [
    "# Remove duplicate column found in dfm_copy and dfa_copy\n",
    "dfm_copy.drop(['source'], axis=1, inplace=True) "
   ]
  },
  {
   "cell_type": "code",
   "execution_count": 692,
   "metadata": {},
   "outputs": [],
   "source": [
    "# merge the 3 dataframes, using inner join\n",
    "df_master = dfa_copy.merge(dfp_copy,on='tweet_id').merge(dfm_copy,on='tweet_id')"
   ]
  },
  {
   "cell_type": "markdown",
   "metadata": {},
   "source": [
    "#### Test"
   ]
  },
  {
   "cell_type": "code",
   "execution_count": 693,
   "metadata": {},
   "outputs": [
    {
     "data": {
      "text/html": [
       "<div>\n",
       "<style scoped>\n",
       "    .dataframe tbody tr th:only-of-type {\n",
       "        vertical-align: middle;\n",
       "    }\n",
       "\n",
       "    .dataframe tbody tr th {\n",
       "        vertical-align: top;\n",
       "    }\n",
       "\n",
       "    .dataframe thead th {\n",
       "        text-align: right;\n",
       "    }\n",
       "</style>\n",
       "<table border=\"1\" class=\"dataframe\">\n",
       "  <thead>\n",
       "    <tr style=\"text-align: right;\">\n",
       "      <th></th>\n",
       "      <th>tweet_id</th>\n",
       "      <th>in_reply_to_status_id</th>\n",
       "      <th>in_reply_to_user_id</th>\n",
       "      <th>timestamp</th>\n",
       "      <th>text</th>\n",
       "      <th>rating_numerator</th>\n",
       "      <th>rating_denominator</th>\n",
       "      <th>name</th>\n",
       "      <th>date</th>\n",
       "      <th>year</th>\n",
       "      <th>...</th>\n",
       "      <th>img_num</th>\n",
       "      <th>confidence</th>\n",
       "      <th>jpg_name</th>\n",
       "      <th>breed</th>\n",
       "      <th>favorite_count</th>\n",
       "      <th>retweet_count</th>\n",
       "      <th>followers_count</th>\n",
       "      <th>friends_count</th>\n",
       "      <th>retweeted_flag</th>\n",
       "      <th>retweeted_status</th>\n",
       "    </tr>\n",
       "  </thead>\n",
       "  <tbody>\n",
       "    <tr>\n",
       "      <th>0</th>\n",
       "      <td>892177421306343426</td>\n",
       "      <td>NaN</td>\n",
       "      <td>NaN</td>\n",
       "      <td>2017-08-01 00:17:27+00:00</td>\n",
       "      <td>This is Tilly. She's just checking pup on you....</td>\n",
       "      <td>13</td>\n",
       "      <td>10</td>\n",
       "      <td>Tilly</td>\n",
       "      <td>2017-08-01</td>\n",
       "      <td>2017</td>\n",
       "      <td>...</td>\n",
       "      <td>1</td>\n",
       "      <td>32.36%</td>\n",
       "      <td>DGGmoV4XsAAUL6n.jpg</td>\n",
       "      <td>Chihuahua</td>\n",
       "      <td>33819</td>\n",
       "      <td>6514</td>\n",
       "      <td>3200889</td>\n",
       "      <td>104</td>\n",
       "      <td>False</td>\n",
       "      <td>original</td>\n",
       "    </tr>\n",
       "    <tr>\n",
       "      <th>1</th>\n",
       "      <td>891815181378084864</td>\n",
       "      <td>NaN</td>\n",
       "      <td>NaN</td>\n",
       "      <td>2017-07-31 00:18:03+00:00</td>\n",
       "      <td>This is Archie. He is a rare Norwegian Pouncin...</td>\n",
       "      <td>12</td>\n",
       "      <td>10</td>\n",
       "      <td>Archie</td>\n",
       "      <td>2017-07-31</td>\n",
       "      <td>2017</td>\n",
       "      <td>...</td>\n",
       "      <td>1</td>\n",
       "      <td>71.60%</td>\n",
       "      <td>DGBdLU1WsAANxJ9.jpg</td>\n",
       "      <td>Chihuahua</td>\n",
       "      <td>25461</td>\n",
       "      <td>4328</td>\n",
       "      <td>3200889</td>\n",
       "      <td>104</td>\n",
       "      <td>False</td>\n",
       "      <td>original</td>\n",
       "    </tr>\n",
       "    <tr>\n",
       "      <th>2</th>\n",
       "      <td>891327558926688256</td>\n",
       "      <td>NaN</td>\n",
       "      <td>NaN</td>\n",
       "      <td>2017-07-29 16:00:24+00:00</td>\n",
       "      <td>This is Franklin. He would like you to stop ca...</td>\n",
       "      <td>12</td>\n",
       "      <td>10</td>\n",
       "      <td>Franklin</td>\n",
       "      <td>2017-07-29</td>\n",
       "      <td>2017</td>\n",
       "      <td>...</td>\n",
       "      <td>2</td>\n",
       "      <td>55.57%</td>\n",
       "      <td>DF6hr6BUMAAzZgT.jpg</td>\n",
       "      <td>Basset</td>\n",
       "      <td>41048</td>\n",
       "      <td>9774</td>\n",
       "      <td>3200889</td>\n",
       "      <td>104</td>\n",
       "      <td>False</td>\n",
       "      <td>original</td>\n",
       "    </tr>\n",
       "    <tr>\n",
       "      <th>3</th>\n",
       "      <td>891087950875897856</td>\n",
       "      <td>NaN</td>\n",
       "      <td>NaN</td>\n",
       "      <td>2017-07-29 00:08:17+00:00</td>\n",
       "      <td>Here we have a majestic great white breaching ...</td>\n",
       "      <td>13</td>\n",
       "      <td>10</td>\n",
       "      <td>None</td>\n",
       "      <td>2017-07-29</td>\n",
       "      <td>2017</td>\n",
       "      <td>...</td>\n",
       "      <td>1</td>\n",
       "      <td>42.56%</td>\n",
       "      <td>DF3HwyEWsAABqE6.jpg</td>\n",
       "      <td>Chesapeake Bay Retriever</td>\n",
       "      <td>20562</td>\n",
       "      <td>3261</td>\n",
       "      <td>3200889</td>\n",
       "      <td>104</td>\n",
       "      <td>False</td>\n",
       "      <td>original</td>\n",
       "    </tr>\n",
       "    <tr>\n",
       "      <th>4</th>\n",
       "      <td>890971913173991426</td>\n",
       "      <td>NaN</td>\n",
       "      <td>NaN</td>\n",
       "      <td>2017-07-28 16:27:12+00:00</td>\n",
       "      <td>Meet Jax. He enjoys ice cream so much he gets ...</td>\n",
       "      <td>13</td>\n",
       "      <td>10</td>\n",
       "      <td>Jax</td>\n",
       "      <td>2017-07-28</td>\n",
       "      <td>2017</td>\n",
       "      <td>...</td>\n",
       "      <td>1</td>\n",
       "      <td>34.17%</td>\n",
       "      <td>DF1eOmZXUAALUcq.jpg</td>\n",
       "      <td>Appenzeller</td>\n",
       "      <td>12041</td>\n",
       "      <td>2158</td>\n",
       "      <td>3200889</td>\n",
       "      <td>104</td>\n",
       "      <td>False</td>\n",
       "      <td>original</td>\n",
       "    </tr>\n",
       "  </tbody>\n",
       "</table>\n",
       "<p>5 rows × 29 columns</p>\n",
       "</div>"
      ],
      "text/plain": [
       "             tweet_id  in_reply_to_status_id  in_reply_to_user_id  \\\n",
       "0  892177421306343426                    NaN                  NaN   \n",
       "1  891815181378084864                    NaN                  NaN   \n",
       "2  891327558926688256                    NaN                  NaN   \n",
       "3  891087950875897856                    NaN                  NaN   \n",
       "4  890971913173991426                    NaN                  NaN   \n",
       "\n",
       "                  timestamp  \\\n",
       "0 2017-08-01 00:17:27+00:00   \n",
       "1 2017-07-31 00:18:03+00:00   \n",
       "2 2017-07-29 16:00:24+00:00   \n",
       "3 2017-07-29 00:08:17+00:00   \n",
       "4 2017-07-28 16:27:12+00:00   \n",
       "\n",
       "                                                text  rating_numerator  \\\n",
       "0  This is Tilly. She's just checking pup on you....                13   \n",
       "1  This is Archie. He is a rare Norwegian Pouncin...                12   \n",
       "2  This is Franklin. He would like you to stop ca...                12   \n",
       "3  Here we have a majestic great white breaching ...                13   \n",
       "4  Meet Jax. He enjoys ice cream so much he gets ...                13   \n",
       "\n",
       "   rating_denominator      name        date  year  ...  img_num  confidence  \\\n",
       "0                  10     Tilly  2017-08-01  2017  ...        1      32.36%   \n",
       "1                  10    Archie  2017-07-31  2017  ...        1      71.60%   \n",
       "2                  10  Franklin  2017-07-29  2017  ...        2      55.57%   \n",
       "3                  10      None  2017-07-29  2017  ...        1      42.56%   \n",
       "4                  10       Jax  2017-07-28  2017  ...        1      34.17%   \n",
       "\n",
       "              jpg_name                     breed  favorite_count  \\\n",
       "0  DGGmoV4XsAAUL6n.jpg                 Chihuahua           33819   \n",
       "1  DGBdLU1WsAANxJ9.jpg                 Chihuahua           25461   \n",
       "2  DF6hr6BUMAAzZgT.jpg                    Basset           41048   \n",
       "3  DF3HwyEWsAABqE6.jpg  Chesapeake Bay Retriever           20562   \n",
       "4  DF1eOmZXUAALUcq.jpg               Appenzeller           12041   \n",
       "\n",
       "   retweet_count  followers_count friends_count retweeted_flag  \\\n",
       "0           6514          3200889           104          False   \n",
       "1           4328          3200889           104          False   \n",
       "2           9774          3200889           104          False   \n",
       "3           3261          3200889           104          False   \n",
       "4           2158          3200889           104          False   \n",
       "\n",
       "   retweeted_status  \n",
       "0          original  \n",
       "1          original  \n",
       "2          original  \n",
       "3          original  \n",
       "4          original  \n",
       "\n",
       "[5 rows x 29 columns]"
      ]
     },
     "execution_count": 693,
     "metadata": {},
     "output_type": "execute_result"
    }
   ],
   "source": [
    "# Check the number for retweeted_status_id is NaN from original dataframe\n",
    "df_master.head(5)"
   ]
  },
  {
   "cell_type": "code",
   "execution_count": 694,
   "metadata": {},
   "outputs": [
    {
     "data": {
      "text/plain": [
       "0"
      ]
     },
     "execution_count": 694,
     "metadata": {},
     "output_type": "execute_result"
    }
   ],
   "source": [
    "# double confirm no retweets are found\n",
    "df_master.query('retweeted_status != \"original\"')['retweeted_status'].count()"
   ]
  },
  {
   "cell_type": "code",
   "execution_count": 695,
   "metadata": {},
   "outputs": [
    {
     "data": {
      "text/plain": [
       "0"
      ]
     },
     "execution_count": 695,
     "metadata": {},
     "output_type": "execute_result"
    }
   ],
   "source": [
    "# double confirm no retweets are found\n",
    "df_master.query('retweeted_flag == True')['retweeted_flag'].count()"
   ]
  },
  {
   "cell_type": "code",
   "execution_count": 696,
   "metadata": {},
   "outputs": [
    {
     "data": {
      "text/plain": [
       "(1477, 29)"
      ]
     },
     "execution_count": 696,
     "metadata": {},
     "output_type": "execute_result"
    }
   ],
   "source": [
    "# 1477 records are produced from the inner join step.\n",
    "df_master.shape"
   ]
  },
  {
   "cell_type": "markdown",
   "metadata": {},
   "source": [
    "## Storing Data\n"
   ]
  },
  {
   "cell_type": "code",
   "execution_count": 707,
   "metadata": {},
   "outputs": [],
   "source": [
    "# Save clean dataframe into csv to a file named: \"twitter_archive_master.csv\"\n",
    "df_master.to_csv('./input_data/twitter_archive_master.csv', sep=',', encoding='utf-8')"
   ]
  },
  {
   "cell_type": "markdown",
   "metadata": {},
   "source": [
    "## Analyzing and Visualizing Data"
   ]
  },
  {
   "cell_type": "code",
   "execution_count": 708,
   "metadata": {},
   "outputs": [],
   "source": [
    "# Read data from the master file if you don't have it loaded:\n",
    "df_master = pd.read_csv('./input_data/twitter_archive_master.csv')"
   ]
  },
  {
   "cell_type": "code",
   "execution_count": 709,
   "metadata": {},
   "outputs": [
    {
     "data": {
      "text/plain": [
       "Charlie    10\n",
       "Cooper     10\n",
       "Oliver      9\n",
       "Tucker      8\n",
       "Lucy        8\n",
       "Sadie       7\n",
       "Penny       7\n",
       "Daisy       7\n",
       "Jax         6\n",
       "Koda        6\n",
       "Name: name, dtype: int64"
      ]
     },
     "execution_count": 709,
     "metadata": {},
     "output_type": "execute_result"
    }
   ],
   "source": [
    "# The 10 most popular dog names\n",
    "# dog names were cleaned by removing the string values 'None' and 'a' and replace them with np.nan, otherwise they would have \n",
    "# appeared in the list below. The cleaning work we did earlier gave us an immediate clean list of dog names. \n",
    "df_master['name'].value_counts().head(10)"
   ]
  },
  {
   "cell_type": "code",
   "execution_count": 699,
   "metadata": {},
   "outputs": [
    {
     "data": {
      "text/plain": [
       "pupper           144\n",
       "doggo             48\n",
       "puppo             19\n",
       "doggo|pupper       8\n",
       "floofer            7\n",
       "doggo|floofer      1\n",
       "doggo|puppo        1\n",
       "Name: type, dtype: int64"
      ]
     },
     "execution_count": 699,
     "metadata": {},
     "output_type": "execute_result"
    }
   ],
   "source": [
    "# The 10 most popular dog types\n",
    "# dog types were cleaned by removing the string value 'None' and replacing them with np.nan, otherwise they would have \n",
    "# appeared in the list below. Also, by combining the different columns in one column allows to easily in one line to\n",
    "# obtain a clean list of dog names.\n",
    "df_master['type'].value_counts().head(10)"
   ]
  },
  {
   "cell_type": "code",
   "execution_count": 700,
   "metadata": {},
   "outputs": [
    {
     "data": {
      "text/plain": [
       "Golden Retriever      139\n",
       "Labrador Retriever     95\n",
       "Pembroke               88\n",
       "Chihuahua              79\n",
       "Pug                    54\n",
       "Chow                   41\n",
       "Samoyed                40\n",
       "Pomeranian             38\n",
       "Toy Poodle             38\n",
       "Malamute               29\n",
       "Name: breed, dtype: int64"
      ]
     },
     "execution_count": 700,
     "metadata": {},
     "output_type": "execute_result"
    }
   ],
   "source": [
    "# The 10 most popular dog breeds\n",
    "# dog breed column was cleaned by removing \"_\" and capitalising English names, which made the list much neater and easier\n",
    "# to read as we can see below.\n",
    "df_master['breed'].value_counts().head(10)"
   ]
  },
  {
   "cell_type": "markdown",
   "metadata": {},
   "source": [
    "### Insights:\n",
    "1. Charlie, and Coppere are the most popular dog names\n",
    "\n",
    "2. Pupper is by far the most dog type\n",
    "\n",
    "3. Golden Retriever is by far the most popular dog breed"
   ]
  },
  {
   "cell_type": "markdown",
   "metadata": {},
   "source": [
    "### Visualization"
   ]
  },
  {
   "cell_type": "code",
   "execution_count": 715,
   "metadata": {},
   "outputs": [
    {
     "data": {
      "image/png": "[encoded data removed]",
      "text/plain": [
       "<Figure size 864x288 with 1 Axes>"
      ]
     },
     "metadata": {
      "needs_background": "light"
     },
     "output_type": "display_data"
    }
   ],
   "source": [
    "# 6 am is by far the most popular time for tweeting about dog rating\n",
    "\n",
    "# Having extracted the time data from the timestamp string\n",
    "fig, axs = plt.subplots(figsize=(12, 4))\n",
    "\n",
    "df_master.groupby(df_master[\"hour\"])[\"retweet_count\"].mean().plot(\n",
    "    kind='bar', rot=0, ax=axs)\n",
    "\n",
    "plt.xlabel(\"Hour of the day\");  # custom x label using Matplotlib\n",
    "\n",
    "plt.ylabel(\"Mean retweet count\");\n",
    "\n",
    "plt.title(\"Mean Retweet Count by Hour of Day\")\n",
    "\n",
    "plt.savefig('./img/retweet-count-viz.png')\n",
    "plt.show()"
   ]
  },
  {
   "cell_type": "code",
   "execution_count": 728,
   "metadata": {},
   "outputs": [
    {
     "data": {
      "image/png": "[encoded data removed]",
      "text/plain": [
       "<Figure size 864x288 with 1 Axes>"
      ]
     },
     "metadata": {
      "needs_background": "light"
     },
     "output_type": "display_data"
    }
   ],
   "source": [
    "# 6 am is by far the most popular time for favoring dog tweets.\n",
    "\n",
    "fig, axs = plt.subplots(figsize=(12, 4))\n",
    "\n",
    "df_master.groupby(df_master[\"hour\"])[\"favorite_count\"].mean().plot(\n",
    "    kind='bar', rot=0, ax=axs)\n",
    "\n",
    "plt.xlabel(\"Hour of the day\");  # custom x label using Matplotlib\n",
    "\n",
    "plt.ylabel(\"Mean favorite count\");\n",
    "\n",
    "plt.title(\"Mean Favourite Count by Hour of Day\");\n",
    "\n",
    "plt.savefig('./img/favorite-count-viz.png')\n",
    "plt.show()"
   ]
  },
  {
   "cell_type": "code",
   "execution_count": 713,
   "metadata": {},
   "outputs": [
    {
     "data": {
      "image/png": "[encoded data removed]",
      "text/plain": [
       "<Figure size 864x288 with 1 Axes>"
      ]
     },
     "metadata": {
      "needs_background": "light"
     },
     "output_type": "display_data"
    }
   ],
   "source": [
    "# 6 am is the time where the highest average rating is given to dogs.\n",
    "\n",
    "# note: had I had time to clean the rating denominators and rating numerator, the plot below would have been much simplier and \n",
    "# I would have not had to resolve to using the quantile for removing outliers. none the less, here is the plot\n",
    "# This is a good example of how cleaning data before hand makes easier to wrangle, plot, and work with!\n",
    "\n",
    "q_lo = df_master[\"rating_numerator\"].quantile(0.01)\n",
    "q_hi = df_master[\"rating_numerator\"].quantile(0.99)\n",
    "\n",
    "fig, axs = plt.subplots(figsize=(12, 4))\n",
    "\n",
    "df_master.query('(rating_denominator) == 10 & (rating_numerator > @q_lo) &(rating_numerator < @q_hi)').groupby(df_master[\"hour\"])[\"rating_numerator\"].median().plot(\n",
    "    kind='bar', rot=0, ax=axs)\n",
    "\n",
    "plt.xlabel(\"Hour of the day\");  # custom x label using Matplotlib\n",
    "\n",
    "plt.ylabel(\"Mean rating numerator\");\n",
    "\n",
    "plt.title(\"Mean Rating Numerator by Hour of Day\");\n",
    "\n",
    "plt.savefig('./img/rating-numerator-viz.png')\n",
    "plt.show()"
   ]
  },
  {
   "cell_type": "code",
   "execution_count": 732,
   "metadata": {},
   "outputs": [
    {
     "data": {
      "image/png": "[encoded data removed]",
      "text/plain": [
       "<Figure size 864x288 with 1 Axes>"
      ]
     },
     "metadata": {
      "needs_background": "light"
     },
     "output_type": "display_data"
    }
   ],
   "source": [
    "# top Dog Names\n",
    "\n",
    "df_temp = df_master['name'].value_counts().head(10).reset_index()\n",
    "df_temp.rename(columns={'index': 'name', 'name': 'count'}, inplace=True)\n",
    "\n",
    "fig, axs = plt.subplots(figsize=(12, 4))\n",
    "\n",
    "df_temp.plot(x='name', y='count', kind='bar', rot=0, ax=axs)\n",
    "\n",
    "plt.xlabel(\"Dog Names\");  # custom x label using Matplotlib\n",
    "\n",
    "plt.ylabel(\"Count of Dog Names\");\n",
    "\n",
    "plt.title(\"Top Dog Names\");\n",
    "\n",
    "plt.savefig('./img/Dog-names-count-viz.png')\n",
    "plt.show()"
   ]
  },
  {
   "cell_type": "code",
   "execution_count": 730,
   "metadata": {},
   "outputs": [
    {
     "data": {
      "image/png": "[encoded data removed]",
      "text/plain": [
       "<Figure size 864x288 with 1 Axes>"
      ]
     },
     "metadata": {
      "needs_background": "light"
     },
     "output_type": "display_data"
    }
   ],
   "source": [
    "# top Dog Names\n",
    "\n",
    "df_temp = df_master['type'].value_counts().head(10).reset_index()\n",
    "df_temp.rename(columns={'index': 'type', 'type': 'count'}, inplace=True)\n",
    "\n",
    "fig, axs = plt.subplots(figsize=(12, 4))\n",
    "\n",
    "df_temp.plot(x='type', y='count', kind='bar', rot=0, ax=axs)\n",
    "\n",
    "plt.xlabel(\"Dog Types\");  # custom x label using Matplotlib\n",
    "\n",
    "plt.ylabel(\"Count of Dog Types\");\n",
    "\n",
    "plt.title(\"Top 10 Dog Types\");\n",
    "\n",
    "plt.savefig('./img/Dog-types-count-viz.png')\n",
    "plt.show()"
   ]
  },
  {
   "cell_type": "code",
   "execution_count": 735,
   "metadata": {},
   "outputs": [
    {
     "data": {
      "image/png": "[encoded data removed]",
      "text/plain": [
       "<Figure size 864x288 with 1 Axes>"
      ]
     },
     "metadata": {
      "needs_background": "light"
     },
     "output_type": "display_data"
    }
   ],
   "source": [
    "# top Dog Names\n",
    "\n",
    "df_temp = df_master['breed'].value_counts().head(10).reset_index()\n",
    "df_temp.rename(columns={'index': 'breed', 'breed': 'count'}, inplace=True)\n",
    "\n",
    "fig, axs = plt.subplots(figsize=(12, 4))\n",
    "\n",
    "df_temp.plot(x='breed', y='count', kind='bar', rot=0, ax=axs)\n",
    "\n",
    "plt.xlabel(\"Dog Breeds\");  # custom x label using Matplotlib\n",
    "\n",
    "plt.ylabel(\"Count of Dog Breeds\");\n",
    "\n",
    "plt.title(\"Top 10 Dog Breeds\");\n",
    "\n",
    "plt.xticks(rotation=10)\n",
    "\n",
    "plt.savefig('./img/Dog-breed-count-viz.png')\n",
    "plt.show()"
   ]
  },
  {
   "cell_type": "code",
   "execution_count": null,
   "metadata": {},
   "outputs": [],
   "source": []
  }
 ],
 "metadata": {
  "extensions": {
   "jupyter_dashboards": {
    "activeView": "report_default",
    "version": 1,
    "views": {
     "grid_default": {
      "cellMargin": 10,
      "defaultCellHeight": 20,
      "maxColumns": 12,
      "name": "grid",
      "type": "grid"
     },
     "report_default": {
      "name": "report",
      "type": "report"
     }
    }
   }
  },
  "kernelspec": {
   "display_name": "Python 3",
   "language": "python",
   "name": "python3"
  },
  "language_info": {
   "codemirror_mode": {
    "name": "ipython",
    "version": 3
   },
   "file_extension": ".py",
   "mimetype": "text/x-python",
   "name": "python",
   "nbconvert_exporter": "python",
   "pygments_lexer": "ipython3",
   "version": "3.8.5"
  }
 },
 "nbformat": 4,
 "nbformat_minor": 4
}
